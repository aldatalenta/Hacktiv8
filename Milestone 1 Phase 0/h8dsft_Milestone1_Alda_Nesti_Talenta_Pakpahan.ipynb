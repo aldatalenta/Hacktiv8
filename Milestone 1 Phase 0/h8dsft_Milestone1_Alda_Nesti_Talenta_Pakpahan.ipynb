{
  "nbformat": 4,
  "nbformat_minor": 0,
  "metadata": {
    "colab": {
      "provenance": [],
      "collapsed_sections": [
        "IRpR1kVjN7sV",
        "tUqPF__gN-eP",
        "k82ZXoHVPr68",
        "bekwytF6Qbbw",
        "TItUq4ZJQfsJ",
        "VoKs_4joQjKr",
        "JoWhCD5tow6W",
        "kTiZbdFYpJb8",
        "-EP2Syn6OZj6",
        "aTuMEKOTOc2F",
        "aFKa1exO0YS5",
        "9F3rdh5WcOpO",
        "J_g3OmwvdsBj",
        "wn-qS1p_OghK",
        "GhCIeK6slH9G",
        "b0YpxfkRn3-r",
        "mfIIQhpN4fhH",
        "GGe_o0-7DPMt",
        "ajr7iIWqDxvj",
        "aS1MzvT-D1tZ",
        "8GJ60vmPD4qN",
        "ltLEWqzKD-bF",
        "RTViPpTIWA-v",
        "1j6WHN3_5okn",
        "JQmkb-DLZ5-J",
        "TvwHxwvyazO9",
        "laXwFpHAbJlz",
        "OtSGJRloidN0",
        "9KmQbR5jwpuP",
        "vwr02yoy4rlb",
        "RorJqSBLE33f",
        "EmA2umAktHqd",
        "53QzbuL_D2Tm",
        "TGlsqJfpQZXd",
        "j7_cmZtMQcRT",
        "mJVjxgdUO-4S"
      ]
    },
    "kernelspec": {
      "name": "python3",
      "display_name": "Python 3"
    },
    "language_info": {
      "name": "python"
    }
  },
  "cells": [
    {
      "cell_type": "markdown",
      "source": [
        "# **Milestone 1**"
      ],
      "metadata": {
        "id": "eybcojKTN2RN"
      }
    },
    {
      "cell_type": "markdown",
      "source": [
        "# Link Dashboard\n",
        "Klik link [berikut](https://datastudio.google.com/reporting/99f2707b-15e2-4a50-a514-0f5d15ae0c91) untuk langsung menuju ke dashboard."
      ],
      "metadata": {
        "id": "GZ6qO4vd4Zyv"
      }
    },
    {
      "cell_type": "markdown",
      "source": [
        "# i. Introduction"
      ],
      "metadata": {
        "id": "IRpR1kVjN7sV"
      }
    },
    {
      "cell_type": "markdown",
      "source": [
        "## Identity\n",
        "\n",
        "### Alda Nesti Talenta Pakpahan <br>\n",
        "### RMT - 017"
      ],
      "metadata": {
        "id": "wty_-6cBPVo6"
      }
    },
    {
      "cell_type": "markdown",
      "source": [
        "# ii. Problem Identify"
      ],
      "metadata": {
        "id": "tUqPF__gN-eP"
      }
    },
    {
      "cell_type": "markdown",
      "source": [
        "## ii.1 Topik permasalahan"
      ],
      "metadata": {
        "id": "k82ZXoHVPr68"
      }
    },
    {
      "cell_type": "markdown",
      "source": [
        "Topik permasalahan yang akan dibahas dalam notebook ini adalah ***Customer Churn***."
      ],
      "metadata": {
        "id": "OxNbWhSoQwGk"
      }
    },
    {
      "cell_type": "markdown",
      "source": [
        "## ii.2 Problem statement"
      ],
      "metadata": {
        "id": "bekwytF6Qbbw"
      }
    },
    {
      "cell_type": "markdown",
      "source": [
        "Problem statement: <br>\n",
        "PT Bank TRX ingin **mengurangi angka churn rate** (persentase pelanggan yang berhenti menggunakan produk/layanan dan beralih ke kompetitor) **tidak lebih dari 20% di 1 tahun kedepan.**"
      ],
      "metadata": {
        "id": "bsbCPE2HVApD"
      }
    },
    {
      "cell_type": "markdown",
      "source": [
        "## ii.3 Latar belakang"
      ],
      "metadata": {
        "id": "TItUq4ZJQfsJ"
      }
    },
    {
      "cell_type": "markdown",
      "source": [
        "*Customer churn rate* merupakan persentase konsumen yang berhenti menggunakan layanan atau produk dalam suatu bisnis di quarter tertentu. Persentase pelanggan yang hilang tersebut berpengaruh terhadap *growth rate* perusahaan. *Churn rate* yang tinggi dapat berdampak negatif pada *Monthly Recurring Revenue* (MRR) dan juga dapat menunjukkan ketidakpuasan terhadap suatu produk atau layanan. Sehingga *churn rate* ini merupakan suatu hal penting yang harus diperhatikan dan bahkan saat ini menjadi alasan utama bagi PT Bank TRX untuk mengurangi angka *customer churn rate* tersebut.<br>\n",
        "\n",
        "Dalam hal ini, Divisi Marketing di perusahaan ini ingin menerapkan strategi apa yang relevan terhadap karakteristik nasabah yang berpotensi *churn* agar strategi tersebut bisa tepat sasaran sehingga tidak membuang banyak waktu, tenaga, dan biaya. Divisi ini juga ingin mengetahui 3 daftar negara dari yang mempunyai angka *churn* tertinggi untuk membuat *time-bound* menjalankan strategi dalam 1 tahun kedepan. Target mereka adalah mengurangi angka *churn rate* sebesar 2% untuk masing-masing negara dalam waktu 4 bulan pertama di negara tertinggi pertama, 4 bulan berikutnya di negara tertinggi kedua dan 4 bulan berikutnya lagi di negara tertinggi ketiga.<br>\n",
        "\n",
        "Oleh karena itu, Saya sebagai seorang Data Analyst di perusahaan ini diminta untuk mencari tahu karakteristik nasabah-nasabah seperti apa yang berkemungkinan *churn* yakni nasabah yang tidak akan menggunakan produk & layanan kita lagi. Dengan mempelajari data nasabah seperti data demografi, data transaksi, dan data kepemilikan produk maka perusahaan dapat memprediksi nasabah yang akan *churn* dan melakukan tindakan pencegahan agar nasabah tersebut tidak berhenti untuk menggunakan produk & jasa dari perusahaan ini.<br>\n",
        "\n",
        "Untuk mempermudah Saya dalam melakukan Exploratory Data Analysis guna mengenal lebih dalam pola dari data nasabah tersebut dan untuk menjawab karakter seperti apa yang akan menentukan nasabah tersebut akan churn/tidak, maka ada beberapa poin penjabaran masalah di bawah ini yang perlu di analisis menggunakan metode statistik dan data visualisasi serta menampilkannya dalam dashboard visualisasi data."
      ],
      "metadata": {
        "id": "m5upc-ylr7LO"
      }
    },
    {
      "cell_type": "markdown",
      "source": [
        "## ii.4 Penjabaran masalah"
      ],
      "metadata": {
        "id": "VoKs_4joQjKr"
      }
    },
    {
      "cell_type": "markdown",
      "source": [
        "### Poin penjabaran visualisasi data"
      ],
      "metadata": {
        "id": "JoWhCD5tow6W"
      }
    },
    {
      "cell_type": "markdown",
      "source": [
        "1) Berapa persentase persebaran data dari masing-masing nasabah yang churned dan retained berdasarkan seluruh data?<br>\n",
        "2) Bagaimana karakteristik yang menonjol dari kelompok nasabah yang churn? Kemudian, urutkan juga 3 negara dari yang potensi churnnya tertinggi untuk menjadi negara prioritas yang diatasi terlebih dahulu.<br>\n",
        "3) Berdasarkan dari variabel yang kontinyu, apakah ada informasi tambahan yang mengacu pada karakteristik nasabah yang churn?<br>\n",
        "4) Divisi Marketing ingin meninjau kembali strategi retensi di antara kelompok usia yang berbeda. Carilah range umur yang signifikan mengacu pada nasabah yang churn dan retain, agar strategi lebih tepat sasaran."
      ],
      "metadata": {
        "id": "A4FmSeJopbjE"
      }
    },
    {
      "cell_type": "markdown",
      "source": [
        "### Poin penjabaran analisis statistik"
      ],
      "metadata": {
        "id": "kTiZbdFYpJb8"
      }
    },
    {
      "cell_type": "markdown",
      "source": [
        "5) Pada poin nomor 4 sudah mendapatkan range umur nasabah yang signifikan churn dari data keseluruhan. Silakan gunakan data yang sama untuk mendeteksi outlier pada kolom *Age*, kemudian lanjutkan untuk menjawab poin nomor 6.<br>\n",
        "6) Gunakan data Age yang tidak ada outlier. Berikan analisa dan saran terkait berapa range umur nasabah yang cocok untuk strategi retensi nasabah yang churn dan retain.<br>\n",
        "7) Lakukan uji independensi antara dua data kategorikal menggunakan Chi-square untuk mengetahui hubungan antar variabel dengan churn. Yang mana kolom yang signifikan dengan kolom Exited?"
      ],
      "metadata": {
        "id": "8rLLohTMpeU9"
      }
    },
    {
      "cell_type": "markdown",
      "source": [
        "# iii. Import Required Libraries"
      ],
      "metadata": {
        "id": "-EP2Syn6OZj6"
      }
    },
    {
      "cell_type": "code",
      "source": [
        "## REQUIRED LIBRARIES\n",
        "\n",
        "# For data wrangling \n",
        "import numpy as np\n",
        "import pandas as pd\n",
        "\n",
        "# For visualization\n",
        "import matplotlib.pyplot as plt\n",
        "%matplotlib inline\n",
        "import seaborn as sns\n",
        "\n",
        "# For statistical analysis\n",
        "import scipy.stats as stats\n",
        "from scipy.stats import mannwhitneyu\n",
        "from prettytable import PrettyTable\n",
        "import scipy"
      ],
      "metadata": {
        "id": "tPC0qxWyaxuf"
      },
      "execution_count": 3,
      "outputs": []
    },
    {
      "cell_type": "markdown",
      "source": [
        "# iv. Data Loading"
      ],
      "metadata": {
        "id": "aTuMEKOTOc2F"
      }
    },
    {
      "cell_type": "markdown",
      "source": [
        "## iv.1 Deskripsi dataset \"Bank Customer Churn Prediction\""
      ],
      "metadata": {
        "id": "aFKa1exO0YS5"
      }
    },
    {
      "cell_type": "markdown",
      "source": [
        "* Pada Milestone 1 ini, dataset diakses menggunakan `Kaggle` dan berformat `.csv`.\n",
        "* Klik link [berikut](https://www.kaggle.com/datasets/sonalidasgupta95/churn-prediction-of-bank-customers?select=Churn_Modelling.csv) untuk langsung menuju ke dataset.<br>\n",
        "* Overview:<br>\n",
        "Dataset ini berisi data nasabah bank dan variabel target adalah variabel biner yang mencerminkan fakta apakah nasabah meninggalkan bank (menutup rekeningnya) atau tetap menjadi nasabah.\n",
        "* Field Description: <br>\n",
        "\n",
        "Header | Definition\n",
        "---|---\n",
        "`RowNumber`| Row Numbers from 1 to 10000.\n",
        "`CustomerId`| Unique Ids for bank customer identification.\n",
        "`Surname`| Customer's last name.\n",
        "`CreditScore`| Credit score of the customer.\n",
        "`Geography`| The country from which the customer belongs.\n",
        "`Gender`| Male or Female.\n",
        "`Age`| Age of the customer.\n",
        "`Tenure`| Number of years for which the customer has been with the bank.\n",
        "`Balance`| Bank balance of the customer.\n",
        "`NumOfProducts`| Number of bank products the customer is utilising.\n",
        "`HasCrCard`| Binary Flag for whether the customer holds a credit card with the bank or not.\n",
        "`IsActiveMember`| Binary Flag for whether the customer is an active member with the bank or not.\n",
        "`EstimatedSalary`| Estimated salary of the customer in Dollars.\n",
        "`Exited`| Binary flag 1 if the customer closed account with bank and 0 if the customer is retained.\n",
        "\n",
        "> Target Column Description: Exited is a class label used to divide into groups (customer closed account or not).\n",
        "\n",
        "\n",
        "Dataset source: `Kaggle`."
      ],
      "metadata": {
        "id": "d0oHdnK52GyJ"
      }
    },
    {
      "cell_type": "markdown",
      "source": [
        "## iv.2 Mounting Google Drive\n",
        "\n",
        "Pada step ini Saya ingin mengimport file *Churn_Modelling.csv* dari folder *dataset churn prediction of bank customers*. <br>\n",
        "File ini berlokasi di **MyDrive/dataset churn prediction of bank customers/Churn_Modelling.csv**. <br>"
      ],
      "metadata": {
        "id": "9F3rdh5WcOpO"
      }
    },
    {
      "cell_type": "code",
      "source": [
        "# Mounting Google Drive\n",
        "from google.colab import drive\n",
        "drive.mount('/content/drive')"
      ],
      "metadata": {
        "colab": {
          "base_uri": "https://localhost:8080/"
        },
        "id": "Hd7oNebxceKd",
        "outputId": "63cf4263-9fbd-42f7-b5df-727378be6a1d"
      },
      "execution_count": 4,
      "outputs": [
        {
          "output_type": "stream",
          "name": "stdout",
          "text": [
            "Mounted at /content/drive\n"
          ]
        }
      ]
    },
    {
      "cell_type": "code",
      "source": [
        "# Import os and copy the directory path containing the file to be imported\n",
        "import os\n",
        "myDirFiles = \"/content/drive/MyDrive/dataset churn prediction of bank customers\"\n",
        "os.chdir(myDirFiles)"
      ],
      "metadata": {
        "id": "jpLSjrzccj4p"
      },
      "execution_count": 5,
      "outputs": []
    },
    {
      "cell_type": "code",
      "source": [
        "# Double-check whether the drive folder is properly mounted to colab.\n",
        "!ls"
      ],
      "metadata": {
        "colab": {
          "base_uri": "https://localhost:8080/"
        },
        "id": "x7GQTqZFc3c9",
        "outputId": "0e6ac827-e344-4a54-dc59-30a826c2b617"
      },
      "execution_count": 6,
      "outputs": [
        {
          "output_type": "stream",
          "name": "stdout",
          "text": [
            "Churn_Modelling.csv\n"
          ]
        }
      ]
    },
    {
      "cell_type": "markdown",
      "source": [
        "## iv.3 Getting to know the dataset"
      ],
      "metadata": {
        "id": "J_g3OmwvdsBj"
      }
    },
    {
      "cell_type": "code",
      "source": [
        "# Load the data\n",
        "df = pd.read_csv('/content/drive/MyDrive/dataset churn prediction of bank customers/Churn_Modelling.csv')\n",
        "df"
      ],
      "metadata": {
        "colab": {
          "base_uri": "https://localhost:8080/",
          "height": 424
        },
        "id": "3VxHv6MUeWEK",
        "outputId": "97dae46c-631f-4d14-deeb-201ef67c91e8"
      },
      "execution_count": 7,
      "outputs": [
        {
          "output_type": "execute_result",
          "data": {
            "text/plain": [
              "      RowNumber  CustomerId    Surname  CreditScore Geography  Gender  Age  \\\n",
              "0             1    15634602   Hargrave          619    France  Female   42   \n",
              "1             2    15647311       Hill          608     Spain  Female   41   \n",
              "2             3    15619304       Onio          502    France  Female   42   \n",
              "3             4    15701354       Boni          699    France  Female   39   \n",
              "4             5    15737888   Mitchell          850     Spain  Female   43   \n",
              "...         ...         ...        ...          ...       ...     ...  ...   \n",
              "9995       9996    15606229   Obijiaku          771    France    Male   39   \n",
              "9996       9997    15569892  Johnstone          516    France    Male   35   \n",
              "9997       9998    15584532        Liu          709    France  Female   36   \n",
              "9998       9999    15682355  Sabbatini          772   Germany    Male   42   \n",
              "9999      10000    15628319     Walker          792    France  Female   28   \n",
              "\n",
              "      Tenure    Balance  NumOfProducts  HasCrCard  IsActiveMember  \\\n",
              "0          2       0.00              1          1               1   \n",
              "1          1   83807.86              1          0               1   \n",
              "2          8  159660.80              3          1               0   \n",
              "3          1       0.00              2          0               0   \n",
              "4          2  125510.82              1          1               1   \n",
              "...      ...        ...            ...        ...             ...   \n",
              "9995       5       0.00              2          1               0   \n",
              "9996      10   57369.61              1          1               1   \n",
              "9997       7       0.00              1          0               1   \n",
              "9998       3   75075.31              2          1               0   \n",
              "9999       4  130142.79              1          1               0   \n",
              "\n",
              "      EstimatedSalary  Exited  \n",
              "0           101348.88       1  \n",
              "1           112542.58       0  \n",
              "2           113931.57       1  \n",
              "3            93826.63       0  \n",
              "4            79084.10       0  \n",
              "...               ...     ...  \n",
              "9995         96270.64       0  \n",
              "9996        101699.77       0  \n",
              "9997         42085.58       1  \n",
              "9998         92888.52       1  \n",
              "9999         38190.78       0  \n",
              "\n",
              "[10000 rows x 14 columns]"
            ],
            "text/html": [
              "\n",
              "  <div id=\"df-db67828b-ecb3-434c-8214-6cc9d01fb9aa\">\n",
              "    <div class=\"colab-df-container\">\n",
              "      <div>\n",
              "<style scoped>\n",
              "    .dataframe tbody tr th:only-of-type {\n",
              "        vertical-align: middle;\n",
              "    }\n",
              "\n",
              "    .dataframe tbody tr th {\n",
              "        vertical-align: top;\n",
              "    }\n",
              "\n",
              "    .dataframe thead th {\n",
              "        text-align: right;\n",
              "    }\n",
              "</style>\n",
              "<table border=\"1\" class=\"dataframe\">\n",
              "  <thead>\n",
              "    <tr style=\"text-align: right;\">\n",
              "      <th></th>\n",
              "      <th>RowNumber</th>\n",
              "      <th>CustomerId</th>\n",
              "      <th>Surname</th>\n",
              "      <th>CreditScore</th>\n",
              "      <th>Geography</th>\n",
              "      <th>Gender</th>\n",
              "      <th>Age</th>\n",
              "      <th>Tenure</th>\n",
              "      <th>Balance</th>\n",
              "      <th>NumOfProducts</th>\n",
              "      <th>HasCrCard</th>\n",
              "      <th>IsActiveMember</th>\n",
              "      <th>EstimatedSalary</th>\n",
              "      <th>Exited</th>\n",
              "    </tr>\n",
              "  </thead>\n",
              "  <tbody>\n",
              "    <tr>\n",
              "      <th>0</th>\n",
              "      <td>1</td>\n",
              "      <td>15634602</td>\n",
              "      <td>Hargrave</td>\n",
              "      <td>619</td>\n",
              "      <td>France</td>\n",
              "      <td>Female</td>\n",
              "      <td>42</td>\n",
              "      <td>2</td>\n",
              "      <td>0.00</td>\n",
              "      <td>1</td>\n",
              "      <td>1</td>\n",
              "      <td>1</td>\n",
              "      <td>101348.88</td>\n",
              "      <td>1</td>\n",
              "    </tr>\n",
              "    <tr>\n",
              "      <th>1</th>\n",
              "      <td>2</td>\n",
              "      <td>15647311</td>\n",
              "      <td>Hill</td>\n",
              "      <td>608</td>\n",
              "      <td>Spain</td>\n",
              "      <td>Female</td>\n",
              "      <td>41</td>\n",
              "      <td>1</td>\n",
              "      <td>83807.86</td>\n",
              "      <td>1</td>\n",
              "      <td>0</td>\n",
              "      <td>1</td>\n",
              "      <td>112542.58</td>\n",
              "      <td>0</td>\n",
              "    </tr>\n",
              "    <tr>\n",
              "      <th>2</th>\n",
              "      <td>3</td>\n",
              "      <td>15619304</td>\n",
              "      <td>Onio</td>\n",
              "      <td>502</td>\n",
              "      <td>France</td>\n",
              "      <td>Female</td>\n",
              "      <td>42</td>\n",
              "      <td>8</td>\n",
              "      <td>159660.80</td>\n",
              "      <td>3</td>\n",
              "      <td>1</td>\n",
              "      <td>0</td>\n",
              "      <td>113931.57</td>\n",
              "      <td>1</td>\n",
              "    </tr>\n",
              "    <tr>\n",
              "      <th>3</th>\n",
              "      <td>4</td>\n",
              "      <td>15701354</td>\n",
              "      <td>Boni</td>\n",
              "      <td>699</td>\n",
              "      <td>France</td>\n",
              "      <td>Female</td>\n",
              "      <td>39</td>\n",
              "      <td>1</td>\n",
              "      <td>0.00</td>\n",
              "      <td>2</td>\n",
              "      <td>0</td>\n",
              "      <td>0</td>\n",
              "      <td>93826.63</td>\n",
              "      <td>0</td>\n",
              "    </tr>\n",
              "    <tr>\n",
              "      <th>4</th>\n",
              "      <td>5</td>\n",
              "      <td>15737888</td>\n",
              "      <td>Mitchell</td>\n",
              "      <td>850</td>\n",
              "      <td>Spain</td>\n",
              "      <td>Female</td>\n",
              "      <td>43</td>\n",
              "      <td>2</td>\n",
              "      <td>125510.82</td>\n",
              "      <td>1</td>\n",
              "      <td>1</td>\n",
              "      <td>1</td>\n",
              "      <td>79084.10</td>\n",
              "      <td>0</td>\n",
              "    </tr>\n",
              "    <tr>\n",
              "      <th>...</th>\n",
              "      <td>...</td>\n",
              "      <td>...</td>\n",
              "      <td>...</td>\n",
              "      <td>...</td>\n",
              "      <td>...</td>\n",
              "      <td>...</td>\n",
              "      <td>...</td>\n",
              "      <td>...</td>\n",
              "      <td>...</td>\n",
              "      <td>...</td>\n",
              "      <td>...</td>\n",
              "      <td>...</td>\n",
              "      <td>...</td>\n",
              "      <td>...</td>\n",
              "    </tr>\n",
              "    <tr>\n",
              "      <th>9995</th>\n",
              "      <td>9996</td>\n",
              "      <td>15606229</td>\n",
              "      <td>Obijiaku</td>\n",
              "      <td>771</td>\n",
              "      <td>France</td>\n",
              "      <td>Male</td>\n",
              "      <td>39</td>\n",
              "      <td>5</td>\n",
              "      <td>0.00</td>\n",
              "      <td>2</td>\n",
              "      <td>1</td>\n",
              "      <td>0</td>\n",
              "      <td>96270.64</td>\n",
              "      <td>0</td>\n",
              "    </tr>\n",
              "    <tr>\n",
              "      <th>9996</th>\n",
              "      <td>9997</td>\n",
              "      <td>15569892</td>\n",
              "      <td>Johnstone</td>\n",
              "      <td>516</td>\n",
              "      <td>France</td>\n",
              "      <td>Male</td>\n",
              "      <td>35</td>\n",
              "      <td>10</td>\n",
              "      <td>57369.61</td>\n",
              "      <td>1</td>\n",
              "      <td>1</td>\n",
              "      <td>1</td>\n",
              "      <td>101699.77</td>\n",
              "      <td>0</td>\n",
              "    </tr>\n",
              "    <tr>\n",
              "      <th>9997</th>\n",
              "      <td>9998</td>\n",
              "      <td>15584532</td>\n",
              "      <td>Liu</td>\n",
              "      <td>709</td>\n",
              "      <td>France</td>\n",
              "      <td>Female</td>\n",
              "      <td>36</td>\n",
              "      <td>7</td>\n",
              "      <td>0.00</td>\n",
              "      <td>1</td>\n",
              "      <td>0</td>\n",
              "      <td>1</td>\n",
              "      <td>42085.58</td>\n",
              "      <td>1</td>\n",
              "    </tr>\n",
              "    <tr>\n",
              "      <th>9998</th>\n",
              "      <td>9999</td>\n",
              "      <td>15682355</td>\n",
              "      <td>Sabbatini</td>\n",
              "      <td>772</td>\n",
              "      <td>Germany</td>\n",
              "      <td>Male</td>\n",
              "      <td>42</td>\n",
              "      <td>3</td>\n",
              "      <td>75075.31</td>\n",
              "      <td>2</td>\n",
              "      <td>1</td>\n",
              "      <td>0</td>\n",
              "      <td>92888.52</td>\n",
              "      <td>1</td>\n",
              "    </tr>\n",
              "    <tr>\n",
              "      <th>9999</th>\n",
              "      <td>10000</td>\n",
              "      <td>15628319</td>\n",
              "      <td>Walker</td>\n",
              "      <td>792</td>\n",
              "      <td>France</td>\n",
              "      <td>Female</td>\n",
              "      <td>28</td>\n",
              "      <td>4</td>\n",
              "      <td>130142.79</td>\n",
              "      <td>1</td>\n",
              "      <td>1</td>\n",
              "      <td>0</td>\n",
              "      <td>38190.78</td>\n",
              "      <td>0</td>\n",
              "    </tr>\n",
              "  </tbody>\n",
              "</table>\n",
              "<p>10000 rows × 14 columns</p>\n",
              "</div>\n",
              "      <button class=\"colab-df-convert\" onclick=\"convertToInteractive('df-db67828b-ecb3-434c-8214-6cc9d01fb9aa')\"\n",
              "              title=\"Convert this dataframe to an interactive table.\"\n",
              "              style=\"display:none;\">\n",
              "        \n",
              "  <svg xmlns=\"http://www.w3.org/2000/svg\" height=\"24px\"viewBox=\"0 0 24 24\"\n",
              "       width=\"24px\">\n",
              "    <path d=\"M0 0h24v24H0V0z\" fill=\"none\"/>\n",
              "    <path d=\"M18.56 5.44l.94 2.06.94-2.06 2.06-.94-2.06-.94-.94-2.06-.94 2.06-2.06.94zm-11 1L8.5 8.5l.94-2.06 2.06-.94-2.06-.94L8.5 2.5l-.94 2.06-2.06.94zm10 10l.94 2.06.94-2.06 2.06-.94-2.06-.94-.94-2.06-.94 2.06-2.06.94z\"/><path d=\"M17.41 7.96l-1.37-1.37c-.4-.4-.92-.59-1.43-.59-.52 0-1.04.2-1.43.59L10.3 9.45l-7.72 7.72c-.78.78-.78 2.05 0 2.83L4 21.41c.39.39.9.59 1.41.59.51 0 1.02-.2 1.41-.59l7.78-7.78 2.81-2.81c.8-.78.8-2.07 0-2.86zM5.41 20L4 18.59l7.72-7.72 1.47 1.35L5.41 20z\"/>\n",
              "  </svg>\n",
              "      </button>\n",
              "      \n",
              "  <style>\n",
              "    .colab-df-container {\n",
              "      display:flex;\n",
              "      flex-wrap:wrap;\n",
              "      gap: 12px;\n",
              "    }\n",
              "\n",
              "    .colab-df-convert {\n",
              "      background-color: #E8F0FE;\n",
              "      border: none;\n",
              "      border-radius: 50%;\n",
              "      cursor: pointer;\n",
              "      display: none;\n",
              "      fill: #1967D2;\n",
              "      height: 32px;\n",
              "      padding: 0 0 0 0;\n",
              "      width: 32px;\n",
              "    }\n",
              "\n",
              "    .colab-df-convert:hover {\n",
              "      background-color: #E2EBFA;\n",
              "      box-shadow: 0px 1px 2px rgba(60, 64, 67, 0.3), 0px 1px 3px 1px rgba(60, 64, 67, 0.15);\n",
              "      fill: #174EA6;\n",
              "    }\n",
              "\n",
              "    [theme=dark] .colab-df-convert {\n",
              "      background-color: #3B4455;\n",
              "      fill: #D2E3FC;\n",
              "    }\n",
              "\n",
              "    [theme=dark] .colab-df-convert:hover {\n",
              "      background-color: #434B5C;\n",
              "      box-shadow: 0px 1px 3px 1px rgba(0, 0, 0, 0.15);\n",
              "      filter: drop-shadow(0px 1px 2px rgba(0, 0, 0, 0.3));\n",
              "      fill: #FFFFFF;\n",
              "    }\n",
              "  </style>\n",
              "\n",
              "      <script>\n",
              "        const buttonEl =\n",
              "          document.querySelector('#df-db67828b-ecb3-434c-8214-6cc9d01fb9aa button.colab-df-convert');\n",
              "        buttonEl.style.display =\n",
              "          google.colab.kernel.accessAllowed ? 'block' : 'none';\n",
              "\n",
              "        async function convertToInteractive(key) {\n",
              "          const element = document.querySelector('#df-db67828b-ecb3-434c-8214-6cc9d01fb9aa');\n",
              "          const dataTable =\n",
              "            await google.colab.kernel.invokeFunction('convertToInteractive',\n",
              "                                                     [key], {});\n",
              "          if (!dataTable) return;\n",
              "\n",
              "          const docLinkHtml = 'Like what you see? Visit the ' +\n",
              "            '<a target=\"_blank\" href=https://colab.research.google.com/notebooks/data_table.ipynb>data table notebook</a>'\n",
              "            + ' to learn more about interactive tables.';\n",
              "          element.innerHTML = '';\n",
              "          dataTable['output_type'] = 'display_data';\n",
              "          await google.colab.output.renderOutput(dataTable, element);\n",
              "          const docLink = document.createElement('div');\n",
              "          docLink.innerHTML = docLinkHtml;\n",
              "          element.appendChild(docLink);\n",
              "        }\n",
              "      </script>\n",
              "    </div>\n",
              "  </div>\n",
              "  "
            ]
          },
          "metadata": {},
          "execution_count": 7
        }
      ]
    },
    {
      "cell_type": "code",
      "source": [
        "# Check total data\n",
        "len (df)"
      ],
      "metadata": {
        "colab": {
          "base_uri": "https://localhost:8080/"
        },
        "id": "6X4GCfcveiBv",
        "outputId": "c11f92d6-a15f-4ee1-afb2-9f1117649ad1"
      },
      "execution_count": 8,
      "outputs": [
        {
          "output_type": "execute_result",
          "data": {
            "text/plain": [
              "10000"
            ]
          },
          "metadata": {},
          "execution_count": 8
        }
      ]
    },
    {
      "cell_type": "code",
      "source": [
        "# Check shape dataset\n",
        "df.shape"
      ],
      "metadata": {
        "colab": {
          "base_uri": "https://localhost:8080/"
        },
        "id": "VGIQR4_Ues-V",
        "outputId": "3eee9c4f-e0f8-41ce-8a5f-2c8bab434b2b"
      },
      "execution_count": 9,
      "outputs": [
        {
          "output_type": "execute_result",
          "data": {
            "text/plain": [
              "(10000, 14)"
            ]
          },
          "metadata": {},
          "execution_count": 9
        }
      ]
    },
    {
      "cell_type": "code",
      "source": [
        "# Alternatif way to check total data by shape\n",
        "df.shape\n",
        "tot_data = df.shape[0]\n",
        "tot_data"
      ],
      "metadata": {
        "colab": {
          "base_uri": "https://localhost:8080/"
        },
        "id": "_FUrsKOhevpS",
        "outputId": "dae33e53-ef5e-4764-8ecf-646879863175"
      },
      "execution_count": 10,
      "outputs": [
        {
          "output_type": "execute_result",
          "data": {
            "text/plain": [
              "10000"
            ]
          },
          "metadata": {},
          "execution_count": 10
        }
      ]
    },
    {
      "cell_type": "markdown",
      "source": [
        "Dari informasi di atas, kita dapat mengetahui bahwa ada 10.000 baris dan 14 kolom dalam dataFrame ini, yang dijabarkan dalam beberapa variabel berikut: <br>\n",
        "\n",
        "Header | Definition\n",
        "---|---\n",
        "`RowNumber`| Row Numbers from 1 to 10000.\n",
        "`CustomerId`| Unique Ids for bank customer identification.\n",
        "`Surname`| Customer's last name.\n",
        "`CreditScore`| Credit score of the customer.\n",
        "`Geography`| The country from which the customer belongs.\n",
        "`Gender`| Male or Female.\n",
        "`Age`| Age of the customer.\n",
        "`Tenure`| Number of years for which the customer has been with the bank.\n",
        "`Balance`| Bank balance of the customer.\n",
        "`NumOfProducts`| Number of bank products the customer is utilising.\n",
        "`HasCrCard`| Binary Flag for whether the customer holds a credit card with the bank or not.\n",
        "`IsActiveMember`| Binary Flag for whether the customer is an active member with the bank or not.\n",
        "`EstimatedSalary`| Estimated salary of the customer in Dollars.\n",
        "`Exited`| Binary flag 1 if the customer closed account with bank and 0 if the customer is retained.\n",
        "\n",
        "> Target Column Description: Exited is a class label used to divide into groups (customer closed account or not).\n"
      ],
      "metadata": {
        "id": "Q9xYNkYge705"
      }
    },
    {
      "cell_type": "markdown",
      "source": [
        "Selanjutnya, kita akan mengecek ada apa saja tipe data didalamnya dan apakah terdapat missing value dari setiap kolom yang ada didalam dataFrame tersebut:"
      ],
      "metadata": {
        "id": "YLT0YAAifrDa"
      }
    },
    {
      "cell_type": "code",
      "source": [
        "# Show basic info of the data\n",
        "df.info()"
      ],
      "metadata": {
        "colab": {
          "base_uri": "https://localhost:8080/"
        },
        "id": "kwm5Q-SYgFx1",
        "outputId": "5f24b6a7-244f-48d4-a474-93ab0325f883"
      },
      "execution_count": 11,
      "outputs": [
        {
          "output_type": "stream",
          "name": "stdout",
          "text": [
            "<class 'pandas.core.frame.DataFrame'>\n",
            "RangeIndex: 10000 entries, 0 to 9999\n",
            "Data columns (total 14 columns):\n",
            " #   Column           Non-Null Count  Dtype  \n",
            "---  ------           --------------  -----  \n",
            " 0   RowNumber        10000 non-null  int64  \n",
            " 1   CustomerId       10000 non-null  int64  \n",
            " 2   Surname          10000 non-null  object \n",
            " 3   CreditScore      10000 non-null  int64  \n",
            " 4   Geography        10000 non-null  object \n",
            " 5   Gender           10000 non-null  object \n",
            " 6   Age              10000 non-null  int64  \n",
            " 7   Tenure           10000 non-null  int64  \n",
            " 8   Balance          10000 non-null  float64\n",
            " 9   NumOfProducts    10000 non-null  int64  \n",
            " 10  HasCrCard        10000 non-null  int64  \n",
            " 11  IsActiveMember   10000 non-null  int64  \n",
            " 12  EstimatedSalary  10000 non-null  float64\n",
            " 13  Exited           10000 non-null  int64  \n",
            "dtypes: float64(2), int64(9), object(3)\n",
            "memory usage: 1.1+ MB\n"
          ]
        }
      ]
    },
    {
      "cell_type": "markdown",
      "source": [
        "Dari hasilnya, kita dapat melihat daftar semua kolom, jumlah value non-null dan tipe data dari setiap kolom. Sekarang, Saya akan jabarkan informasi apa saja yang bisa kita dapatkan dari sini:\n",
        "1. Seperti yang kita lihat bahwa ada beberapa tipe data seperti object, int64, dan float64.<br>\n",
        "Apakah ada tipe data yang ganjil? Coba kita lihat setiap tipe data pada masing-masing kolom. Kita tidak menemukan ada tipe data yang ganjil.\n",
        "2. Selanjutnya fokuskan pada jumlah value Non-Null pada setiap kolom. Apakah ada missing value? Diatas terdapat informasi bahwa semua kolom mempunyai jumlah 10.000 non-null. Sehingga kita dapat menyimpulkan bahwa tidak ada missing value di dalamnya."
      ],
      "metadata": {
        "id": "6CU7262tgdPI"
      }
    },
    {
      "cell_type": "markdown",
      "source": [
        "Setelah ini, Saya ingin menemukan informasi statistik deskriptif yang mengacu pada data numerik:"
      ],
      "metadata": {
        "id": "tdyJ5yt4hj-e"
      }
    },
    {
      "cell_type": "code",
      "source": [
        "# Descriptive statistical information that refers to numerical data\n",
        "df.describe()"
      ],
      "metadata": {
        "colab": {
          "base_uri": "https://localhost:8080/",
          "height": 300
        },
        "id": "KyQeu0jshoFP",
        "outputId": "27a7d8e9-4ccc-4425-dd34-cfa81def524f"
      },
      "execution_count": 12,
      "outputs": [
        {
          "output_type": "execute_result",
          "data": {
            "text/plain": [
              "         RowNumber    CustomerId   CreditScore           Age        Tenure  \\\n",
              "count  10000.00000  1.000000e+04  10000.000000  10000.000000  10000.000000   \n",
              "mean    5000.50000  1.569094e+07    650.528800     38.921800      5.012800   \n",
              "std     2886.89568  7.193619e+04     96.653299     10.487806      2.892174   \n",
              "min        1.00000  1.556570e+07    350.000000     18.000000      0.000000   \n",
              "25%     2500.75000  1.562853e+07    584.000000     32.000000      3.000000   \n",
              "50%     5000.50000  1.569074e+07    652.000000     37.000000      5.000000   \n",
              "75%     7500.25000  1.575323e+07    718.000000     44.000000      7.000000   \n",
              "max    10000.00000  1.581569e+07    850.000000     92.000000     10.000000   \n",
              "\n",
              "             Balance  NumOfProducts    HasCrCard  IsActiveMember  \\\n",
              "count   10000.000000   10000.000000  10000.00000    10000.000000   \n",
              "mean    76485.889288       1.530200      0.70550        0.515100   \n",
              "std     62397.405202       0.581654      0.45584        0.499797   \n",
              "min         0.000000       1.000000      0.00000        0.000000   \n",
              "25%         0.000000       1.000000      0.00000        0.000000   \n",
              "50%     97198.540000       1.000000      1.00000        1.000000   \n",
              "75%    127644.240000       2.000000      1.00000        1.000000   \n",
              "max    250898.090000       4.000000      1.00000        1.000000   \n",
              "\n",
              "       EstimatedSalary        Exited  \n",
              "count     10000.000000  10000.000000  \n",
              "mean     100090.239881      0.203700  \n",
              "std       57510.492818      0.402769  \n",
              "min          11.580000      0.000000  \n",
              "25%       51002.110000      0.000000  \n",
              "50%      100193.915000      0.000000  \n",
              "75%      149388.247500      0.000000  \n",
              "max      199992.480000      1.000000  "
            ],
            "text/html": [
              "\n",
              "  <div id=\"df-25d92c59-cfb4-4727-8fea-e96ee4baf21c\">\n",
              "    <div class=\"colab-df-container\">\n",
              "      <div>\n",
              "<style scoped>\n",
              "    .dataframe tbody tr th:only-of-type {\n",
              "        vertical-align: middle;\n",
              "    }\n",
              "\n",
              "    .dataframe tbody tr th {\n",
              "        vertical-align: top;\n",
              "    }\n",
              "\n",
              "    .dataframe thead th {\n",
              "        text-align: right;\n",
              "    }\n",
              "</style>\n",
              "<table border=\"1\" class=\"dataframe\">\n",
              "  <thead>\n",
              "    <tr style=\"text-align: right;\">\n",
              "      <th></th>\n",
              "      <th>RowNumber</th>\n",
              "      <th>CustomerId</th>\n",
              "      <th>CreditScore</th>\n",
              "      <th>Age</th>\n",
              "      <th>Tenure</th>\n",
              "      <th>Balance</th>\n",
              "      <th>NumOfProducts</th>\n",
              "      <th>HasCrCard</th>\n",
              "      <th>IsActiveMember</th>\n",
              "      <th>EstimatedSalary</th>\n",
              "      <th>Exited</th>\n",
              "    </tr>\n",
              "  </thead>\n",
              "  <tbody>\n",
              "    <tr>\n",
              "      <th>count</th>\n",
              "      <td>10000.00000</td>\n",
              "      <td>1.000000e+04</td>\n",
              "      <td>10000.000000</td>\n",
              "      <td>10000.000000</td>\n",
              "      <td>10000.000000</td>\n",
              "      <td>10000.000000</td>\n",
              "      <td>10000.000000</td>\n",
              "      <td>10000.00000</td>\n",
              "      <td>10000.000000</td>\n",
              "      <td>10000.000000</td>\n",
              "      <td>10000.000000</td>\n",
              "    </tr>\n",
              "    <tr>\n",
              "      <th>mean</th>\n",
              "      <td>5000.50000</td>\n",
              "      <td>1.569094e+07</td>\n",
              "      <td>650.528800</td>\n",
              "      <td>38.921800</td>\n",
              "      <td>5.012800</td>\n",
              "      <td>76485.889288</td>\n",
              "      <td>1.530200</td>\n",
              "      <td>0.70550</td>\n",
              "      <td>0.515100</td>\n",
              "      <td>100090.239881</td>\n",
              "      <td>0.203700</td>\n",
              "    </tr>\n",
              "    <tr>\n",
              "      <th>std</th>\n",
              "      <td>2886.89568</td>\n",
              "      <td>7.193619e+04</td>\n",
              "      <td>96.653299</td>\n",
              "      <td>10.487806</td>\n",
              "      <td>2.892174</td>\n",
              "      <td>62397.405202</td>\n",
              "      <td>0.581654</td>\n",
              "      <td>0.45584</td>\n",
              "      <td>0.499797</td>\n",
              "      <td>57510.492818</td>\n",
              "      <td>0.402769</td>\n",
              "    </tr>\n",
              "    <tr>\n",
              "      <th>min</th>\n",
              "      <td>1.00000</td>\n",
              "      <td>1.556570e+07</td>\n",
              "      <td>350.000000</td>\n",
              "      <td>18.000000</td>\n",
              "      <td>0.000000</td>\n",
              "      <td>0.000000</td>\n",
              "      <td>1.000000</td>\n",
              "      <td>0.00000</td>\n",
              "      <td>0.000000</td>\n",
              "      <td>11.580000</td>\n",
              "      <td>0.000000</td>\n",
              "    </tr>\n",
              "    <tr>\n",
              "      <th>25%</th>\n",
              "      <td>2500.75000</td>\n",
              "      <td>1.562853e+07</td>\n",
              "      <td>584.000000</td>\n",
              "      <td>32.000000</td>\n",
              "      <td>3.000000</td>\n",
              "      <td>0.000000</td>\n",
              "      <td>1.000000</td>\n",
              "      <td>0.00000</td>\n",
              "      <td>0.000000</td>\n",
              "      <td>51002.110000</td>\n",
              "      <td>0.000000</td>\n",
              "    </tr>\n",
              "    <tr>\n",
              "      <th>50%</th>\n",
              "      <td>5000.50000</td>\n",
              "      <td>1.569074e+07</td>\n",
              "      <td>652.000000</td>\n",
              "      <td>37.000000</td>\n",
              "      <td>5.000000</td>\n",
              "      <td>97198.540000</td>\n",
              "      <td>1.000000</td>\n",
              "      <td>1.00000</td>\n",
              "      <td>1.000000</td>\n",
              "      <td>100193.915000</td>\n",
              "      <td>0.000000</td>\n",
              "    </tr>\n",
              "    <tr>\n",
              "      <th>75%</th>\n",
              "      <td>7500.25000</td>\n",
              "      <td>1.575323e+07</td>\n",
              "      <td>718.000000</td>\n",
              "      <td>44.000000</td>\n",
              "      <td>7.000000</td>\n",
              "      <td>127644.240000</td>\n",
              "      <td>2.000000</td>\n",
              "      <td>1.00000</td>\n",
              "      <td>1.000000</td>\n",
              "      <td>149388.247500</td>\n",
              "      <td>0.000000</td>\n",
              "    </tr>\n",
              "    <tr>\n",
              "      <th>max</th>\n",
              "      <td>10000.00000</td>\n",
              "      <td>1.581569e+07</td>\n",
              "      <td>850.000000</td>\n",
              "      <td>92.000000</td>\n",
              "      <td>10.000000</td>\n",
              "      <td>250898.090000</td>\n",
              "      <td>4.000000</td>\n",
              "      <td>1.00000</td>\n",
              "      <td>1.000000</td>\n",
              "      <td>199992.480000</td>\n",
              "      <td>1.000000</td>\n",
              "    </tr>\n",
              "  </tbody>\n",
              "</table>\n",
              "</div>\n",
              "      <button class=\"colab-df-convert\" onclick=\"convertToInteractive('df-25d92c59-cfb4-4727-8fea-e96ee4baf21c')\"\n",
              "              title=\"Convert this dataframe to an interactive table.\"\n",
              "              style=\"display:none;\">\n",
              "        \n",
              "  <svg xmlns=\"http://www.w3.org/2000/svg\" height=\"24px\"viewBox=\"0 0 24 24\"\n",
              "       width=\"24px\">\n",
              "    <path d=\"M0 0h24v24H0V0z\" fill=\"none\"/>\n",
              "    <path d=\"M18.56 5.44l.94 2.06.94-2.06 2.06-.94-2.06-.94-.94-2.06-.94 2.06-2.06.94zm-11 1L8.5 8.5l.94-2.06 2.06-.94-2.06-.94L8.5 2.5l-.94 2.06-2.06.94zm10 10l.94 2.06.94-2.06 2.06-.94-2.06-.94-.94-2.06-.94 2.06-2.06.94z\"/><path d=\"M17.41 7.96l-1.37-1.37c-.4-.4-.92-.59-1.43-.59-.52 0-1.04.2-1.43.59L10.3 9.45l-7.72 7.72c-.78.78-.78 2.05 0 2.83L4 21.41c.39.39.9.59 1.41.59.51 0 1.02-.2 1.41-.59l7.78-7.78 2.81-2.81c.8-.78.8-2.07 0-2.86zM5.41 20L4 18.59l7.72-7.72 1.47 1.35L5.41 20z\"/>\n",
              "  </svg>\n",
              "      </button>\n",
              "      \n",
              "  <style>\n",
              "    .colab-df-container {\n",
              "      display:flex;\n",
              "      flex-wrap:wrap;\n",
              "      gap: 12px;\n",
              "    }\n",
              "\n",
              "    .colab-df-convert {\n",
              "      background-color: #E8F0FE;\n",
              "      border: none;\n",
              "      border-radius: 50%;\n",
              "      cursor: pointer;\n",
              "      display: none;\n",
              "      fill: #1967D2;\n",
              "      height: 32px;\n",
              "      padding: 0 0 0 0;\n",
              "      width: 32px;\n",
              "    }\n",
              "\n",
              "    .colab-df-convert:hover {\n",
              "      background-color: #E2EBFA;\n",
              "      box-shadow: 0px 1px 2px rgba(60, 64, 67, 0.3), 0px 1px 3px 1px rgba(60, 64, 67, 0.15);\n",
              "      fill: #174EA6;\n",
              "    }\n",
              "\n",
              "    [theme=dark] .colab-df-convert {\n",
              "      background-color: #3B4455;\n",
              "      fill: #D2E3FC;\n",
              "    }\n",
              "\n",
              "    [theme=dark] .colab-df-convert:hover {\n",
              "      background-color: #434B5C;\n",
              "      box-shadow: 0px 1px 3px 1px rgba(0, 0, 0, 0.15);\n",
              "      filter: drop-shadow(0px 1px 2px rgba(0, 0, 0, 0.3));\n",
              "      fill: #FFFFFF;\n",
              "    }\n",
              "  </style>\n",
              "\n",
              "      <script>\n",
              "        const buttonEl =\n",
              "          document.querySelector('#df-25d92c59-cfb4-4727-8fea-e96ee4baf21c button.colab-df-convert');\n",
              "        buttonEl.style.display =\n",
              "          google.colab.kernel.accessAllowed ? 'block' : 'none';\n",
              "\n",
              "        async function convertToInteractive(key) {\n",
              "          const element = document.querySelector('#df-25d92c59-cfb4-4727-8fea-e96ee4baf21c');\n",
              "          const dataTable =\n",
              "            await google.colab.kernel.invokeFunction('convertToInteractive',\n",
              "                                                     [key], {});\n",
              "          if (!dataTable) return;\n",
              "\n",
              "          const docLinkHtml = 'Like what you see? Visit the ' +\n",
              "            '<a target=\"_blank\" href=https://colab.research.google.com/notebooks/data_table.ipynb>data table notebook</a>'\n",
              "            + ' to learn more about interactive tables.';\n",
              "          element.innerHTML = '';\n",
              "          dataTable['output_type'] = 'display_data';\n",
              "          await google.colab.output.renderOutput(dataTable, element);\n",
              "          const docLink = document.createElement('div');\n",
              "          docLink.innerHTML = docLinkHtml;\n",
              "          element.appendChild(docLink);\n",
              "        }\n",
              "      </script>\n",
              "    </div>\n",
              "  </div>\n",
              "  "
            ]
          },
          "metadata": {},
          "execution_count": 12
        }
      ]
    },
    {
      "cell_type": "markdown",
      "source": [
        "Ringkasan statistik deskriptif diatas menunjukkan informasi-informasi penting yang bisa kita dapatkan dari setiap kolom numerik.\n",
        "Contohnya kita ingin melihat berapa nilai minimum, maksimum, dan rata-rata dari umur nasabah. Kita dapat fokuskan pada kolom *Age*. Dari informasi di atas menunjukkan bahwa:<br>\n",
        "- nilai minimum = 18 tahun.\n",
        "- nilai rata-rata = 38-39 tahun.\n",
        "- nilai maximum = 92 tahun."
      ],
      "metadata": {
        "id": "xgH0638-jK4H"
      }
    },
    {
      "cell_type": "markdown",
      "source": [
        "# v. Data Cleaning & Preprocessing"
      ],
      "metadata": {
        "id": "wn-qS1p_OghK"
      }
    },
    {
      "cell_type": "markdown",
      "source": [
        "Disini Saya akan meninjau lebih lanjut untuk mengidentifikasi atribut apa yang diperlukan dan manipulasi data apa yang perlu dilakukan sebelum melakukan analisis Eksplorasi dan perhitungan lebih lanjut."
      ],
      "metadata": {
        "id": "hA4jhvLVllSq"
      }
    },
    {
      "cell_type": "markdown",
      "source": [
        "## v.1 Missing values"
      ],
      "metadata": {
        "id": "GhCIeK6slH9G"
      }
    },
    {
      "cell_type": "markdown",
      "source": [
        "Kita pasti akan menemukan sebagian besar dataset yang berisi value Non-Null didalamnya. Mengapa data tersebut memiliki missing value? Terkadang, itu bisa disebabkan oleh data yang tidak dikumpulkan dengan benar, ada kesalahan dalam pengumpulan dan pengelolaan data, human error, dll.\n",
        "Lalu, mengapa kita harus melakukan handling missing value?\n",
        "Beberapa model tidak dapat bekerja dengan data yang hilang (Null/NaN) dan dalam kondisi ini tidak direkomendasikan untuk melakukan analisis karena akan ada masalah terkait hasilnya kedepannya. Di samping itu, tujuan milestone ini salah satunya adalah membuat dashboard, yang mana akan sensitif sekali dengan keberadaan missing value. \n",
        "\n",
        "Sebelumnya kita sudah melakukan pengecekan keberadaan missing value dengan `df.info()`. Kali ini coba kita lakukan *double check* dengan menggunakan `df.isnull().sum()`:"
      ],
      "metadata": {
        "id": "PmKB0ZDol1Ql"
      }
    },
    {
      "cell_type": "code",
      "source": [
        "# Finding the total number of missing value for each column\n",
        "df.isnull().sum()"
      ],
      "metadata": {
        "colab": {
          "base_uri": "https://localhost:8080/"
        },
        "id": "mjWfNAfjlJ3N",
        "outputId": "d0601677-4283-44d6-baad-40e1e9d664d0"
      },
      "execution_count": 13,
      "outputs": [
        {
          "output_type": "execute_result",
          "data": {
            "text/plain": [
              "RowNumber          0\n",
              "CustomerId         0\n",
              "Surname            0\n",
              "CreditScore        0\n",
              "Geography          0\n",
              "Gender             0\n",
              "Age                0\n",
              "Tenure             0\n",
              "Balance            0\n",
              "NumOfProducts      0\n",
              "HasCrCard          0\n",
              "IsActiveMember     0\n",
              "EstimatedSalary    0\n",
              "Exited             0\n",
              "dtype: int64"
            ]
          },
          "metadata": {},
          "execution_count": 13
        }
      ]
    },
    {
      "cell_type": "markdown",
      "source": [
        "Ternyata memang benar bahwa disini tidak ada missing value."
      ],
      "metadata": {
        "id": "KOuO0fzTnW51"
      }
    },
    {
      "cell_type": "markdown",
      "source": [
        "## v.2 Dropping columns"
      ],
      "metadata": {
        "id": "b0YpxfkRn3-r"
      }
    },
    {
      "cell_type": "code",
      "source": [
        "# Get unique count for each variable\n",
        "df.nunique()"
      ],
      "metadata": {
        "colab": {
          "base_uri": "https://localhost:8080/"
        },
        "id": "f2cYeKoHoE0T",
        "outputId": "fa7dee25-caa7-49a0-dbfd-dd7596e2d1aa"
      },
      "execution_count": 14,
      "outputs": [
        {
          "output_type": "execute_result",
          "data": {
            "text/plain": [
              "RowNumber          10000\n",
              "CustomerId         10000\n",
              "Surname             2932\n",
              "CreditScore          460\n",
              "Geography              3\n",
              "Gender                 2\n",
              "Age                   70\n",
              "Tenure                11\n",
              "Balance             6382\n",
              "NumOfProducts          4\n",
              "HasCrCard              2\n",
              "IsActiveMember         2\n",
              "EstimatedSalary     9999\n",
              "Exited                 2\n",
              "dtype: int64"
            ]
          },
          "metadata": {},
          "execution_count": 14
        }
      ]
    },
    {
      "cell_type": "markdown",
      "source": [
        "Dari informasi di atas, kita dapat melihat atribut mana saja yang tidak kita butuhkan kedepannya seperti *RowNumber* dan *Surname*. Karena seperti yang kita ketahui bahwa sudah terdapat index yang menggantikan *RowNumber*, juga sudah terdapat customer id sebagai id unik dari nasabah sehingga tidak perlu lagi atribut *Surname*. Karena itu Saya memutuskan untuk menghapus kedua kolom tersebut:"
      ],
      "metadata": {
        "id": "8YT1V241pjAk"
      }
    },
    {
      "cell_type": "code",
      "source": [
        "# Drop the columns as explained above\n",
        "df = df.drop([\"RowNumber\", \"Surname\"], axis = 1)"
      ],
      "metadata": {
        "id": "4st05BQlpEA7"
      },
      "execution_count": 15,
      "outputs": []
    },
    {
      "cell_type": "code",
      "source": [
        "# Review the top rows\n",
        "df.head()"
      ],
      "metadata": {
        "colab": {
          "base_uri": "https://localhost:8080/",
          "height": 0
        },
        "id": "JlWfU6RBrl1o",
        "outputId": "c09a48a6-92b1-4785-96de-a6ef8d3be4b3"
      },
      "execution_count": 16,
      "outputs": [
        {
          "output_type": "execute_result",
          "data": {
            "text/plain": [
              "   CustomerId  CreditScore Geography  Gender  Age  Tenure    Balance  \\\n",
              "0    15634602          619    France  Female   42       2       0.00   \n",
              "1    15647311          608     Spain  Female   41       1   83807.86   \n",
              "2    15619304          502    France  Female   42       8  159660.80   \n",
              "3    15701354          699    France  Female   39       1       0.00   \n",
              "4    15737888          850     Spain  Female   43       2  125510.82   \n",
              "\n",
              "   NumOfProducts  HasCrCard  IsActiveMember  EstimatedSalary  Exited  \n",
              "0              1          1               1        101348.88       1  \n",
              "1              1          0               1        112542.58       0  \n",
              "2              3          1               0        113931.57       1  \n",
              "3              2          0               0         93826.63       0  \n",
              "4              1          1               1         79084.10       0  "
            ],
            "text/html": [
              "\n",
              "  <div id=\"df-a9afee72-77a9-4652-a0ab-6f5960bcc6e6\">\n",
              "    <div class=\"colab-df-container\">\n",
              "      <div>\n",
              "<style scoped>\n",
              "    .dataframe tbody tr th:only-of-type {\n",
              "        vertical-align: middle;\n",
              "    }\n",
              "\n",
              "    .dataframe tbody tr th {\n",
              "        vertical-align: top;\n",
              "    }\n",
              "\n",
              "    .dataframe thead th {\n",
              "        text-align: right;\n",
              "    }\n",
              "</style>\n",
              "<table border=\"1\" class=\"dataframe\">\n",
              "  <thead>\n",
              "    <tr style=\"text-align: right;\">\n",
              "      <th></th>\n",
              "      <th>CustomerId</th>\n",
              "      <th>CreditScore</th>\n",
              "      <th>Geography</th>\n",
              "      <th>Gender</th>\n",
              "      <th>Age</th>\n",
              "      <th>Tenure</th>\n",
              "      <th>Balance</th>\n",
              "      <th>NumOfProducts</th>\n",
              "      <th>HasCrCard</th>\n",
              "      <th>IsActiveMember</th>\n",
              "      <th>EstimatedSalary</th>\n",
              "      <th>Exited</th>\n",
              "    </tr>\n",
              "  </thead>\n",
              "  <tbody>\n",
              "    <tr>\n",
              "      <th>0</th>\n",
              "      <td>15634602</td>\n",
              "      <td>619</td>\n",
              "      <td>France</td>\n",
              "      <td>Female</td>\n",
              "      <td>42</td>\n",
              "      <td>2</td>\n",
              "      <td>0.00</td>\n",
              "      <td>1</td>\n",
              "      <td>1</td>\n",
              "      <td>1</td>\n",
              "      <td>101348.88</td>\n",
              "      <td>1</td>\n",
              "    </tr>\n",
              "    <tr>\n",
              "      <th>1</th>\n",
              "      <td>15647311</td>\n",
              "      <td>608</td>\n",
              "      <td>Spain</td>\n",
              "      <td>Female</td>\n",
              "      <td>41</td>\n",
              "      <td>1</td>\n",
              "      <td>83807.86</td>\n",
              "      <td>1</td>\n",
              "      <td>0</td>\n",
              "      <td>1</td>\n",
              "      <td>112542.58</td>\n",
              "      <td>0</td>\n",
              "    </tr>\n",
              "    <tr>\n",
              "      <th>2</th>\n",
              "      <td>15619304</td>\n",
              "      <td>502</td>\n",
              "      <td>France</td>\n",
              "      <td>Female</td>\n",
              "      <td>42</td>\n",
              "      <td>8</td>\n",
              "      <td>159660.80</td>\n",
              "      <td>3</td>\n",
              "      <td>1</td>\n",
              "      <td>0</td>\n",
              "      <td>113931.57</td>\n",
              "      <td>1</td>\n",
              "    </tr>\n",
              "    <tr>\n",
              "      <th>3</th>\n",
              "      <td>15701354</td>\n",
              "      <td>699</td>\n",
              "      <td>France</td>\n",
              "      <td>Female</td>\n",
              "      <td>39</td>\n",
              "      <td>1</td>\n",
              "      <td>0.00</td>\n",
              "      <td>2</td>\n",
              "      <td>0</td>\n",
              "      <td>0</td>\n",
              "      <td>93826.63</td>\n",
              "      <td>0</td>\n",
              "    </tr>\n",
              "    <tr>\n",
              "      <th>4</th>\n",
              "      <td>15737888</td>\n",
              "      <td>850</td>\n",
              "      <td>Spain</td>\n",
              "      <td>Female</td>\n",
              "      <td>43</td>\n",
              "      <td>2</td>\n",
              "      <td>125510.82</td>\n",
              "      <td>1</td>\n",
              "      <td>1</td>\n",
              "      <td>1</td>\n",
              "      <td>79084.10</td>\n",
              "      <td>0</td>\n",
              "    </tr>\n",
              "  </tbody>\n",
              "</table>\n",
              "</div>\n",
              "      <button class=\"colab-df-convert\" onclick=\"convertToInteractive('df-a9afee72-77a9-4652-a0ab-6f5960bcc6e6')\"\n",
              "              title=\"Convert this dataframe to an interactive table.\"\n",
              "              style=\"display:none;\">\n",
              "        \n",
              "  <svg xmlns=\"http://www.w3.org/2000/svg\" height=\"24px\"viewBox=\"0 0 24 24\"\n",
              "       width=\"24px\">\n",
              "    <path d=\"M0 0h24v24H0V0z\" fill=\"none\"/>\n",
              "    <path d=\"M18.56 5.44l.94 2.06.94-2.06 2.06-.94-2.06-.94-.94-2.06-.94 2.06-2.06.94zm-11 1L8.5 8.5l.94-2.06 2.06-.94-2.06-.94L8.5 2.5l-.94 2.06-2.06.94zm10 10l.94 2.06.94-2.06 2.06-.94-2.06-.94-.94-2.06-.94 2.06-2.06.94z\"/><path d=\"M17.41 7.96l-1.37-1.37c-.4-.4-.92-.59-1.43-.59-.52 0-1.04.2-1.43.59L10.3 9.45l-7.72 7.72c-.78.78-.78 2.05 0 2.83L4 21.41c.39.39.9.59 1.41.59.51 0 1.02-.2 1.41-.59l7.78-7.78 2.81-2.81c.8-.78.8-2.07 0-2.86zM5.41 20L4 18.59l7.72-7.72 1.47 1.35L5.41 20z\"/>\n",
              "  </svg>\n",
              "      </button>\n",
              "      \n",
              "  <style>\n",
              "    .colab-df-container {\n",
              "      display:flex;\n",
              "      flex-wrap:wrap;\n",
              "      gap: 12px;\n",
              "    }\n",
              "\n",
              "    .colab-df-convert {\n",
              "      background-color: #E8F0FE;\n",
              "      border: none;\n",
              "      border-radius: 50%;\n",
              "      cursor: pointer;\n",
              "      display: none;\n",
              "      fill: #1967D2;\n",
              "      height: 32px;\n",
              "      padding: 0 0 0 0;\n",
              "      width: 32px;\n",
              "    }\n",
              "\n",
              "    .colab-df-convert:hover {\n",
              "      background-color: #E2EBFA;\n",
              "      box-shadow: 0px 1px 2px rgba(60, 64, 67, 0.3), 0px 1px 3px 1px rgba(60, 64, 67, 0.15);\n",
              "      fill: #174EA6;\n",
              "    }\n",
              "\n",
              "    [theme=dark] .colab-df-convert {\n",
              "      background-color: #3B4455;\n",
              "      fill: #D2E3FC;\n",
              "    }\n",
              "\n",
              "    [theme=dark] .colab-df-convert:hover {\n",
              "      background-color: #434B5C;\n",
              "      box-shadow: 0px 1px 3px 1px rgba(0, 0, 0, 0.15);\n",
              "      filter: drop-shadow(0px 1px 2px rgba(0, 0, 0, 0.3));\n",
              "      fill: #FFFFFF;\n",
              "    }\n",
              "  </style>\n",
              "\n",
              "      <script>\n",
              "        const buttonEl =\n",
              "          document.querySelector('#df-a9afee72-77a9-4652-a0ab-6f5960bcc6e6 button.colab-df-convert');\n",
              "        buttonEl.style.display =\n",
              "          google.colab.kernel.accessAllowed ? 'block' : 'none';\n",
              "\n",
              "        async function convertToInteractive(key) {\n",
              "          const element = document.querySelector('#df-a9afee72-77a9-4652-a0ab-6f5960bcc6e6');\n",
              "          const dataTable =\n",
              "            await google.colab.kernel.invokeFunction('convertToInteractive',\n",
              "                                                     [key], {});\n",
              "          if (!dataTable) return;\n",
              "\n",
              "          const docLinkHtml = 'Like what you see? Visit the ' +\n",
              "            '<a target=\"_blank\" href=https://colab.research.google.com/notebooks/data_table.ipynb>data table notebook</a>'\n",
              "            + ' to learn more about interactive tables.';\n",
              "          element.innerHTML = '';\n",
              "          dataTable['output_type'] = 'display_data';\n",
              "          await google.colab.output.renderOutput(dataTable, element);\n",
              "          const docLink = document.createElement('div');\n",
              "          docLink.innerHTML = docLinkHtml;\n",
              "          element.appendChild(docLink);\n",
              "        }\n",
              "      </script>\n",
              "    </div>\n",
              "  </div>\n",
              "  "
            ]
          },
          "metadata": {},
          "execution_count": 16
        }
      ]
    },
    {
      "cell_type": "code",
      "source": [
        "# Check shape dataFrame\n",
        "df.shape"
      ],
      "metadata": {
        "colab": {
          "base_uri": "https://localhost:8080/"
        },
        "id": "pG1cio8AsCjF",
        "outputId": "f2cb4970-b457-403e-920d-ff4860b098e5"
      },
      "execution_count": 17,
      "outputs": [
        {
          "output_type": "execute_result",
          "data": {
            "text/plain": [
              "(10000, 12)"
            ]
          },
          "metadata": {},
          "execution_count": 17
        }
      ]
    },
    {
      "cell_type": "markdown",
      "source": [
        "Setelah dilakukan drop kolom, sekarang kita memiliki 10.000 baris data dan 12 kolom."
      ],
      "metadata": {
        "id": "YYlddoLXsGfb"
      }
    },
    {
      "cell_type": "markdown",
      "source": [
        "## v.3 Binning"
      ],
      "metadata": {
        "id": "mfIIQhpN4fhH"
      }
    },
    {
      "cell_type": "markdown",
      "source": [
        "Binning atau diskritisasi digunakan untuk mengubah variabel kontinyu atau numerik menjadi fitur kategorikal. Disini ada 5 tipe data numerik seperti variabel *CreditScore*, *Age*, *Tenure*, *Balance*, dan *EstimatedSalary* yang akan Saya kelompokkan ke dalam beberapa level."
      ],
      "metadata": {
        "id": "3WXon5Kh5NA4"
      }
    },
    {
      "cell_type": "markdown",
      "source": [
        "### 1) CreditScore\n",
        "\n",
        "*Credit score* adalah angka yang mewakili risiko yang diambil pemberi pinjaman (dalam kasus ini: Bank) saat nasabah meminjam uang. Semakin tinggi skor kredit, semakin rendah risiko pemberi pinjaman. <br>\n",
        "Disini Saya akan mengklasifikasikan masing-masing skornya ke dalam beberapa level menurut Skor FICO (ukuran terkenal yang dibuat oleh Fair Isaac Corporation). FICO mengurai skornya ke dalam 5 klasifikasi (Poor, Fair, Good, Very Good, Exceptional) yang pembagian range-nya seperti berikut:<br>\n",
        "![Capture.JPG](data:image/jpeg;base64,/9j/4AAQSkZJRgABAQEAeAB4AAD/4RD0RXhpZgAATU0AKgAAAAgABAE7AAIAAAAOAAAISodpAAQAAAABAAAIWJydAAEAAAAcAAAQ0OocAAcAAAgMAAAAPgAAAAAc6gAAAAgAAAAAAAAAAAAAAAAAAAAAAAAAAAAAAAAAAAAAAAAAAAAAAAAAAAAAAAAAAAAAAAAAAAAAAAAAAAAAAAAAAAAAAAAAAAAAAAAAAAAAAAAAAAAAAAAAAAAAAAAAAAAAAAAAAAAAAAAAAAAAAAAAAAAAAAAAAAAAAAAAAAAAAAAAAAAAAAAAAAAAAAAAAAAAAAAAAAAAAAAAAAAAAAAAAAAAAAAAAAAAAAAAAAAAAAAAAAAAAAAAAAAAAAAAAAAAAAAAAAAAAAAAAAAAAAAAAAAAAAAAAAAAAAAAAAAAAAAAAAAAAAAAAAAAAAAAAAAAAAAAAAAAAAAAAAAAAAAAAAAAAAAAAAAAAAAAAAAAAAAAAAAAAAAAAAAAAAAAAAAAAAAAAAAAAAAAAAAAAAAAAAAAAAAAAAAAAAAAAAAAAAAAAAAAAAAAAAAAAAAAAAAAAAAAAAAAAAAAAAAAAAAAAAAAAAAAAAAAAAAAAAAAAAAAAAAAAAAAAAAAAAAAAAAAAAAAAAAAAAAAAAAAAAAAAAAAAAAAAAAAAAAAAAAAAAAAAAAAAAAAAAAAAAAAAAAAAAAAAAAAAAAAAAAAAAAAAAAAAAAAAAAAAAAAAAAAAAAAAAAAAAAAAAAAAAAAAAAAAAAAAAAAAAAAAAAAAAAAAAAAAAAAAAAAAAAAAAAAAAAAAAAAAAAAAAAAAAAAAAAAAAAAAAAAAAAAAAAAAAAAAAAAAAAAAAAAAAAAAAAAAAAAAAAAAAAAAAAAAAAAAAAAAAAAAAAAAAAAAAAAAAAAAAAAAAAAAAAAAAAAAAAAAAAAAAAAAAAAAAAAAAAAAAAAAAAAAAAAAAAAAAAAAAAAAAAAAAAAAAAAAAAAAAAAAAAAAAAAAAAAAAAAAAAAAAAAAAAAAAAAAAAAAAAAAAAAAAAAAAAAAAAAAAAAAAAAAAAAAAAAAAAAAAAAAAAAAAAAAAAAAAAAAAAAAAAAAAAAAAAAAAAAAAAAAAAAAAAAAAAAAAAAAAAAAAAAAAAAAAAAAAAAAAAAAAAAAAAAAAAAAAAAAAAAAAAAAAAAAAAAAAAAAAAAAAAAAAAAAAAAAAAAAAAAAAAAAAAAAAAAAAAAAAAAAAAAAAAAAAAAAAAAAAAAAAAAAAAAAAAAAAAAAAAAAAAAAAAAAAAAAAAAAAAAAAAAAAAAAAAAAAAAAAAAAAAAAAAAAAAAAAAAAAAAAAAAAAAAAAAAAAAAAAAAAAAAAAAAAAAAAAAAAAAAAAAAAAAAAAAAAAAAAAAAAAAAAAAAAAAAAAAAAAAAAAAAAAAAAAAAAAAAAAAAAAAAAAAAAAAAAAAAAAAAAAAAAAAAAAAAAAAAAAAAAAAAAAAAAAAAAAAAAAAAAAAAAAAAAAAAAAAAAAAAAAAAAAAAAAAAAAAAAAAAAAAAAAAAAAAAAAAAAAAAAAAAAAAAAAAAAAAAAAAAAAAAAAAAAAAAAAAAAAAAAAAAAAAAAAAAAAAAAAAAAAAAAAAAAAAAAAAAAAAAAAAAAAAAAAAAAAAAAAAAAAAAAAAAAAAAAAAAAAAAAAAAAAAAAAAAAAAAAAAAAAAAAAAAAAAAAAAAAAAAAAAAAAAAAAAAAAAAAAAAAAAAAAAAAAAAAAAAAAAAAAAAAAAAAAAAAAAAAAAAAAAAAAAAAAAAAAAAAAAAAAAAAAAAAAAAAAAAAAAAAAAAAAAAAAAAAAAAAAAAAAAAAAAAAAAAAAAAAAAAAAAAAAAAAAAAAAAAAAAAAAAAAAAAAAAAAAAAAAAAAAAAAAAAAAAAAAAAAAAAAAAAAAAAAAAAAAAAAAAAAAAAAAAAAAAAAAAAAAAAAAAAAAAAAAAAAAAAAAAAAAAAAAAAAAAAAAAAAAAAAAAAAAAAAAAAAAAAAAAAAAAAAAAAAAAAAAAAAAAAAAAAAAAAAAAAAAAAAAAAAAAAAAAAAAAAAAAAAAAAAAAAAAAAAAAAAAAAAAAAAAAAAAAAAAAAAAAAAAAAAAAAAAAAAAAAAAAAAAAAAAAAAAAAAAAAAAAAAAAAAAAAAAAAAAAAAAAAAAAAAAAAAAAAAAAAAAAAAAAAAAAAAAAAAAAAAAAAAAAAAAAAAAAAAAAAAAAAAAAAAAAAAAAAAAAAAAAAAAAAAAAAAAAAAAAAAAAAAAAAAAAAAAAAAAAAAAAAAAAAAAAAAAAAAAAAAAAAAAAAAAAAAAAAAAAAAAAAAAAAAAAAAAAAAAAAAAAAAAAAAAAAAAAAAAAAAAAAAAAAAAAAAAAAAAAAAAAAAAAAAAAAAAAAAAAAAAAAAAAAAAAAAAAAAAAAAAAAAAAAAAAAAAAAAAAAAAAAAAAAAAAAAAAAAAAAAAAAAAAAAAAAAAAAAAAAAAAAAAAAAAAAAAAAAAAAAAAAAAAAAAAAAAAAAAAAAAAAAAAAAAAAAAAAAAAAAAAAAAAAAAAAAAAAAAAAAAAAAAAAAAAAAAAAAAAAAAAAAAAAAAAAAAAAAAAAAAAAAAAAAAAAAAAAAAAAAAAAAAAAAAAAAAAAAAAAAAAAAAAAAAAAAAAAAAAAAAAAAAAAAAAAAAAAAAAAAAAAAAAAAAAAAAAAAAAAAAAAAAAAAAAAAAAAAAAAAAAAAAAAAAAAAAAAAAAAAAAAAAAAAAAAAAAAAAAAAAAAAAAAAAAAAAAAAAAAAAAAAAAAAAAAAAAAAAAAAAAAAAAAAAAAAAAAAAAAAAAAAAAAAAAAAAAAAAAAAAAAAAAAAAAAAAAAAEFsZGEgUGFrcGFoYW4AAAWQAwACAAAAFAAAEKaQBAACAAAAFAAAELqSkQACAAAAAzMxAACSkgACAAAAAzMxAADqHAAHAAAIDAAACJoAAAAAHOoAAAAIAAAAAAAAAAAAAAAAAAAAAAAAAAAAAAAAAAAAAAAAAAAAAAAAAAAAAAAAAAAAAAAAAAAAAAAAAAAAAAAAAAAAAAAAAAAAAAAAAAAAAAAAAAAAAAAAAAAAAAAAAAAAAAAAAAAAAAAAAAAAAAAAAAAAAAAAAAAAAAAAAAAAAAAAAAAAAAAAAAAAAAAAAAAAAAAAAAAAAAAAAAAAAAAAAAAAAAAAAAAAAAAAAAAAAAAAAAAAAAAAAAAAAAAAAAAAAAAAAAAAAAAAAAAAAAAAAAAAAAAAAAAAAAAAAAAAAAAAAAAAAAAAAAAAAAAAAAAAAAAAAAAAAAAAAAAAAAAAAAAAAAAAAAAAAAAAAAAAAAAAAAAAAAAAAAAAAAAAAAAAAAAAAAAAAAAAAAAAAAAAAAAAAAAAAAAAAAAAAAAAAAAAAAAAAAAAAAAAAAAAAAAAAAAAAAAAAAAAAAAAAAAAAAAAAAAAAAAAAAAAAAAAAAAAAAAAAAAAAAAAAAAAAAAAAAAAAAAAAAAAAAAAAAAAAAAAAAAAAAAAAAAAAAAAAAAAAAAAAAAAAAAAAAAAAAAAAAAAAAAAAAAAAAAAAAAAAAAAAAAAAAAAAAAAAAAAAAAAAAAAAAAAAAAAAAAAAAAAAAAAAAAAAAAAAAAAAAAAAAAAAAAAAAAAAAAAAAAAAAAAAAAAAAAAAAAAAAAAAAAAAAAAAAAAAAAAAAAAAAAAAAAAAAAAAAAAAAAAAAAAAAAAAAAAAAAAAAAAAAAAAAAAAAAAAAAAAAAAAAAAAAAAAAAAAAAAAAAAAAAAAAAAAAAAAAAAAAAAAAAAAAAAAAAAAAAAAAAAAAAAAAAAAAAAAAAAAAAAAAAAAAAAAAAAAAAAAAAAAAAAAAAAAAAAAAAAAAAAAAAAAAAAAAAAAAAAAAAAAAAAAAAAAAAAAAAAAAAAAAAAAAAAAAAAAAAAAAAAAAAAAAAAAAAAAAAAAAAAAAAAAAAAAAAAAAAAAAAAAAAAAAAAAAAAAAAAAAAAAAAAAAAAAAAAAAAAAAAAAAAAAAAAAAAAAAAAAAAAAAAAAAAAAAAAAAAAAAAAAAAAAAAAAAAAAAAAAAAAAAAAAAAAAAAAAAAAAAAAAAAAAAAAAAAAAAAAAAAAAAAAAAAAAAAAAAAAAAAAAAAAAAAAAAAAAAAAAAAAAAAAAAAAAAAAAAAAAAAAAAAAAAAAAAAAAAAAAAAAAAAAAAAAAAAAAAAAAAAAAAAAAAAAAAAAAAAAAAAAAAAAAAAAAAAAAAAAAAAAAAAAAAAAAAAAAAAAAAAAAAAAAAAAAAAAAAAAAAAAAAAAAAAAAAAAAAAAAAAAAAAAAAAAAAAAAAAAAAAAAAAAAAAAAAAAAAAAAAAAAAAAAAAAAAAAAAAAAAAAAAAAAAAAAAAAAAAAAAAAAAAAAAAAAAAAAAAAAAAAAAAAAAAAAAAAAAAAAAAAAAAAAAAAAAAAAAAAAAAAAAAAAAAAAAAAAAAAAAAAAAAAAAAAAAAAAAAAAAAAAAAAAAAAAAAAAAAAAAAAAAAAAAAAAAAAAAAAAAAAAAAAAAAAAAAAAAAAAAAAAAAAAAAAAAAAAAAAAAAAAAAAAAAAAAAAAAAAAAAAAAAAAAAAAAAAAAAAAAAAAAAAAAAAAAAAAAAAAAAAAAAAAAAAAAAAAAAAAAAAAAAAAAAAAAAAAAAAAAAAAAAAAAAAAAAAAAAAAAAAAAAAAAAAAAAAAAAAAAAAAAAAAAAAAAAAAAAAAAAAAAAAAAAAAAAAAAAAAAAAAAAAAAAAAAAAAAAAAAAAAAAAAAAAAAAAAAAAAAAAAAAAAAAAAAAAAAAAAAAAAAAAAAAAAAAAAAAAAAAAAAAAAAAAAAAAAAAAAAAAAAAAAAAAAAAAAAAAAAAAAAAAAAAAAAAAAAAAAAAAAAAAAAAAAAAAAAAAAAAAAAAAAAAAAAAAAAAAAAAAAAAAAAAAAAAAAAAAAAAAAAAAAAAAAAAAAAAAAAAAAAAAAAAAAAAAAAAAAAAAAAAAAAAAAAAAAAAAAAAAAAAAAAAAAAAAAAAAAAAAAAAAAAAAAAAAAAAAAAAAAAAAAAAAAAAAAAAAAAAAAAAAAAAAAAAAAAAAAAAAAAAAAAAAAAAAAAAAAAAAAAAAAAAAAAAAAAAAAAAAAAAAAAAAAAAAAAAAAAAAAAAAAAAAAAAAAAAAAAAAAAAAAAAAAAAAAAAAAAAAAAAAAAAAAAAAAAAAAAAAAAAAAAAAAAAAAAAAAAAAAAAAAAAAAAAAAAAAAAAAAAAAAAAAAAAAAAAAAAAAAAAAAAAAAAAAAAAAAAAAAAAAAAAAAAAAAAAAAAAAAAAAAAAAAAAAAAAAAAAAAAAAAAAAAAAAAAAAAAAAAAAAAAAAAAAAAAAAAAAAAAAAAAAAAAAAAAAAAAAAAAAAAAAAAAAAAAAAAAAAAAAAAAAAAAAAAAAAAAAAAAAAAAAAAAAAAAAAAAAAAAAAAAAAAAAAAAAAAAAAAAAAAAAAAAAAAAAAAAAAAAAAAAAAAAAAAAAAAAAAAAAAAAAAAAAAAAAAAAAAAAAAAAAAAAAAAAAAAAAAAAAAAAAAAAAAAAAAAAAAAAAAAAAAAAAAAAAAAAAAAAAAAAAAAAAAAAAAAAAAAAAAAAAAAAAAAAAAAAAAAAAAAAAAAAAAAAAAAAAAAAAAAAAAAAAAAAAAAAAAAAAAAAAAAAAAAAAAAAAAAAAAAAAAAAAAAAAAAAAAAAAyMDIyOjEyOjIxIDEyOjM0OjE1ADIwMjI6MTI6MjEgMTI6MzQ6MTUAAABBAGwAZABhACAAUABhAGsAcABhAGgAYQBuAAAA/+ELIGh0dHA6Ly9ucy5hZG9iZS5jb20veGFwLzEuMC8APD94cGFja2V0IGJlZ2luPSfvu78nIGlkPSdXNU0wTXBDZWhpSHpyZVN6TlRjemtjOWQnPz4NCjx4OnhtcG1ldGEgeG1sbnM6eD0iYWRvYmU6bnM6bWV0YS8iPjxyZGY6UkRGIHhtbG5zOnJkZj0iaHR0cDovL3d3dy53My5vcmcvMTk5OS8wMi8yMi1yZGYtc3ludGF4LW5zIyI+PHJkZjpEZXNjcmlwdGlvbiByZGY6YWJvdXQ9InV1aWQ6ZmFmNWJkZDUtYmEzZC0xMWRhLWFkMzEtZDMzZDc1MTgyZjFiIiB4bWxuczpkYz0iaHR0cDovL3B1cmwub3JnL2RjL2VsZW1lbnRzLzEuMS8iLz48cmRmOkRlc2NyaXB0aW9uIHJkZjphYm91dD0idXVpZDpmYWY1YmRkNS1iYTNkLTExZGEtYWQzMS1kMzNkNzUxODJmMWIiIHhtbG5zOnhtcD0iaHR0cDovL25zLmFkb2JlLmNvbS94YXAvMS4wLyI+PHhtcDpDcmVhdGVEYXRlPjIwMjItMTItMjFUMTI6MzQ6MTUuMzExPC94bXA6Q3JlYXRlRGF0ZT48L3JkZjpEZXNjcmlwdGlvbj48cmRmOkRlc2NyaXB0aW9uIHJkZjphYm91dD0idXVpZDpmYWY1YmRkNS1iYTNkLTExZGEtYWQzMS1kMzNkNzUxODJmMWIiIHhtbG5zOmRjPSJodHRwOi8vcHVybC5vcmcvZGMvZWxlbWVudHMvMS4xLyI+PGRjOmNyZWF0b3I+PHJkZjpTZXEgeG1sbnM6cmRmPSJodHRwOi8vd3d3LnczLm9yZy8xOTk5LzAyLzIyLXJkZi1zeW50YXgtbnMjIj48cmRmOmxpPkFsZGEgUGFrcGFoYW48L3JkZjpsaT48L3JkZjpTZXE+DQoJCQk8L2RjOmNyZWF0b3I+PC9yZGY6RGVzY3JpcHRpb24+PC9yZGY6UkRGPjwveDp4bXBtZXRhPg0KICAgICAgICAgICAgICAgICAgICAgICAgICAgICAgICAgICAgICAgICAgICAgICAgICAgICAgICAgICAgICAgICAgICAgICAgICAgICAgICAgICAgICAgICAgICAgICAgICAgIAogICAgICAgICAgICAgICAgICAgICAgICAgICAgICAgICAgICAgICAgICAgICAgICAgICAgICAgICAgICAgICAgICAgICAgICAgICAgICAgICAgICAgICAgICAgICAgICAgICAgCiAgICAgICAgICAgICAgICAgICAgICAgICAgICAgICAgICAgICAgICAgICAgICAgICAgICAgICAgICAgICAgICAgICAgICAgICAgICAgICAgICAgICAgICAgICAgICAgICAgICAKICAgICAgICAgICAgICAgICAgICAgICAgICAgICAgICAgICAgICAgICAgICAgICAgICAgICAgICAgICAgICAgICAgICAgICAgICAgICAgICAgICAgICAgICAgICAgICAgICAgIAogICAgICAgICAgICAgICAgICAgICAgICAgICAgICAgICAgICAgICAgICAgICAgICAgICAgICAgICAgICAgICAgICAgICAgICAgICAgICAgICAgICAgICAgICAgICAgICAgICAgCiAgICAgICAgICAgICAgICAgICAgICAgICAgICAgICAgICAgICAgICAgICAgICAgICAgICAgICAgICAgICAgICAgICAgICAgICAgICAgICAgICAgICAgICAgICAgICAgICAgICAKICAgICAgICAgICAgICAgICAgICAgICAgICAgICAgICAgICAgICAgICAgICAgICAgICAgICAgICAgICAgICAgICAgICAgICAgICAgICAgICAgICAgICAgICAgICAgICAgICAgIAogICAgICAgICAgICAgICAgICAgICAgICAgICAgICAgICAgICAgICAgICAgICAgICAgICAgICAgICAgICAgICAgICAgICAgICAgICAgICAgICAgICAgICAgICAgICAgICAgICAgCiAgICAgICAgICAgICAgICAgICAgICAgICAgICAgICAgICAgICAgICAgICAgICAgICAgICAgICAgICAgICAgICAgICAgICAgICAgICAgICAgICAgICAgICAgICAgICAgICAgICAKICAgICAgICAgICAgICAgICAgICAgICAgICAgICAgICAgICAgICAgICAgICAgICAgICAgICAgICAgICAgICAgICAgICAgICAgICAgICAgICAgICAgICAgICAgICAgICAgICAgIAogICAgICAgICAgICAgICAgICAgICAgICAgICAgICAgICAgICAgICAgICAgICAgICAgICAgICAgICAgICAgICAgICAgICAgICAgICAgICAgICAgICAgICAgICAgICAgICAgICAgCiAgICAgICAgICAgICAgICAgICAgICAgICAgICAgICAgICAgICAgICAgICAgICAgICAgICAgICAgICAgICAgICAgICAgICAgICAgICAgICAgICAgICAgICAgICAgICAgICAgICAKICAgICAgICAgICAgICAgICAgICAgICAgICAgICAgICAgICAgICAgICAgICAgICAgICAgICAgICAgICAgICAgICAgICAgICAgICAgICAgICAgICAgICAgICAgICAgICAgICAgIAogICAgICAgICAgICAgICAgICAgICAgICAgICAgICAgICAgICAgICAgICAgICAgICAgICAgICAgICAgICAgICAgICAgICAgICAgICAgICAgICAgICAgICAgICAgICAgICAgICAgCiAgICAgICAgICAgICAgICAgICAgICAgICAgICAgICAgICAgICAgICAgICAgICAgICAgICAgICAgICAgICAgICAgICAgICAgICAgICAgICAgICAgICAgICAgICAgICAgICAgICAKICAgICAgICAgICAgICAgICAgICAgICAgICAgICAgICAgICAgICAgICAgICAgICAgICAgICAgICAgICAgICAgICAgICAgICAgICAgICAgICAgICAgICAgICAgICAgICAgICAgIAogICAgICAgICAgICAgICAgICAgICAgICAgICAgICAgICAgICAgICAgICAgICAgICAgICAgICAgICAgICAgICAgICAgICAgICAgICAgICAgICAgICAgICAgICAgICAgICAgICAgCiAgICAgICAgICAgICAgICAgICAgICAgICAgICAgICAgICAgICAgICAgICAgICAgICAgICAgICAgICAgICAgICAgICAgICAgICAgICAgICAgICAgICAgICAgICAgICAgICAgICAKICAgICAgICAgICAgICAgICAgICAgICAgICAgICAgICAgICAgICAgICAgICAgICAgICAgICAgICAgICAgICAgICAgICAgICAgICAgICAgICAgICAgICAgICAgICAgICAgICAgIAogICAgICAgICAgICAgICAgICAgICAgICAgICAgICAgICAgICAgICAgICAgICAgICAgICAgICAgICAgICAgICAgICAgICAgICAgICAgICAgICAgICAgICAgICAgICAgICAgICAgCiAgICAgICAgICAgICAgICAgICAgICAgICAgICA8P3hwYWNrZXQgZW5kPSd3Jz8+/9sAQwAHBQUGBQQHBgUGCAcHCAoRCwoJCQoVDxAMERgVGhkYFRgXGx4nIRsdJR0XGCIuIiUoKSssKxogLzMvKjInKisq/9sAQwEHCAgKCQoUCwsUKhwYHCoqKioqKioqKioqKioqKioqKioqKioqKioqKioqKioqKioqKioqKioqKioqKioqKioq/8AAEQgBAAGgAwEiAAIRAQMRAf/EAB8AAAEFAQEBAQEBAAAAAAAAAAABAgMEBQYHCAkKC//EALUQAAIBAwMCBAMFBQQEAAABfQECAwAEEQUSITFBBhNRYQcicRQygZGhCCNCscEVUtHwJDNicoIJChYXGBkaJSYnKCkqNDU2Nzg5OkNERUZHSElKU1RVVldYWVpjZGVmZ2hpanN0dXZ3eHl6g4SFhoeIiYqSk5SVlpeYmZqio6Slpqeoqaqys7S1tre4ubrCw8TFxsfIycrS09TV1tfY2drh4uPk5ebn6Onq8fLz9PX29/j5+v/EAB8BAAMBAQEBAQEBAQEAAAAAAAABAgMEBQYHCAkKC//EALURAAIBAgQEAwQHBQQEAAECdwABAgMRBAUhMQYSQVEHYXETIjKBCBRCkaGxwQkjM1LwFWJy0QoWJDThJfEXGBkaJicoKSo1Njc4OTpDREVGR0hJSlNUVVZXWFlaY2RlZmdoaWpzdHV2d3h5eoKDhIWGh4iJipKTlJWWl5iZmqKjpKWmp6ipqrKztLW2t7i5usLDxMXGx8jJytLT1NXW19jZ2uLj5OXm5+jp6vLz9PX29/j5+v/aAAwDAQACEQMRAD8A9gooorvPECiiigAooooAKKKKACiiigAooooARmCqWYgADJJPSsf/AIS7Qftf2b+04fMzjvtz/vYx+tYfxK1Ca30q2s4HKC6kIcg4yB2/M1csvAeiDR4Ybi18yUoGebeQxPX8B7V1RpU1TU6jeu1jklVqSqOFNLTe51AIYAg5B6EUtcf4u8Q3Phi40yHT0j+zspDxbeqqQAB6cUkWu69pem3ureIoUSEqv2W2XAO4k8E9R261Kw83FSXXYp4mCk4vpv2Oxorzg+LPEdnbQ6vdyWUtnMwBtUI3KD+o/M1reJ/Ft1bSWNloaK11eorqzDO0McAAdM/Wq+q1OZLuSsXT5W3fT9Tav/Ellp+tW+mTrIZ7jGwquRycVG/ii0TxOuiGKbzz/Hj5c4zXDXh1f/hOdJXXhF9pVkAeLGGXd14710c2tXK/EpNOCQeUVA3GIb/u5+91rV4eKS66N7mKxMpN9PeS2Or+2W32r7L9oi+0Yz5W8b8fTrU1eSwyeIpPHkpjEH9rBSGBxsA2j+leq23m/ZYvtOPO2DzMdN2OawrUfZW1vc3oV/bX0tZlHUfEekaTMIr++jikP8GCxH1ABxVuzvrXULcT2M8c8R/iRs//AKq8qBttG8UXv/CV6bJdrK52uSe5zuHrkV2ml33h/RvDN3qOifNbqxd0yd27spzyK1q4dQiuW7b+4ypYmU5Pmskr6dTqaK4PTNW8Za4U1CyW1is2k2iNwMEZ5PqcfUe1Wtc8TapJ4gXQvDqR/agP3kzgEA4ycZ4wB61n9Wnzct15+Xqa/WocvNZ+Wm/odlRXH+HPE+oPr0mheIEjF4mdkiDG4gZwccdOQRWTY+LPE2rz3NhpkMMlwrkiYqAI0Bx34z9af1Wd2tNP1F9bp2T11++6PRqK4jVvE2rRXtrodg0C6h5Km5uZcBVfbk47fzq14Y8R39zrE+jayYZLmJdyTwEYcfhx3qXh5qPN/Vu41iYOfJ8vn2Okv9RtNMtxPfzrBEWChm6Z9P0qjD4r0KeURx6pb7mOAGbbn86x/iX/AMiqn/Xyn8mrlNRk8LHwbAlsqnV/KjBMasCH43ZPT1rajh4zgpO+rtoY1sTOnNxVtFfU9aByMjkUVyumSa3aeALI2cCzX20ALOcYQk4PUdBj8KxoPFeuaT4gtrTW57W6huGCt5G0+Xk46r3HoayWHlJvla0NniYxSck9bfieh0VxGseKNZtPGb6TpsMVwGRRFGwx8xXOSfQcmk8P+JNZHi59D1/y3kYHBRQNhC7hyOoIo+rT5ebTa/yD61Dn5dd7fM7iiuEl8R69rOsX9voLwWsNgGLGVQWkwcdweuDSaD4t1WXS73V9WaCSyt0KKka7XMuRgfTBNP6rNK+np6iWLpuVteuvTTc7yivNz4s8SpZLrTvYmzLY+yZG7bnGfX9fwrW8TeL7iy0vTZNLVEfUF3CWUZEY4/DvQ8LU5ku4li6fK5a6HZUVz/huXXpHlGszWlzb7QYri3IO4+nGOPwroKwnHkla50wnzx5rWCiiioLCiiigAooooAKKKKACiiigAooooAKKKKACiiigAooooAKKKKACiiigDmPHOgT63pCNZDdcWzb1Tu47ge9Ytt451aGyjsjoksl8ihNxDYOOM4x/WvQaMc10wrJQ5Jxulscs6Dc3OErN7nnnjqK8vrjRJvscqybcyRqu7yySvBIrpfGWkzax4bmgtRumRhIi/wB7Hat6il7d+7ZfCP6urzu/iPIrCHSlhjtb3w1fS3wIVykjgN747Vs+LtNuNK1zS9Y0+1klt7ZEUoASV2HIB/A/pXomKK1eLbkpW/ExWDSg43+dl0PMLq8vNd8ZaXqH9mXFtAHRVLqTkA8nOPetKa2nPxajmEEnlYH7zYdv3PWu9opPE9FHpYpYXq5X1TPN9UkufDvxEl1SWymnt5RlTGOuVx19c16FbXH2mziuFRl8xA4RuCMjpU2M9aKxqVVUS01WhrSpOm5Wej1PP9Q8V3YkuLPXvDRnQsRGpHbtzg5+oql4f8Lahc+F9XDxNAboJ5ET8bipJ7/lXpuM9aK2+s8sbQjbb8DL6rzS5pyvv+J5zoHim+0TTY9Jn0W5lnifC7QRkE+mOtP1aG98OeN/7djs5Lq0uFywQcrkYIPoe9eh4opfWI8zko77+YfVpcqi5bbabWPPvD1pe6945k8Q3FrJa2ycoHGNx2bAPfjmpPh5bTwarq7TwSRhiu0uhGfmbpmu9opSxLlFxto0l6WHDCqMlK+qbfrc818YaK9t4q/tS5sJL7T5gPMWIkEEDGMjp0zWr4Ng0qXVJbjTtGurLy48JNM7ENnqOePSu1ooeJcqfI/Tf9AjhYxqc69dv1OT+I0Etx4ZRIInlb7Qp2opJxhvSsDWPDDReFtJ1XS7XZdwRRtOip8zEgfMR3IPX616XRRTxMqcVFdGOphY1JOT6r7jg/FV7qOr+CrO5soZ4tz4u4lUhlIHp125/pXMT2iz3GmS6Vot1awI6q8jgsZGyMk17HRV08V7NWUe5nUwftHdy7dOxwVxbTn4vwziCQwgD95sO3/VHvTTa3H/AAuXz/Ik8n/npsO3/j3x16da7+io+svt9nlL+rLv9rmPI9Vmto/F2rG8W8tQ0hQDT8fMO+7J78H65rbsf7I1zwhd6H4fE0dwi+b5dwAGkII5yDj2q7H4V17SL66k0HULUw3L72Fyp3A/gDnrWl4d8LHSL241G+uftV/c53uq7VXJycD611VK1PkTT2tb5d1/wTkp0KnO01o739H2f/AOBsoNNt7cWup+G76a/U4ykjqG/Dt+Fdf4jksrHSbCxn0K4u7Dy/4c7oOOBnrmuxxRXPPFc8lJr8X/AEjphheSLinv5L+mee+ALa6j1y8ltormHSmQhFuOpORj8cZr0KiisK1X2s+ax0UaXsoct7hRRRWRsFFFFABRRRQAUUUUAFFFFABRRRQAUUUUAFFFFABRRRQAUUUUAFFFFABRRRQAUUUUAFFFFABRRRQAUUUUAFFFFABRRRQAUUUUAFFFFABRRRQAUUUUAFFFFABRRRQAUUUUAFFFFABRRRQAUUUUAFFFFABRRRQAUUUUAFFFFABRRRQAUUUUAFFFFABRRRQAUUUUAFFFFABRRRQAUUUUAFFFFABRUU1zBbLmeZIx/tMBWbP4o0qDP78yn0jUn/61XGEpbIwqYilS+OSXzNeiuWm8bxD/AI97N293YD9BmqcnjS8b/V28KfXJrZYWq+hwTzfBx+1f0TO1orgm8Xao3Rol+kdRnxTq5/5eQPpGv+FX9TqeRg88wq6P7l/meg0V56PFOrj/AJeQf+2a/wCFSL4t1VeskbfWMUfU6nkCzzCvo/uX+Z31FcRH40vl/wBZDC/4EVch8brnFxZke6Pn9DUPC1V0N4Zxg5fat8mdXRWLb+K9Ln+9K8J9JE/wzWnBe210P9Hnjk9lYGsZU5x3R3U8TRq/BJP5k9FFFQdAUUUUAFFFFABRRRQAUUUUAFFFFABRRRQAUUUUAFFFFABRRRQAUUUUAFFFFABRRRQAUUUUAFFFFABRRRQAUUUUAFFFYus+LNK0TKXM/mT4/wBTF8zfj6fjVRjKbtFXIlOMFeTsbVU9Q1ew0qPfqF1HBkZAZuT9B1NeZ6x8Q9Uv2ZLDFlB228ufq3+FcpLNJPK0k8jSOxyWc5J/GvRp4CT1m7Hm1cxitKauelaj8TbOJtmmWrznPMkh2qPw6n9Kq3PibU7ocXHlKe0Q2/r1rzyui02XzbFM8lflNdn1WlTWiPBx2LxE4p81l5aFx3aRi0jFmPUsck0lFFWeFuFFFafh7Rn17WobFH8sNlnfGdqjrUykopyeyLp05VZqnBXb0RmUV0mrQ+GhYzLpEWoGaJsJO+DHJzyT6fpTIfBOsTaet0kcWXj8xIDIBIy+oWs1Wha8tPU6nga3O4U/fsr+7qc9RW5pfhDVNVsxcwrFFG7FY/OfYZCOyjvUen+FtT1G7uoEjWE2hxM0zbVQ+maftqavrsQsHiHy2g/e203Meium8Y6PBo6aVHDEscslorTlWyGfuc1zNVTmqkeZEYihLD1XSnuv+HCgEggg4I6EUUVZgadr4h1O0wEuWdR/DJ83867Cw1hpbWNruMK7KCdn+FcFZw/aLyOLszc/Suvr4jibMp4KdOnQspO7enTZfr9x9rw7CpWjOdSTcVojfiuIpv8AVuCfTvUtc4DjpVqHUJosBjvX0b/GvHwvEcJe7iI281/l/wAOfSyw7+ybNFVoL6GbAzsb0arNfT0a9KvHnpSTRzOLi7MKKKK2EFFFFABRRRQAUUUUAFFFFABRRRQAUUUUAFFFFABRRRQAUUUUAFFFFABRRRQAUUUdOtABWfq2t2GiWxmv51T+6g5Z/oK5vxN4/g08ta6PtuLkcNL1SM/1P6V5pd3txf3LXF5M80rHJZzmvQoYKU/enojzcRjo0/dhqzpte8f6hqe6GwzZW3fafnf6nt+FcmzFmLMSSeST3pKK9inThTVoo8WpVnUd5u4UUUVZmFamizbZXhPRhkfWsuprWXyLqOTsDz9KUldGVWPPBxOnoo60VzniBWx4W1ldC1+G8lUvFgpIF67T6VV0rTv7RuJA8nlQQRGaeTGdqD0HckkAfWntHo4u1xcXv2cqd37ld6t243YI/Gsp8sk4M6qCq0pRrwaVnpfy/Q6mXVNG0zw1qVjYaw93DdIRbWphIMRJyckircfiTQ31O28QS3rx3EFp5BsRESS3PQ9Mc1zTeH7Oe40+Gxu5g94DIwuIgvlRj+M4J64JA9qp32m2q6al/ps8ksHmmF1mQKytjIPBPBH8q5PY0paXd3/w3byPZeMxVP3lCNo2srt2tqmtb6c22yXQ6a31zR9WsNN/tG9bT5tNnMpQRlhIM54I705fE2l6z/btrfTtp8d+6tFKULcKAOQO525/GuOsU09yw1CS6Q8bBbxK+frlhV+/0zSrDVDbzXtxsSEO4EILhzj5OuAQDzz2xVOhTUra+X33/Myhj8TKmpWjbZ676OKvr2vtYteLtS0++j0qLTLgzpaWghZihU5HHQ/SubrebQIPtUbpcyCye0N2WaMeYqA4xtzjOenOOapajp0VvaW17ZSvLa3O5VMigMjL1UgcdwfxrelKEUoRZw4uFerOVaaS9O2ivvtsZ1FFFbnnmvoEG6aSc9FG0fU/5/Wt+qWkweRp0eRhn+Y/jV2vxbPcX9azCpNPROy9Fp+ep+pZRh/q+ChF7vV/MKKKK8U9QKs299LBwTvT0NVqK2o4irh589KVmKUVJWZuwXUdwvyHB7qetTVzgYqwKkgjuK0rXUs4S449H/xr7PL8+hVtTxHuvv0f+X5HHUoNaxNGigHIyORRX1BzBRRRQAUUUUAFFFFABRRRQAUUUUAFFFFABRRRQAUUUUAFFFFABRRUN5eQWFpJc3cgjhjGWY9qEm3ZCbSV2OnnitYHmuJFjiQZZ2OABXl/ivxzNqhkstLZobPo0g4aX/Ae1UPFXi248QXBiiLRWKH5I+7+7f4Vzle1hsGoe/Pc8PFY1z9ynt+YUUUV6J5gUUUUAFFFFABRRRQB0mny+dYxk9QNp/CrNY+izYeSE9CNwrYrCSszxa8OSo0bnhi/WzkvofNSGW6tikMsgG1XDBhnPTp19cU7W5ftK6dFeXMc16Ay3EyMGwpb5QWHBIGawaKw9kufnNVipex9i1p/wb7d/PsdQ+o2a+O5nMqrYkNbJIvIRNmwEewqtKYdI0MWk7293NLdea0Ucm5QirgZKnuSePasCil7Faa9vwLeMk+Z21bb9L2v+RraXNaT+JbOWWKK0t1kDOoY7eOepJ64plmJ7vVZrqG7giuVcyoZ2A3knsSMfnWZRVuBiq+iTXW/b+rdDq728mfVrSSK6s31F7dkuy7qYX9FP8PTHTiqviG/VtKsNOBtzLCzyyC2A8tC2AFBHXgZJ9656is40Umn2NqmNnOMo/zefp+LtqwqW1h8+6jiH8TAGoq1tAg33DzEfcGB9TXLmeK+p4OpW6paer0X4iwGH+s4qFLu9fTr+BvgYAA6Cloor8NP1kKKKKACiiigAooooAs2l69uQrfNH6elbEciyoGQ5Brnqmtrl7Z8ryp6r619FleczwzVKtrD8V/wDnq0VLVbm7RTIpkmjDxnI/lT6+9hOM4qUXdM4WmtGFFFFUAUUUUAFFFFABRRRQAUUUUAFFFFABRRRQAUUUhIUEk4A6k0AMuLiK1t3nuHEcUalmZjwBXj/izxVN4gvNkW6OyjP7uPP3j/AHj7/wAqueN/FZ1e6NjYuRZQtyQf9aw7/T0rka9rCYXkXPPc8HGYrnfs4bfmFFFFeieaFOVWb7qk/QU2vSPhEhY68yNDHItqpSSYAqhy3Jz2rGtV9lTc7bG+Ho+3qqne1zzhlZfvKR9RUtraXN9cLb2VvLcTN92OJC7H8BXol5YTa/4mS216X+2hBbF4zogjRRlujscBR7mrdt4Lt9G+JGk2+nXt7awX1q0yskqGWI4OV3AFSPzrB4uKWu9r/wBf8MdKwM3K6+G6Xn/l+J5YysjlXUqynBBGCDTa9BXwx4eg8NS6/r1xqEhF/LAyQspMpDEDkjg9ya4CQoZW8oEJuO0HqB2rop1VUvboc1ahKlbm6jaKKK1MCezm8i7jfsDz9K6auSrpbGbzrKNu+MH6is5rqefjI7SLFFFFZHnhRRRQAUUUUAFFFFABXUaPb+Rp6ZHzSfMf6fpXN28RnuI4h1ZgK7FBsCheNvSvhOMMXy0qeGXV3fotv68j67hnD81Sdd9NF8/6/EXBzjHNHTrXWrDHfalpmobVEbQF5eOAV6/qagg0mHUYzqFysrfapTtWJlURrnqc9a+LeWzbtB3/AMrJ3/FH3NjmaK3k0Wyht72W8mlK2s2zMePmHH681HHpNtfW0E1h5o3XHlSK5B2g9D09Kx+o1ttL9r672Cxi0bTjODj1xWitpbP4iW0hLG384Jljycda3ZGvLu8u7GyNpDBF+7EUi8njqOKqjgnUTu+tlbW7/DQLHI0Vu2ukWKWlm9+8xkvW2x+WRhO3P5ikXRbe1F7NqDyNDayBAIsAuTj/ABFT9QrWT0+/bS+vy1Cxh04xSCMSFGCE4DEcE/WuhHhy3N6H86T7GYPP7b8elN1T7OfClr9jEgi+0HaJMZHB9Kv6hUhCUqjtZNrz2/DULGJbXLW0m5eVPVfWtqKRZYw6HINc/VizujbSc8oeorvyfNXhZeyqv3H+H/A7nPWpcyutzbopFYMoKnIPQ0tfoCaaujgCiiimAUUUUAFFFFABRRRQAUUUUAFFFFABXB/EHxQbeM6RYSESSD/SHU/dX+7+Pf2rpfEmtroektMMGd/lhU929foK8huHa6leSdi7uxZmPUmuzCxXNzyWho8HVxFGXI7MzqKkkhKc9R61HXvRkpK6PkK1GpQm4VFZhRRSimZCVueH/E03h+11KCG3jmGoQeSxckbBzyPzrc1y3FxYXQ0O30We0t7eNpDbxqbhFCrucn/ezkirp0i3/sYSR6dZnTV0rz5T5Y+1pLt4Y/xYL4I/h21xzrQlG0lud8MPUhO8Ht1/D7vM5rwv4rk8Nx30DWcN7a30YSaGUkZxnHI57mtRviRdHXtM1NdNtYzp0DQRwxkhCp4H0wKsWVlYx6ponh6SxtpI9Rs45JrhogZQ8qlgVbqNvHA44rndD8O3ep6xp8E9tcRWl1cJGbjyztwWwcNjHrSaozbnJf8ADbfoUpYimowhLr9z0f5smvvFk994ZOjPbRrGbx7rzAxzliTj6c1z9dprOnT3LNb2+n6XDZpdpAGtdpmgy21Q7Dk575zzUviDTXgW+tbXTtLWws5FR3i2tdQoGA3sQd3PfPAz0FVCrCNlFb+ZFSjUndyd7eX9aHDUV6Nf6EJ/7UtjpNnBpkNo02nXsSqHk2gEHfnL5GcjnGe1ec1tSqqotDCtRlRdmFa2iTcyQn/eFZNWLKbyLyN+2cH6GtJK6OKtHnptHS0UUVznihRRRQAUUUUAFFFFAGroMO+7aUjiNePqa6Gs/RoPJ09WP3pDuP8AStCvxniDF/WsxqSW0fdXy/4Nz9PybD/V8FBPd6v5/wDAsaVtrc1tpMliqKVcEBz1UHrS2msmCxFpcW0dzErbkDkgqfwrMq9pbPJcJapDbt5j8vLGG2jufpivPpYitKcY83Sy6/I9gP7Ub7Bc2qwoqXEgc4P3fYflWho13Hpml3Nw9wheVcRwDltw6GqgW3utQmumjWKziP3UGN3ov1P+NTzQwQ3mo3AgjIgVPLjK/KC2B0/Oumi6sJe15k7XS9NXf87DMdJXSYSoxDq24H3raHid93nfYrf7Vt2+fjmqd5bm4itZ7a3w80ZLpEvAIYjOB0p2mOftAt5reHZHlpWkiBYAcnrWNF1qM+SErJ21t935iJLPXntrWKGW2iuPIO6Fn6oaZb65NHJc/aYkuY7lt0kb9M+1TwAXFrNc2VnDJO0/zRFAwjjxxgH3zzUjWSwzXYs7eOadTGVjYBwqsuTgHrzgZroX1lxi1PRbaeT+/RWt8h6kA8R3I1D7R5cfl+X5Xk4+Xb6VDf6x9tsUtUto4Io33qE+h/xpusWy213HsUIJYlkKKchSeoH4iqFctbEYiLlSnK/cWoUUVDcXMdsuXPPZR1NcF7C2NTT7wRnypWwpPyknoa1a8+uLuS4bLHAB4Udq6zQdT+3Wvlyn99EMH/aHrX2PD+aqp/slR6r4f8v8jgrJN8yNWiiivsTAKKKKACiiigAooooAKKKKACmu6xRs8jBUUEsx6AU6uP8AH2t/ZbFdNgP724GZCD91PT8aqEXKVkaUqbqTUUcf4l1ptb1d5gT5CfJCp7L6/jWRRRXppJKyPoYxUYqKCoJIM8p+VT0VcZuDujmxWEo4qHLUXz6ookY60KQGBYbgDyPWrckSydeD61VdGQ4YfjXdTqKfqfDY7La2Dd3rHv8A5nSDXtG06xvf7BsLuG7voDbyG4nV44Y2+8FwoJzjGT0qwfFemG9fWBY3Q1d7byCvnL9nz5fl7sY3Y2/w56965Gil7CHX8zk+s1Ftb7l951Vp4qs4YbO8ns531ewt/s9vKsgERABCMwxnKg9jzgViWOt6hp9xaywXUuLWRZY42clAVOR8ucVQoqlSgr6bkSrVHbXY6a88RadHa3Q0OzuLae+mSWczShlj2tuCoAAcbucn0p934m05rfUZtPsZ4b/VY/Lui8oaJAWDPsAGeSO/SuWoqfYw/r+vIv6xU/pf13Z0Ta1pFjptymhWN1Fd3kXkyyXM6usSHBYIAoPOOp7VztFFaRgo7GU6jna4UUUVRB01lN59nG/fGD9anrJ0SXKyRHt8wrWrCSszxK0eSo0FFFFSZBRRRQAU+GIzTpEvV2AplaehQ+ZemQ9I1/U1w5hilhMJUr/yr8en4nVgqH1nEQpd3+HX8DoUUIiqvRRgU6iivwttt3Z+uJJKyCrFlci1kkcqWLROi4PQkYzVeinGThJSW4yxbX91aKVt53jUnJCnrV2TWftF3ObpXkt5kCFN3zKBggg/UZrKorWOIqwjyp6dv69QLlzfbnjWz8yCKJNiDf8AMRnJJI9TTLa78kXJcF3miKBs9CSDn9KrUVLrTcua/wDWwFm1eyVT9simds5UxuBn2ORUhura5upZr6KX5yNohcDaBxjkelUqKFWkko6W9PzAnvbo3lx5m3YoUIiA/dUDAFQUySRIkLSMABWTdag82VjyifqaxqVLtyluyJSSLV3qKx5SDDP3PYVlu7SMWckk9SabRXJKTkYSk2FWLG7exvEnj6qeR6juKr0U6c5U5qcHZok9EgnS5t0miOUcZBqSuZ8MahtdrKU8N80Z9+4rpq/XMuxscbho1lv18mcslZ2CiiivQEFFFFABRRRQAUUUUARzzpbW8k0x2pGpZj6AV4zq2oyarqk95L1kb5R/dXsPyrvPiBqptdLSxibD3R+f2Qf4nFebV2YeNlzHrYGnaPO+oUUUV1HoBRRRQAUhAYYIyKWigUoqStJXRWkgK8ryP5VDV+opIA3K8GuunX6SPlMwyRq9TDfd/l/kVaKUgqcEYNJXUfKtNOzCiiigAooooAKKKKALNhN5N7G2eCcH6Gukrkq6e0m8+1jk7kc/Ws5rqedjIbSJqKKKyOAKKKKACul0WDytPDEfNIdx+naudijM0yRr1YgCuxjQRRqi9FAAr4fjDF8mHhh1vJ3fov8Ag/kfV8NYfmrSrv7Kt83/AMD8x1FFFfmh92FFFFABRRRQAUUUhIAyeBQAtVrm8jtlx95+yiq13qWMpb/i/wDhWaSWJJOSe5rGVS2iM5VLaIknuJLh90h+g7CoqKK573MAooooAKKKKAHxSvBMksZw6HINd9Z3K3lnHOnRxkj0PcV59XR+Fr07pLNzx99P6ivqOG8b7HE+wk9J/n0/y+4zqK6udLRRRX6OYBRRRQAUUUUAFFFZ+u3w03Q7u6JwUjIX/ePA/U00ruw4pydkeY+K9S/tPxFcSKcxRnyo/oO/4nJrGpSSSSeSetJXppWVj6OMVGKiugUUUVRQUUUUAFFFFABRRRQA141cc/nVWSMxnnketXKCMjBrWnVcPQ8nH5XSxa5lpLv/AJlCip5IMcp09KgrujJSV0fEYnC1cLPkqq36hRRRVHMFFFFABWzos2Y5IieVO4VjVa06Xyb5D2b5T+NKSujGvDnptHR0UUVznihRRRQBpaHB5t95hHyxjP49q6Ss3Q4fLsd5HMjZ/CtKvx3iPF/WcxnbaPur5b/jc/Tckw/sMFG+8tfv2/CwUUUV88eyFFFFABRRVO6v0gyqfPJ6dhSbSV2DaW5YmnjgTdI2PQetY91eyXBIHyp/dHeoZZXmfdI2TTK5pVG9jnlNsKKKKzICiiigAooooAKKKKACp7G5NnfRTr/A2SPUd6goq6c5U5qcd1qB6OrB1DKchhkGlrN0C5+06RHk5aP5G/Dp+mK0q/ZMNWWIoxqx+0kzkas7BRRRXQAUUUUAFcb8Rrvy9MtrUHmWTcR7KP8A69dlXmPxAu/P8RCAHi3iVSPc/Mf0IrairzOrCR5qq8jlq6TRfA+o65pH9pW9zZQW/mGPNxKUO4fgRXN16Roz6ZH8IGbW4bia1+3/AHLdgrFu3J7V1VpSily9z25No4jWNDv9D1M2F/FtmwGXYdwcHoQe9UHR42KyKysOoYYNeoaDr6eJNc1S9sbSOO+tNM8rS4JCHI259erZIrVjhtrnUPC8viuKFdZcSb1kRVLHB27gOOuMe9Ze3lHSS1/4BPM1ueNvFJGQJI2QnpuUjNBhlVSWjcBepKnivU9c+3XHhG6k8VwpHeR6ki6eTGqMV3jIGOq7d1ZnxR1m6j1VtGh8uOzaKOWRVjAZ2x1J69hVQrOTSSGpXPPKKKK6SgooooAKKKKACo5IQ/I4NSUU4ycXdGNfD08RDkqK6KTKUOGGKbV5lDjDCqskJTkcj1rup1lLR7nxOYZTUwt5w96H4r1/zI6KKK2PFClBwcikooA6i2l8+2jk7sOfrUtZmizboXiPVTkfQ1p1ztWZ4dWPJNoKdGhkkVF6scCm1o6LB52oBz92Mbj9e1ceNxKwuGnXf2U3/l+JphaDxFeFJdWdFFGIoUjXoqgCn0UV+ESk5Scpbs/XYxUUktgooopDCmswRSzEADqTUdxdR2y5c5PZR1NY9xdSXLfMcL2UdKzlNRIlNIsXepF8pB8q927mqFFFc7k5PUwbb3NbSPDl3rVvNPbS28ccLAMZnK/0qtqelTaXc+TK8Ux2hi8LblH44rqfByeZ4Z1VRafbMuv7jON/HSpNItXi1HUU1HT107SpIAZonOQp6KQfXrXtxy+nUoUnHRy662W/la2mut/I05E0jh9j5A2tlugx1o8qTzNmxt/93HNeixpN/wAJPqx8mI3cVoP7OQgbSuDgj8cfrUeinUHbUZ9XjmGqCFPKCRJ5gjyclVOB1pLKk5KPM9W+na/nu7aIPZnn2x9xG1sjqMdKfHbTSzxwrG2+QgKCMZzXo1hMtz4qmZLOaG4GmneLmJVMjbhhsAkVBLd3cGm6RcawEi1H7cFUsiq3lnIPGOmP6VX9lQS5nN216dE0u++uiD2aORh0Jk1ptO1O4SzKqSZG+Zc4ziszymZmEYLhe6g/nXpYa9f4iKt4h+zLFJ9nJQAEYXPPfnFU9L+1RaBpx0CJHaS6IvCEDHGeQ2egxWk8rpuTjFtJOXTV25el/P7tR8iPPgjMMqpIzjgUpRlbaykN6Ec16FLNFp1t4luNLEY8maMxnYGCsQM4B46k0XlvLfeKNGmhlSCeSy815PLBzx2HQnmsHlVlZTu7rp3k46O/kL2Zw1hp8l7qcFm2YmmcKCy9Pek1KyOnalPaM4cwuVLAYzXod8PMXQrq5SVZ1vhHvuEVXIIbqF47CuJ8VRvH4ovhIpUmXcM9wehqMZgY4ajdau618mr7ClHlRa8KT4nngJ4ZQw/D/wDXXT1w+hz+RrEBPRm2H8eP513FfZcNVvaYLkf2W1+v6nHUWoUUUV9KQFFFFABXjXiGf7T4ivpeuZmA+g4/pXsjnajH0Ga8Nnk864kkP8blvzNdWHWrZ6OAXvSZHUn2if7P9n86Tyc7vL3Hbn1x0qOup0650kWEC6a1raaiFHmSahEXDN6o3KqPqv410ydlseqzA0y3vLrUoYdMEhu2P7vy22tkDPB/CrmpaXrMd7CdQWWW5uW2xkyiR3bjjIJPcU7SdSl0rxK1/ND9tkiMhkEb4DEggtuAIxznNb+laVBdS6Lq2iQtp8zXciNFK5lVhGm8sucE8ZGPX0qJTcXfoJuxz+q2WtxeQ+pvNNlvLiYz+btYfw5BOD7UzVtK1ezVbnVkkO4+WXeTeVbGdpOTg47Gur099MuDp9xpSSwWY1mM3MV0QxDtnbtP93AbjrzWVCJE8M+Kftu4H7TCF3/89fMbP44zmpU32Fc5WiiiugoKKKKACiiigAooooAKKKKAIJIM8p+VQEY61epkkSydeD610067Wkj5vMMljUvUw+j7dH6dvyKdFOdGQ4YU2uxNNXR8fOEqcnGas0W9Ml8q+TPRvlNdFXJgkEEcEV1FvL51ukn94ZNZTXU8vGQ1UiSui0KDy7IykcyNx9BXPIpd1VerHArsYYxDAka9FUCvh+L8X7PCxw63m/wX/Bse3w3h+fESrP7K/F/8AkoopkkiRIWkbaBX5gfej6oXeorHlIMM3duwqrd6g82Vjyifqap1hKp0RjKp0Q53aRizkknqTTaKKwMgooooAlhuri3BEE8kQPUI5Gfyp0l7dSoVluZnVuoaQkGoKKrnla1wJftVx5iP58u+MYRt5yv09KkjuL2e+R4pp3uXIVXDkuT0xnrVatHQI5ZNdtvIZVdWL5YZ4UFjx34BrSlzTqRhd6tDWrNCxu9S0C8lubmA3L3cTW4Yy7uSR3GeRjpWdqVnqcIWXUhIwzsDPJv2n+6eeD7VvWTWUzWM1gskVsNSXzo5zkhyDtwfTAPvVfSPks9R+35CfbbcHf8A3/MO79M5r1JUeeKp8ztq122u76a3+VjS19DOuoNatYEuLl7hVTCgmUkx5HAIzlc1Qiubm3VjBNLEH4Yo5Xd+XWt+YSLqHiU3QbZ8273Pmjb+mcU26l0g+GbYJDd486XywZlJVsLyfl5HT071hUoK7anaye++9iWjn1mlWNo1kcI/3lDHDfUU77VceYj+fLvjGEbecr9PSoqK87ml3IJZLu4l/wBbPK/zbvmcnn1+tNmnluJDJPI8rnqzsSfzNMoocpPdgPhfy5kcdVYGvRFbcoYdxmvOK9AsH8zT7d/70an9K+z4Uqe9Vh6P8zKoWKKKK+6MQooooAq6pJ5OkXkn9yB2/JTXiVey+Im2+GtRP/Tu4/MYrxquzD7M9XAL3ZMKKKK6j0SezvrnT7gT2UzwygY3IccelWLnW9Su7qG4nvJWlg/1TA48v6AdKoUVNle4F691rUNQVFu7p5FRtyrwAG9cDv70X2tajqcSR393JMiHIDHvjGT6n3qjRRyrsAUUUVQBRRRQAUUUUAFFFFABRRRQAUUUUAIQGGCMiq8kBXleRVmitIVHB6HBjcvo4yPvqz6MoVt6NNut2iPVDkfQ1nSQBuV4NP0yQwX6q3Af5TXYpqpHQ/P8zy6thouM1p0fQ6/RoPO1BWP3YxuP9K6esnQofLs3mfjeeCfQVJd6l1S3/F/8K/GuJ8Yq+YSV9Ie7/n+J9FkdBYfBRk95a/5fgWbm9jthj7z9lFY81xJcPukOfQdhTCSxyTknvSV8lKbkerKTkFFFFQQFFFFABRRRQAUUUUAFPilkglWSF2R1OVZTgg0yimm07oC1c6leXgQXE7MEO5R0APrx396LvUry+RUu7h5VU5AY9/X6+9VaKt1ajveT1Hdlu41S9urdYLi5eSNcfKT1x0z61UooqZTlN3k7iCiiipAKKKKACu50N9+i2x/2SPyJFcNXaeHTnQ4fYsP/AB419VwvK2Mkv7r/ADRnU2NSiiiv0UwCiiigCpqlmdQ0q4tFcRmaMpuIzjPtXF/8K1l/6Caf9+T/AI139FXGpKOiNqdepTVos4D/AIVrL/0E0/78n/Gj/hWsv/QTT/vyf8a7+ir9tPuafW63c4D/AIVrL/0E0/78n/Gj/hWsv/QTT/vyf8a7+ij20+4fW63c4D/hWsv/AEE0/wC/J/xo/wCFay/9BNP+/J/xrv6KPbT7h9brdzgP+Fay/wDQTT/vyf8AGj/hWsv/AEE0/wC/J/xrv6KPbT7h9brdzgP+Fay/9BNP+/J/xo/4VrL/ANBNP+/J/wAa7+ij20+4fW63c4D/AIVrL/0E0/78n/Gj/hWsv/QTT/vyf8a7+ij20+4fW63c4D/hWsv/AEE0/wC/J/xo/wCFay/9BNP+/J/xrv6KPbT7h9brdzgP+Fay/wDQTT/vyf8AGg/DWbtqUf8A35P+Nd/RR7afcPrdbuef/wDCtrj/AKCMf/fo/wCNH/Ctrj/oIx/9+j/jXoFFHtp9w+uVu55//wAK2uP+gjH/AN+j/jR/wra4/wCgjH/36P8AjXoFFHtp9w+uVu55/wD8K2uP+gjH/wB+j/jTW+Gc7EH+0Y8g5B8o8frXoVFNV6id0zOpXnVi4T1T8kc6fDVwbeOEXaKiKBgIef1qL/hE5f8An7T/AL4P+NdPRXztTIsBUm5zg23ru/8AMzUnFJLZHMf8InL/AM/af98H/Gj/AIROX/n7T/vg/wCNdPRUf6vZd/J+L/zHzyOY/wCETl/5+0/74P8AjR/wicv/AD9p/wB8H/Gunoo/1ey7+T8X/mHPI5j/AIROX/n7T/vg/wCNH/CJy/8AP2n/AHwf8a6eij/V7Lv5Pxf+Yc8jmP8AhE5f+ftP++D/AI0f8InL/wA/af8AfB/xrp6KP9Xsu/k/F/5hzyOY/wCETl/5+0/74P8AjR/wicv/AD9p/wB8H/Gunoo/1ey7+T8X/mHPI5j/AIROX/n7T/vg/wCNH/CJy/8AP2n/AHwf8a6eij/V7Lv5Pxf+Yc8jmP8AhE5f+ftP++D/AI0f8InL/wA/af8AfB/xrp6KP9Xsu/k/F/5hzyOY/wCETl/5+0/74P8AjR/wicv/AD9p/wB8H/Gunoo/1ey7+T8X/mHPI5j/AIROX/n7T/vg/wCNH/CJy/8AP2n/AHwf8a6eij/V7Lv5Pxf+Yc8jmP8AhE5f+ftP++D/AI0f8InL/wA/af8AfB/xrp6KP9Xsu/k/F/5hzyOY/wCETl/5+0/74P8AjW5plk2n2K27OHKknIGOtW6K6sJlWEwdT2lGNna27E5N7hRRRXqEn//Z)"
      ],
      "metadata": {
        "id": "GGe_o0-7DPMt"
      }
    },
    {
      "cell_type": "code",
      "source": [
        "# Create tier of CreditScore based on skor FICO\n",
        "\n",
        "def CreditScore_status(score):\n",
        "  if score < 580: return \"Poor\"\n",
        "  elif 580 <= score <= 669: return \"Fair\"\n",
        "  elif 670 <= score <= 739: return \"Good\"\n",
        "  elif 740 <= score <= 799: return \"Very Good\"\n",
        "  else: return \"Exceptional\"\n",
        "\n",
        "credit_status = df['CreditScore'].apply(CreditScore_status)\n",
        "df.insert(loc=2, column='CreditScore_status', value=(credit_status))\n",
        "df.head()"
      ],
      "metadata": {
        "colab": {
          "base_uri": "https://localhost:8080/",
          "height": 0
        },
        "id": "gfCvswXl4pqn",
        "outputId": "44902234-c68c-41b5-8055-710a4b575d66"
      },
      "execution_count": 18,
      "outputs": [
        {
          "output_type": "execute_result",
          "data": {
            "text/plain": [
              "   CustomerId  CreditScore CreditScore_status Geography  Gender  Age  Tenure  \\\n",
              "0    15634602          619               Fair    France  Female   42       2   \n",
              "1    15647311          608               Fair     Spain  Female   41       1   \n",
              "2    15619304          502               Poor    France  Female   42       8   \n",
              "3    15701354          699               Good    France  Female   39       1   \n",
              "4    15737888          850        Exceptional     Spain  Female   43       2   \n",
              "\n",
              "     Balance  NumOfProducts  HasCrCard  IsActiveMember  EstimatedSalary  \\\n",
              "0       0.00              1          1               1        101348.88   \n",
              "1   83807.86              1          0               1        112542.58   \n",
              "2  159660.80              3          1               0        113931.57   \n",
              "3       0.00              2          0               0         93826.63   \n",
              "4  125510.82              1          1               1         79084.10   \n",
              "\n",
              "   Exited  \n",
              "0       1  \n",
              "1       0  \n",
              "2       1  \n",
              "3       0  \n",
              "4       0  "
            ],
            "text/html": [
              "\n",
              "  <div id=\"df-b50ae808-85f5-44f0-91c4-31057c9fddf3\">\n",
              "    <div class=\"colab-df-container\">\n",
              "      <div>\n",
              "<style scoped>\n",
              "    .dataframe tbody tr th:only-of-type {\n",
              "        vertical-align: middle;\n",
              "    }\n",
              "\n",
              "    .dataframe tbody tr th {\n",
              "        vertical-align: top;\n",
              "    }\n",
              "\n",
              "    .dataframe thead th {\n",
              "        text-align: right;\n",
              "    }\n",
              "</style>\n",
              "<table border=\"1\" class=\"dataframe\">\n",
              "  <thead>\n",
              "    <tr style=\"text-align: right;\">\n",
              "      <th></th>\n",
              "      <th>CustomerId</th>\n",
              "      <th>CreditScore</th>\n",
              "      <th>CreditScore_status</th>\n",
              "      <th>Geography</th>\n",
              "      <th>Gender</th>\n",
              "      <th>Age</th>\n",
              "      <th>Tenure</th>\n",
              "      <th>Balance</th>\n",
              "      <th>NumOfProducts</th>\n",
              "      <th>HasCrCard</th>\n",
              "      <th>IsActiveMember</th>\n",
              "      <th>EstimatedSalary</th>\n",
              "      <th>Exited</th>\n",
              "    </tr>\n",
              "  </thead>\n",
              "  <tbody>\n",
              "    <tr>\n",
              "      <th>0</th>\n",
              "      <td>15634602</td>\n",
              "      <td>619</td>\n",
              "      <td>Fair</td>\n",
              "      <td>France</td>\n",
              "      <td>Female</td>\n",
              "      <td>42</td>\n",
              "      <td>2</td>\n",
              "      <td>0.00</td>\n",
              "      <td>1</td>\n",
              "      <td>1</td>\n",
              "      <td>1</td>\n",
              "      <td>101348.88</td>\n",
              "      <td>1</td>\n",
              "    </tr>\n",
              "    <tr>\n",
              "      <th>1</th>\n",
              "      <td>15647311</td>\n",
              "      <td>608</td>\n",
              "      <td>Fair</td>\n",
              "      <td>Spain</td>\n",
              "      <td>Female</td>\n",
              "      <td>41</td>\n",
              "      <td>1</td>\n",
              "      <td>83807.86</td>\n",
              "      <td>1</td>\n",
              "      <td>0</td>\n",
              "      <td>1</td>\n",
              "      <td>112542.58</td>\n",
              "      <td>0</td>\n",
              "    </tr>\n",
              "    <tr>\n",
              "      <th>2</th>\n",
              "      <td>15619304</td>\n",
              "      <td>502</td>\n",
              "      <td>Poor</td>\n",
              "      <td>France</td>\n",
              "      <td>Female</td>\n",
              "      <td>42</td>\n",
              "      <td>8</td>\n",
              "      <td>159660.80</td>\n",
              "      <td>3</td>\n",
              "      <td>1</td>\n",
              "      <td>0</td>\n",
              "      <td>113931.57</td>\n",
              "      <td>1</td>\n",
              "    </tr>\n",
              "    <tr>\n",
              "      <th>3</th>\n",
              "      <td>15701354</td>\n",
              "      <td>699</td>\n",
              "      <td>Good</td>\n",
              "      <td>France</td>\n",
              "      <td>Female</td>\n",
              "      <td>39</td>\n",
              "      <td>1</td>\n",
              "      <td>0.00</td>\n",
              "      <td>2</td>\n",
              "      <td>0</td>\n",
              "      <td>0</td>\n",
              "      <td>93826.63</td>\n",
              "      <td>0</td>\n",
              "    </tr>\n",
              "    <tr>\n",
              "      <th>4</th>\n",
              "      <td>15737888</td>\n",
              "      <td>850</td>\n",
              "      <td>Exceptional</td>\n",
              "      <td>Spain</td>\n",
              "      <td>Female</td>\n",
              "      <td>43</td>\n",
              "      <td>2</td>\n",
              "      <td>125510.82</td>\n",
              "      <td>1</td>\n",
              "      <td>1</td>\n",
              "      <td>1</td>\n",
              "      <td>79084.10</td>\n",
              "      <td>0</td>\n",
              "    </tr>\n",
              "  </tbody>\n",
              "</table>\n",
              "</div>\n",
              "      <button class=\"colab-df-convert\" onclick=\"convertToInteractive('df-b50ae808-85f5-44f0-91c4-31057c9fddf3')\"\n",
              "              title=\"Convert this dataframe to an interactive table.\"\n",
              "              style=\"display:none;\">\n",
              "        \n",
              "  <svg xmlns=\"http://www.w3.org/2000/svg\" height=\"24px\"viewBox=\"0 0 24 24\"\n",
              "       width=\"24px\">\n",
              "    <path d=\"M0 0h24v24H0V0z\" fill=\"none\"/>\n",
              "    <path d=\"M18.56 5.44l.94 2.06.94-2.06 2.06-.94-2.06-.94-.94-2.06-.94 2.06-2.06.94zm-11 1L8.5 8.5l.94-2.06 2.06-.94-2.06-.94L8.5 2.5l-.94 2.06-2.06.94zm10 10l.94 2.06.94-2.06 2.06-.94-2.06-.94-.94-2.06-.94 2.06-2.06.94z\"/><path d=\"M17.41 7.96l-1.37-1.37c-.4-.4-.92-.59-1.43-.59-.52 0-1.04.2-1.43.59L10.3 9.45l-7.72 7.72c-.78.78-.78 2.05 0 2.83L4 21.41c.39.39.9.59 1.41.59.51 0 1.02-.2 1.41-.59l7.78-7.78 2.81-2.81c.8-.78.8-2.07 0-2.86zM5.41 20L4 18.59l7.72-7.72 1.47 1.35L5.41 20z\"/>\n",
              "  </svg>\n",
              "      </button>\n",
              "      \n",
              "  <style>\n",
              "    .colab-df-container {\n",
              "      display:flex;\n",
              "      flex-wrap:wrap;\n",
              "      gap: 12px;\n",
              "    }\n",
              "\n",
              "    .colab-df-convert {\n",
              "      background-color: #E8F0FE;\n",
              "      border: none;\n",
              "      border-radius: 50%;\n",
              "      cursor: pointer;\n",
              "      display: none;\n",
              "      fill: #1967D2;\n",
              "      height: 32px;\n",
              "      padding: 0 0 0 0;\n",
              "      width: 32px;\n",
              "    }\n",
              "\n",
              "    .colab-df-convert:hover {\n",
              "      background-color: #E2EBFA;\n",
              "      box-shadow: 0px 1px 2px rgba(60, 64, 67, 0.3), 0px 1px 3px 1px rgba(60, 64, 67, 0.15);\n",
              "      fill: #174EA6;\n",
              "    }\n",
              "\n",
              "    [theme=dark] .colab-df-convert {\n",
              "      background-color: #3B4455;\n",
              "      fill: #D2E3FC;\n",
              "    }\n",
              "\n",
              "    [theme=dark] .colab-df-convert:hover {\n",
              "      background-color: #434B5C;\n",
              "      box-shadow: 0px 1px 3px 1px rgba(0, 0, 0, 0.15);\n",
              "      filter: drop-shadow(0px 1px 2px rgba(0, 0, 0, 0.3));\n",
              "      fill: #FFFFFF;\n",
              "    }\n",
              "  </style>\n",
              "\n",
              "      <script>\n",
              "        const buttonEl =\n",
              "          document.querySelector('#df-b50ae808-85f5-44f0-91c4-31057c9fddf3 button.colab-df-convert');\n",
              "        buttonEl.style.display =\n",
              "          google.colab.kernel.accessAllowed ? 'block' : 'none';\n",
              "\n",
              "        async function convertToInteractive(key) {\n",
              "          const element = document.querySelector('#df-b50ae808-85f5-44f0-91c4-31057c9fddf3');\n",
              "          const dataTable =\n",
              "            await google.colab.kernel.invokeFunction('convertToInteractive',\n",
              "                                                     [key], {});\n",
              "          if (!dataTable) return;\n",
              "\n",
              "          const docLinkHtml = 'Like what you see? Visit the ' +\n",
              "            '<a target=\"_blank\" href=https://colab.research.google.com/notebooks/data_table.ipynb>data table notebook</a>'\n",
              "            + ' to learn more about interactive tables.';\n",
              "          element.innerHTML = '';\n",
              "          dataTable['output_type'] = 'display_data';\n",
              "          await google.colab.output.renderOutput(dataTable, element);\n",
              "          const docLink = document.createElement('div');\n",
              "          docLink.innerHTML = docLinkHtml;\n",
              "          element.appendChild(docLink);\n",
              "        }\n",
              "      </script>\n",
              "    </div>\n",
              "  </div>\n",
              "  "
            ]
          },
          "metadata": {},
          "execution_count": 18
        }
      ]
    },
    {
      "cell_type": "markdown",
      "source": [
        "DataFrame di atas sudah bertambah satu kolom baru yang bernama *CreditScore_status* yang valuenya diisi oleh hasil pengklasifikasian masing-masing skor-nya berdasarkan kolom CreditScore."
      ],
      "metadata": {
        "id": "zra1533ScA45"
      }
    },
    {
      "cell_type": "markdown",
      "source": [
        "### 2) Age\n",
        "\n",
        "Disini Saya akan mengklasifikasikan umur nasabah ke dalam 4 kategori (young adults, middle-aged adults, older adults, early elderly) berdasarkan QIR (Quarter Interval Range) pada kolom Age. Disini Saya akan menampilkan terlebih dahulu ringkasan statistik dari kolom Age:<br>"
      ],
      "metadata": {
        "id": "ajr7iIWqDxvj"
      }
    },
    {
      "cell_type": "code",
      "source": [
        "# Descriptive statistical information that refers to Age column\n",
        "df['Age'].describe()"
      ],
      "metadata": {
        "colab": {
          "base_uri": "https://localhost:8080/"
        },
        "id": "r9l9l7GK0S-o",
        "outputId": "db70c714-955a-4b8c-e709-435b5d649430"
      },
      "execution_count": 19,
      "outputs": [
        {
          "output_type": "execute_result",
          "data": {
            "text/plain": [
              "count    10000.000000\n",
              "mean        38.921800\n",
              "std         10.487806\n",
              "min         18.000000\n",
              "25%         32.000000\n",
              "50%         37.000000\n",
              "75%         44.000000\n",
              "max         92.000000\n",
              "Name: Age, dtype: float64"
            ]
          },
          "metadata": {},
          "execution_count": 19
        }
      ]
    },
    {
      "cell_type": "code",
      "source": [
        "# Create tier of Age based on it's QIR (quarter interval range)\n",
        "def age_status(age):\n",
        "  if age <= 32: return \"young adults\"\n",
        "  elif age <= 37: return \"middle-aged adults\"\n",
        "  elif age <= 44: return \"older adults\"\n",
        "  else: return \"early elderly\"\n",
        "\n",
        "age_status = df['Age'].apply(age_status)\n",
        "df.insert(loc=6, column='Age_status', value=(age_status))\n",
        "df.head()"
      ],
      "metadata": {
        "colab": {
          "base_uri": "https://localhost:8080/",
          "height": 0
        },
        "id": "zh74co_iQOhP",
        "outputId": "d4346043-8f40-4f59-9db6-d79c22228740"
      },
      "execution_count": 20,
      "outputs": [
        {
          "output_type": "execute_result",
          "data": {
            "text/plain": [
              "   CustomerId  CreditScore CreditScore_status Geography  Gender  Age  \\\n",
              "0    15634602          619               Fair    France  Female   42   \n",
              "1    15647311          608               Fair     Spain  Female   41   \n",
              "2    15619304          502               Poor    France  Female   42   \n",
              "3    15701354          699               Good    France  Female   39   \n",
              "4    15737888          850        Exceptional     Spain  Female   43   \n",
              "\n",
              "     Age_status  Tenure    Balance  NumOfProducts  HasCrCard  IsActiveMember  \\\n",
              "0  older adults       2       0.00              1          1               1   \n",
              "1  older adults       1   83807.86              1          0               1   \n",
              "2  older adults       8  159660.80              3          1               0   \n",
              "3  older adults       1       0.00              2          0               0   \n",
              "4  older adults       2  125510.82              1          1               1   \n",
              "\n",
              "   EstimatedSalary  Exited  \n",
              "0        101348.88       1  \n",
              "1        112542.58       0  \n",
              "2        113931.57       1  \n",
              "3         93826.63       0  \n",
              "4         79084.10       0  "
            ],
            "text/html": [
              "\n",
              "  <div id=\"df-f17b4898-3cc1-44b4-be0a-4d130d6998fe\">\n",
              "    <div class=\"colab-df-container\">\n",
              "      <div>\n",
              "<style scoped>\n",
              "    .dataframe tbody tr th:only-of-type {\n",
              "        vertical-align: middle;\n",
              "    }\n",
              "\n",
              "    .dataframe tbody tr th {\n",
              "        vertical-align: top;\n",
              "    }\n",
              "\n",
              "    .dataframe thead th {\n",
              "        text-align: right;\n",
              "    }\n",
              "</style>\n",
              "<table border=\"1\" class=\"dataframe\">\n",
              "  <thead>\n",
              "    <tr style=\"text-align: right;\">\n",
              "      <th></th>\n",
              "      <th>CustomerId</th>\n",
              "      <th>CreditScore</th>\n",
              "      <th>CreditScore_status</th>\n",
              "      <th>Geography</th>\n",
              "      <th>Gender</th>\n",
              "      <th>Age</th>\n",
              "      <th>Age_status</th>\n",
              "      <th>Tenure</th>\n",
              "      <th>Balance</th>\n",
              "      <th>NumOfProducts</th>\n",
              "      <th>HasCrCard</th>\n",
              "      <th>IsActiveMember</th>\n",
              "      <th>EstimatedSalary</th>\n",
              "      <th>Exited</th>\n",
              "    </tr>\n",
              "  </thead>\n",
              "  <tbody>\n",
              "    <tr>\n",
              "      <th>0</th>\n",
              "      <td>15634602</td>\n",
              "      <td>619</td>\n",
              "      <td>Fair</td>\n",
              "      <td>France</td>\n",
              "      <td>Female</td>\n",
              "      <td>42</td>\n",
              "      <td>older adults</td>\n",
              "      <td>2</td>\n",
              "      <td>0.00</td>\n",
              "      <td>1</td>\n",
              "      <td>1</td>\n",
              "      <td>1</td>\n",
              "      <td>101348.88</td>\n",
              "      <td>1</td>\n",
              "    </tr>\n",
              "    <tr>\n",
              "      <th>1</th>\n",
              "      <td>15647311</td>\n",
              "      <td>608</td>\n",
              "      <td>Fair</td>\n",
              "      <td>Spain</td>\n",
              "      <td>Female</td>\n",
              "      <td>41</td>\n",
              "      <td>older adults</td>\n",
              "      <td>1</td>\n",
              "      <td>83807.86</td>\n",
              "      <td>1</td>\n",
              "      <td>0</td>\n",
              "      <td>1</td>\n",
              "      <td>112542.58</td>\n",
              "      <td>0</td>\n",
              "    </tr>\n",
              "    <tr>\n",
              "      <th>2</th>\n",
              "      <td>15619304</td>\n",
              "      <td>502</td>\n",
              "      <td>Poor</td>\n",
              "      <td>France</td>\n",
              "      <td>Female</td>\n",
              "      <td>42</td>\n",
              "      <td>older adults</td>\n",
              "      <td>8</td>\n",
              "      <td>159660.80</td>\n",
              "      <td>3</td>\n",
              "      <td>1</td>\n",
              "      <td>0</td>\n",
              "      <td>113931.57</td>\n",
              "      <td>1</td>\n",
              "    </tr>\n",
              "    <tr>\n",
              "      <th>3</th>\n",
              "      <td>15701354</td>\n",
              "      <td>699</td>\n",
              "      <td>Good</td>\n",
              "      <td>France</td>\n",
              "      <td>Female</td>\n",
              "      <td>39</td>\n",
              "      <td>older adults</td>\n",
              "      <td>1</td>\n",
              "      <td>0.00</td>\n",
              "      <td>2</td>\n",
              "      <td>0</td>\n",
              "      <td>0</td>\n",
              "      <td>93826.63</td>\n",
              "      <td>0</td>\n",
              "    </tr>\n",
              "    <tr>\n",
              "      <th>4</th>\n",
              "      <td>15737888</td>\n",
              "      <td>850</td>\n",
              "      <td>Exceptional</td>\n",
              "      <td>Spain</td>\n",
              "      <td>Female</td>\n",
              "      <td>43</td>\n",
              "      <td>older adults</td>\n",
              "      <td>2</td>\n",
              "      <td>125510.82</td>\n",
              "      <td>1</td>\n",
              "      <td>1</td>\n",
              "      <td>1</td>\n",
              "      <td>79084.10</td>\n",
              "      <td>0</td>\n",
              "    </tr>\n",
              "  </tbody>\n",
              "</table>\n",
              "</div>\n",
              "      <button class=\"colab-df-convert\" onclick=\"convertToInteractive('df-f17b4898-3cc1-44b4-be0a-4d130d6998fe')\"\n",
              "              title=\"Convert this dataframe to an interactive table.\"\n",
              "              style=\"display:none;\">\n",
              "        \n",
              "  <svg xmlns=\"http://www.w3.org/2000/svg\" height=\"24px\"viewBox=\"0 0 24 24\"\n",
              "       width=\"24px\">\n",
              "    <path d=\"M0 0h24v24H0V0z\" fill=\"none\"/>\n",
              "    <path d=\"M18.56 5.44l.94 2.06.94-2.06 2.06-.94-2.06-.94-.94-2.06-.94 2.06-2.06.94zm-11 1L8.5 8.5l.94-2.06 2.06-.94-2.06-.94L8.5 2.5l-.94 2.06-2.06.94zm10 10l.94 2.06.94-2.06 2.06-.94-2.06-.94-.94-2.06-.94 2.06-2.06.94z\"/><path d=\"M17.41 7.96l-1.37-1.37c-.4-.4-.92-.59-1.43-.59-.52 0-1.04.2-1.43.59L10.3 9.45l-7.72 7.72c-.78.78-.78 2.05 0 2.83L4 21.41c.39.39.9.59 1.41.59.51 0 1.02-.2 1.41-.59l7.78-7.78 2.81-2.81c.8-.78.8-2.07 0-2.86zM5.41 20L4 18.59l7.72-7.72 1.47 1.35L5.41 20z\"/>\n",
              "  </svg>\n",
              "      </button>\n",
              "      \n",
              "  <style>\n",
              "    .colab-df-container {\n",
              "      display:flex;\n",
              "      flex-wrap:wrap;\n",
              "      gap: 12px;\n",
              "    }\n",
              "\n",
              "    .colab-df-convert {\n",
              "      background-color: #E8F0FE;\n",
              "      border: none;\n",
              "      border-radius: 50%;\n",
              "      cursor: pointer;\n",
              "      display: none;\n",
              "      fill: #1967D2;\n",
              "      height: 32px;\n",
              "      padding: 0 0 0 0;\n",
              "      width: 32px;\n",
              "    }\n",
              "\n",
              "    .colab-df-convert:hover {\n",
              "      background-color: #E2EBFA;\n",
              "      box-shadow: 0px 1px 2px rgba(60, 64, 67, 0.3), 0px 1px 3px 1px rgba(60, 64, 67, 0.15);\n",
              "      fill: #174EA6;\n",
              "    }\n",
              "\n",
              "    [theme=dark] .colab-df-convert {\n",
              "      background-color: #3B4455;\n",
              "      fill: #D2E3FC;\n",
              "    }\n",
              "\n",
              "    [theme=dark] .colab-df-convert:hover {\n",
              "      background-color: #434B5C;\n",
              "      box-shadow: 0px 1px 3px 1px rgba(0, 0, 0, 0.15);\n",
              "      filter: drop-shadow(0px 1px 2px rgba(0, 0, 0, 0.3));\n",
              "      fill: #FFFFFF;\n",
              "    }\n",
              "  </style>\n",
              "\n",
              "      <script>\n",
              "        const buttonEl =\n",
              "          document.querySelector('#df-f17b4898-3cc1-44b4-be0a-4d130d6998fe button.colab-df-convert');\n",
              "        buttonEl.style.display =\n",
              "          google.colab.kernel.accessAllowed ? 'block' : 'none';\n",
              "\n",
              "        async function convertToInteractive(key) {\n",
              "          const element = document.querySelector('#df-f17b4898-3cc1-44b4-be0a-4d130d6998fe');\n",
              "          const dataTable =\n",
              "            await google.colab.kernel.invokeFunction('convertToInteractive',\n",
              "                                                     [key], {});\n",
              "          if (!dataTable) return;\n",
              "\n",
              "          const docLinkHtml = 'Like what you see? Visit the ' +\n",
              "            '<a target=\"_blank\" href=https://colab.research.google.com/notebooks/data_table.ipynb>data table notebook</a>'\n",
              "            + ' to learn more about interactive tables.';\n",
              "          element.innerHTML = '';\n",
              "          dataTable['output_type'] = 'display_data';\n",
              "          await google.colab.output.renderOutput(dataTable, element);\n",
              "          const docLink = document.createElement('div');\n",
              "          docLink.innerHTML = docLinkHtml;\n",
              "          element.appendChild(docLink);\n",
              "        }\n",
              "      </script>\n",
              "    </div>\n",
              "  </div>\n",
              "  "
            ]
          },
          "metadata": {},
          "execution_count": 20
        }
      ]
    },
    {
      "cell_type": "markdown",
      "source": [
        "DataFrame di atas sudah bertambah satu kolom baru yang bernama *Age_status* yang valuenya diisi oleh hasil pengklasifikasian masing-masing umur nasabah berdasarkan kolom Age."
      ],
      "metadata": {
        "id": "pdkDT48fcnna"
      }
    },
    {
      "cell_type": "markdown",
      "source": [
        "### 3) Tenure\n",
        "\n",
        "Disini Saya akan mengklasifikasikan Tenure (berapa tahun nasabah sudah menggunakan produk & layanan bank) ke dalam 4 level kategori (very low, low, medium, high) berdasarkan QIR (Quarter Interval Range) pada kolom Tenure. Disini Saya akan menampilkan terlebih dahulu ringkasan statistik dari kolom Tenure:<br>"
      ],
      "metadata": {
        "id": "aS1MzvT-D1tZ"
      }
    },
    {
      "cell_type": "code",
      "source": [
        "# Descriptive statistical information that refers to Tenure column\n",
        "df['Tenure'].describe()"
      ],
      "metadata": {
        "colab": {
          "base_uri": "https://localhost:8080/"
        },
        "id": "gH11xxiOeOC9",
        "outputId": "32d42b09-5e61-424a-84fb-1bd0f1abdc16"
      },
      "execution_count": 21,
      "outputs": [
        {
          "output_type": "execute_result",
          "data": {
            "text/plain": [
              "count    10000.000000\n",
              "mean         5.012800\n",
              "std          2.892174\n",
              "min          0.000000\n",
              "25%          3.000000\n",
              "50%          5.000000\n",
              "75%          7.000000\n",
              "max         10.000000\n",
              "Name: Tenure, dtype: float64"
            ]
          },
          "metadata": {},
          "execution_count": 21
        }
      ]
    },
    {
      "cell_type": "code",
      "source": [
        "# Create tier of Tenure based on it's QIR (quarter interval range)\n",
        "def tenure_status(tenure):\n",
        "  if tenure <= 3: return \"very low\"\n",
        "  elif tenure <= 5: return \"low\"\n",
        "  elif tenure <= 7: return \"medium\"\n",
        "  else: return \"high\"\n",
        "\n",
        "tenure_status = df['Tenure'].apply(tenure_status)\n",
        "df.insert(loc=8, column='Tenure_status', value=(tenure_status))\n",
        "df.head()"
      ],
      "metadata": {
        "colab": {
          "base_uri": "https://localhost:8080/",
          "height": 0
        },
        "id": "eq-M3kWMfEkU",
        "outputId": "cc4598e8-6554-4baa-a7a7-6d174ec0ed2a"
      },
      "execution_count": 22,
      "outputs": [
        {
          "output_type": "execute_result",
          "data": {
            "text/plain": [
              "   CustomerId  CreditScore CreditScore_status Geography  Gender  Age  \\\n",
              "0    15634602          619               Fair    France  Female   42   \n",
              "1    15647311          608               Fair     Spain  Female   41   \n",
              "2    15619304          502               Poor    France  Female   42   \n",
              "3    15701354          699               Good    France  Female   39   \n",
              "4    15737888          850        Exceptional     Spain  Female   43   \n",
              "\n",
              "     Age_status  Tenure Tenure_status    Balance  NumOfProducts  HasCrCard  \\\n",
              "0  older adults       2      very low       0.00              1          1   \n",
              "1  older adults       1      very low   83807.86              1          0   \n",
              "2  older adults       8          high  159660.80              3          1   \n",
              "3  older adults       1      very low       0.00              2          0   \n",
              "4  older adults       2      very low  125510.82              1          1   \n",
              "\n",
              "   IsActiveMember  EstimatedSalary  Exited  \n",
              "0               1        101348.88       1  \n",
              "1               1        112542.58       0  \n",
              "2               0        113931.57       1  \n",
              "3               0         93826.63       0  \n",
              "4               1         79084.10       0  "
            ],
            "text/html": [
              "\n",
              "  <div id=\"df-58e3bc24-53d5-4418-ab59-1318fc034c3b\">\n",
              "    <div class=\"colab-df-container\">\n",
              "      <div>\n",
              "<style scoped>\n",
              "    .dataframe tbody tr th:only-of-type {\n",
              "        vertical-align: middle;\n",
              "    }\n",
              "\n",
              "    .dataframe tbody tr th {\n",
              "        vertical-align: top;\n",
              "    }\n",
              "\n",
              "    .dataframe thead th {\n",
              "        text-align: right;\n",
              "    }\n",
              "</style>\n",
              "<table border=\"1\" class=\"dataframe\">\n",
              "  <thead>\n",
              "    <tr style=\"text-align: right;\">\n",
              "      <th></th>\n",
              "      <th>CustomerId</th>\n",
              "      <th>CreditScore</th>\n",
              "      <th>CreditScore_status</th>\n",
              "      <th>Geography</th>\n",
              "      <th>Gender</th>\n",
              "      <th>Age</th>\n",
              "      <th>Age_status</th>\n",
              "      <th>Tenure</th>\n",
              "      <th>Tenure_status</th>\n",
              "      <th>Balance</th>\n",
              "      <th>NumOfProducts</th>\n",
              "      <th>HasCrCard</th>\n",
              "      <th>IsActiveMember</th>\n",
              "      <th>EstimatedSalary</th>\n",
              "      <th>Exited</th>\n",
              "    </tr>\n",
              "  </thead>\n",
              "  <tbody>\n",
              "    <tr>\n",
              "      <th>0</th>\n",
              "      <td>15634602</td>\n",
              "      <td>619</td>\n",
              "      <td>Fair</td>\n",
              "      <td>France</td>\n",
              "      <td>Female</td>\n",
              "      <td>42</td>\n",
              "      <td>older adults</td>\n",
              "      <td>2</td>\n",
              "      <td>very low</td>\n",
              "      <td>0.00</td>\n",
              "      <td>1</td>\n",
              "      <td>1</td>\n",
              "      <td>1</td>\n",
              "      <td>101348.88</td>\n",
              "      <td>1</td>\n",
              "    </tr>\n",
              "    <tr>\n",
              "      <th>1</th>\n",
              "      <td>15647311</td>\n",
              "      <td>608</td>\n",
              "      <td>Fair</td>\n",
              "      <td>Spain</td>\n",
              "      <td>Female</td>\n",
              "      <td>41</td>\n",
              "      <td>older adults</td>\n",
              "      <td>1</td>\n",
              "      <td>very low</td>\n",
              "      <td>83807.86</td>\n",
              "      <td>1</td>\n",
              "      <td>0</td>\n",
              "      <td>1</td>\n",
              "      <td>112542.58</td>\n",
              "      <td>0</td>\n",
              "    </tr>\n",
              "    <tr>\n",
              "      <th>2</th>\n",
              "      <td>15619304</td>\n",
              "      <td>502</td>\n",
              "      <td>Poor</td>\n",
              "      <td>France</td>\n",
              "      <td>Female</td>\n",
              "      <td>42</td>\n",
              "      <td>older adults</td>\n",
              "      <td>8</td>\n",
              "      <td>high</td>\n",
              "      <td>159660.80</td>\n",
              "      <td>3</td>\n",
              "      <td>1</td>\n",
              "      <td>0</td>\n",
              "      <td>113931.57</td>\n",
              "      <td>1</td>\n",
              "    </tr>\n",
              "    <tr>\n",
              "      <th>3</th>\n",
              "      <td>15701354</td>\n",
              "      <td>699</td>\n",
              "      <td>Good</td>\n",
              "      <td>France</td>\n",
              "      <td>Female</td>\n",
              "      <td>39</td>\n",
              "      <td>older adults</td>\n",
              "      <td>1</td>\n",
              "      <td>very low</td>\n",
              "      <td>0.00</td>\n",
              "      <td>2</td>\n",
              "      <td>0</td>\n",
              "      <td>0</td>\n",
              "      <td>93826.63</td>\n",
              "      <td>0</td>\n",
              "    </tr>\n",
              "    <tr>\n",
              "      <th>4</th>\n",
              "      <td>15737888</td>\n",
              "      <td>850</td>\n",
              "      <td>Exceptional</td>\n",
              "      <td>Spain</td>\n",
              "      <td>Female</td>\n",
              "      <td>43</td>\n",
              "      <td>older adults</td>\n",
              "      <td>2</td>\n",
              "      <td>very low</td>\n",
              "      <td>125510.82</td>\n",
              "      <td>1</td>\n",
              "      <td>1</td>\n",
              "      <td>1</td>\n",
              "      <td>79084.10</td>\n",
              "      <td>0</td>\n",
              "    </tr>\n",
              "  </tbody>\n",
              "</table>\n",
              "</div>\n",
              "      <button class=\"colab-df-convert\" onclick=\"convertToInteractive('df-58e3bc24-53d5-4418-ab59-1318fc034c3b')\"\n",
              "              title=\"Convert this dataframe to an interactive table.\"\n",
              "              style=\"display:none;\">\n",
              "        \n",
              "  <svg xmlns=\"http://www.w3.org/2000/svg\" height=\"24px\"viewBox=\"0 0 24 24\"\n",
              "       width=\"24px\">\n",
              "    <path d=\"M0 0h24v24H0V0z\" fill=\"none\"/>\n",
              "    <path d=\"M18.56 5.44l.94 2.06.94-2.06 2.06-.94-2.06-.94-.94-2.06-.94 2.06-2.06.94zm-11 1L8.5 8.5l.94-2.06 2.06-.94-2.06-.94L8.5 2.5l-.94 2.06-2.06.94zm10 10l.94 2.06.94-2.06 2.06-.94-2.06-.94-.94-2.06-.94 2.06-2.06.94z\"/><path d=\"M17.41 7.96l-1.37-1.37c-.4-.4-.92-.59-1.43-.59-.52 0-1.04.2-1.43.59L10.3 9.45l-7.72 7.72c-.78.78-.78 2.05 0 2.83L4 21.41c.39.39.9.59 1.41.59.51 0 1.02-.2 1.41-.59l7.78-7.78 2.81-2.81c.8-.78.8-2.07 0-2.86zM5.41 20L4 18.59l7.72-7.72 1.47 1.35L5.41 20z\"/>\n",
              "  </svg>\n",
              "      </button>\n",
              "      \n",
              "  <style>\n",
              "    .colab-df-container {\n",
              "      display:flex;\n",
              "      flex-wrap:wrap;\n",
              "      gap: 12px;\n",
              "    }\n",
              "\n",
              "    .colab-df-convert {\n",
              "      background-color: #E8F0FE;\n",
              "      border: none;\n",
              "      border-radius: 50%;\n",
              "      cursor: pointer;\n",
              "      display: none;\n",
              "      fill: #1967D2;\n",
              "      height: 32px;\n",
              "      padding: 0 0 0 0;\n",
              "      width: 32px;\n",
              "    }\n",
              "\n",
              "    .colab-df-convert:hover {\n",
              "      background-color: #E2EBFA;\n",
              "      box-shadow: 0px 1px 2px rgba(60, 64, 67, 0.3), 0px 1px 3px 1px rgba(60, 64, 67, 0.15);\n",
              "      fill: #174EA6;\n",
              "    }\n",
              "\n",
              "    [theme=dark] .colab-df-convert {\n",
              "      background-color: #3B4455;\n",
              "      fill: #D2E3FC;\n",
              "    }\n",
              "\n",
              "    [theme=dark] .colab-df-convert:hover {\n",
              "      background-color: #434B5C;\n",
              "      box-shadow: 0px 1px 3px 1px rgba(0, 0, 0, 0.15);\n",
              "      filter: drop-shadow(0px 1px 2px rgba(0, 0, 0, 0.3));\n",
              "      fill: #FFFFFF;\n",
              "    }\n",
              "  </style>\n",
              "\n",
              "      <script>\n",
              "        const buttonEl =\n",
              "          document.querySelector('#df-58e3bc24-53d5-4418-ab59-1318fc034c3b button.colab-df-convert');\n",
              "        buttonEl.style.display =\n",
              "          google.colab.kernel.accessAllowed ? 'block' : 'none';\n",
              "\n",
              "        async function convertToInteractive(key) {\n",
              "          const element = document.querySelector('#df-58e3bc24-53d5-4418-ab59-1318fc034c3b');\n",
              "          const dataTable =\n",
              "            await google.colab.kernel.invokeFunction('convertToInteractive',\n",
              "                                                     [key], {});\n",
              "          if (!dataTable) return;\n",
              "\n",
              "          const docLinkHtml = 'Like what you see? Visit the ' +\n",
              "            '<a target=\"_blank\" href=https://colab.research.google.com/notebooks/data_table.ipynb>data table notebook</a>'\n",
              "            + ' to learn more about interactive tables.';\n",
              "          element.innerHTML = '';\n",
              "          dataTable['output_type'] = 'display_data';\n",
              "          await google.colab.output.renderOutput(dataTable, element);\n",
              "          const docLink = document.createElement('div');\n",
              "          docLink.innerHTML = docLinkHtml;\n",
              "          element.appendChild(docLink);\n",
              "        }\n",
              "      </script>\n",
              "    </div>\n",
              "  </div>\n",
              "  "
            ]
          },
          "metadata": {},
          "execution_count": 22
        }
      ]
    },
    {
      "cell_type": "markdown",
      "source": [
        "DataFrame di atas sudah bertambah satu kolom baru yang bernama *Tenure_status* yang valuenya diisi oleh hasil pengklasifikasian masing-masing durasi waktu lamanya nasabah menggunakan produk & layanan Bank berdasarkan kolom Tenure."
      ],
      "metadata": {
        "id": "Bxxfm7pyc803"
      }
    },
    {
      "cell_type": "markdown",
      "source": [
        "### 4) Balance\n",
        "\n",
        "Disini Saya akan mengklasifikasikan Balance (saldo bank nasabah) ke dalam 2 level kategori (above, below) berdasarkan nilai mean (rata-rata dari saldo nasabah). Disini Saya akan menghitung terlebih dahulu nilai rata-rata dari saldo bank nasabah:<br>"
      ],
      "metadata": {
        "id": "8GJ60vmPD4qN"
      }
    },
    {
      "cell_type": "code",
      "source": [
        "# get the mean of Balance\n",
        "Balance_MEAN = df['Balance'].mean()\n",
        "Balance_MEAN"
      ],
      "metadata": {
        "colab": {
          "base_uri": "https://localhost:8080/"
        },
        "id": "AA8Cz9NgljZO",
        "outputId": "a96ec6ca-bdd0-4d7e-e999-5b75b727a63c"
      },
      "execution_count": 23,
      "outputs": [
        {
          "output_type": "execute_result",
          "data": {
            "text/plain": [
              "76485.889288"
            ]
          },
          "metadata": {},
          "execution_count": 23
        }
      ]
    },
    {
      "cell_type": "code",
      "source": [
        "# Create tier based on Balance based on average, whether below or above average\n",
        "def balance_status(saldo):\n",
        "  if saldo >= Balance_MEAN:\n",
        "    return 'above'\n",
        "  else:\n",
        "    return 'below'\n",
        "\n",
        "balance_status = df['Balance'].apply(balance_status)\n",
        "df.insert(loc=10, column='Balance_status', value=(balance_status))\n",
        "df.head()"
      ],
      "metadata": {
        "colab": {
          "base_uri": "https://localhost:8080/",
          "height": 0
        },
        "id": "c8ZoSerzoa_M",
        "outputId": "b44a5047-63c8-4310-9529-830fe6694744"
      },
      "execution_count": 24,
      "outputs": [
        {
          "output_type": "execute_result",
          "data": {
            "text/plain": [
              "   CustomerId  CreditScore CreditScore_status Geography  Gender  Age  \\\n",
              "0    15634602          619               Fair    France  Female   42   \n",
              "1    15647311          608               Fair     Spain  Female   41   \n",
              "2    15619304          502               Poor    France  Female   42   \n",
              "3    15701354          699               Good    France  Female   39   \n",
              "4    15737888          850        Exceptional     Spain  Female   43   \n",
              "\n",
              "     Age_status  Tenure Tenure_status    Balance Balance_status  \\\n",
              "0  older adults       2      very low       0.00          below   \n",
              "1  older adults       1      very low   83807.86          above   \n",
              "2  older adults       8          high  159660.80          above   \n",
              "3  older adults       1      very low       0.00          below   \n",
              "4  older adults       2      very low  125510.82          above   \n",
              "\n",
              "   NumOfProducts  HasCrCard  IsActiveMember  EstimatedSalary  Exited  \n",
              "0              1          1               1        101348.88       1  \n",
              "1              1          0               1        112542.58       0  \n",
              "2              3          1               0        113931.57       1  \n",
              "3              2          0               0         93826.63       0  \n",
              "4              1          1               1         79084.10       0  "
            ],
            "text/html": [
              "\n",
              "  <div id=\"df-7ba9ad0d-8243-4358-ac29-5bd1949a71ba\">\n",
              "    <div class=\"colab-df-container\">\n",
              "      <div>\n",
              "<style scoped>\n",
              "    .dataframe tbody tr th:only-of-type {\n",
              "        vertical-align: middle;\n",
              "    }\n",
              "\n",
              "    .dataframe tbody tr th {\n",
              "        vertical-align: top;\n",
              "    }\n",
              "\n",
              "    .dataframe thead th {\n",
              "        text-align: right;\n",
              "    }\n",
              "</style>\n",
              "<table border=\"1\" class=\"dataframe\">\n",
              "  <thead>\n",
              "    <tr style=\"text-align: right;\">\n",
              "      <th></th>\n",
              "      <th>CustomerId</th>\n",
              "      <th>CreditScore</th>\n",
              "      <th>CreditScore_status</th>\n",
              "      <th>Geography</th>\n",
              "      <th>Gender</th>\n",
              "      <th>Age</th>\n",
              "      <th>Age_status</th>\n",
              "      <th>Tenure</th>\n",
              "      <th>Tenure_status</th>\n",
              "      <th>Balance</th>\n",
              "      <th>Balance_status</th>\n",
              "      <th>NumOfProducts</th>\n",
              "      <th>HasCrCard</th>\n",
              "      <th>IsActiveMember</th>\n",
              "      <th>EstimatedSalary</th>\n",
              "      <th>Exited</th>\n",
              "    </tr>\n",
              "  </thead>\n",
              "  <tbody>\n",
              "    <tr>\n",
              "      <th>0</th>\n",
              "      <td>15634602</td>\n",
              "      <td>619</td>\n",
              "      <td>Fair</td>\n",
              "      <td>France</td>\n",
              "      <td>Female</td>\n",
              "      <td>42</td>\n",
              "      <td>older adults</td>\n",
              "      <td>2</td>\n",
              "      <td>very low</td>\n",
              "      <td>0.00</td>\n",
              "      <td>below</td>\n",
              "      <td>1</td>\n",
              "      <td>1</td>\n",
              "      <td>1</td>\n",
              "      <td>101348.88</td>\n",
              "      <td>1</td>\n",
              "    </tr>\n",
              "    <tr>\n",
              "      <th>1</th>\n",
              "      <td>15647311</td>\n",
              "      <td>608</td>\n",
              "      <td>Fair</td>\n",
              "      <td>Spain</td>\n",
              "      <td>Female</td>\n",
              "      <td>41</td>\n",
              "      <td>older adults</td>\n",
              "      <td>1</td>\n",
              "      <td>very low</td>\n",
              "      <td>83807.86</td>\n",
              "      <td>above</td>\n",
              "      <td>1</td>\n",
              "      <td>0</td>\n",
              "      <td>1</td>\n",
              "      <td>112542.58</td>\n",
              "      <td>0</td>\n",
              "    </tr>\n",
              "    <tr>\n",
              "      <th>2</th>\n",
              "      <td>15619304</td>\n",
              "      <td>502</td>\n",
              "      <td>Poor</td>\n",
              "      <td>France</td>\n",
              "      <td>Female</td>\n",
              "      <td>42</td>\n",
              "      <td>older adults</td>\n",
              "      <td>8</td>\n",
              "      <td>high</td>\n",
              "      <td>159660.80</td>\n",
              "      <td>above</td>\n",
              "      <td>3</td>\n",
              "      <td>1</td>\n",
              "      <td>0</td>\n",
              "      <td>113931.57</td>\n",
              "      <td>1</td>\n",
              "    </tr>\n",
              "    <tr>\n",
              "      <th>3</th>\n",
              "      <td>15701354</td>\n",
              "      <td>699</td>\n",
              "      <td>Good</td>\n",
              "      <td>France</td>\n",
              "      <td>Female</td>\n",
              "      <td>39</td>\n",
              "      <td>older adults</td>\n",
              "      <td>1</td>\n",
              "      <td>very low</td>\n",
              "      <td>0.00</td>\n",
              "      <td>below</td>\n",
              "      <td>2</td>\n",
              "      <td>0</td>\n",
              "      <td>0</td>\n",
              "      <td>93826.63</td>\n",
              "      <td>0</td>\n",
              "    </tr>\n",
              "    <tr>\n",
              "      <th>4</th>\n",
              "      <td>15737888</td>\n",
              "      <td>850</td>\n",
              "      <td>Exceptional</td>\n",
              "      <td>Spain</td>\n",
              "      <td>Female</td>\n",
              "      <td>43</td>\n",
              "      <td>older adults</td>\n",
              "      <td>2</td>\n",
              "      <td>very low</td>\n",
              "      <td>125510.82</td>\n",
              "      <td>above</td>\n",
              "      <td>1</td>\n",
              "      <td>1</td>\n",
              "      <td>1</td>\n",
              "      <td>79084.10</td>\n",
              "      <td>0</td>\n",
              "    </tr>\n",
              "  </tbody>\n",
              "</table>\n",
              "</div>\n",
              "      <button class=\"colab-df-convert\" onclick=\"convertToInteractive('df-7ba9ad0d-8243-4358-ac29-5bd1949a71ba')\"\n",
              "              title=\"Convert this dataframe to an interactive table.\"\n",
              "              style=\"display:none;\">\n",
              "        \n",
              "  <svg xmlns=\"http://www.w3.org/2000/svg\" height=\"24px\"viewBox=\"0 0 24 24\"\n",
              "       width=\"24px\">\n",
              "    <path d=\"M0 0h24v24H0V0z\" fill=\"none\"/>\n",
              "    <path d=\"M18.56 5.44l.94 2.06.94-2.06 2.06-.94-2.06-.94-.94-2.06-.94 2.06-2.06.94zm-11 1L8.5 8.5l.94-2.06 2.06-.94-2.06-.94L8.5 2.5l-.94 2.06-2.06.94zm10 10l.94 2.06.94-2.06 2.06-.94-2.06-.94-.94-2.06-.94 2.06-2.06.94z\"/><path d=\"M17.41 7.96l-1.37-1.37c-.4-.4-.92-.59-1.43-.59-.52 0-1.04.2-1.43.59L10.3 9.45l-7.72 7.72c-.78.78-.78 2.05 0 2.83L4 21.41c.39.39.9.59 1.41.59.51 0 1.02-.2 1.41-.59l7.78-7.78 2.81-2.81c.8-.78.8-2.07 0-2.86zM5.41 20L4 18.59l7.72-7.72 1.47 1.35L5.41 20z\"/>\n",
              "  </svg>\n",
              "      </button>\n",
              "      \n",
              "  <style>\n",
              "    .colab-df-container {\n",
              "      display:flex;\n",
              "      flex-wrap:wrap;\n",
              "      gap: 12px;\n",
              "    }\n",
              "\n",
              "    .colab-df-convert {\n",
              "      background-color: #E8F0FE;\n",
              "      border: none;\n",
              "      border-radius: 50%;\n",
              "      cursor: pointer;\n",
              "      display: none;\n",
              "      fill: #1967D2;\n",
              "      height: 32px;\n",
              "      padding: 0 0 0 0;\n",
              "      width: 32px;\n",
              "    }\n",
              "\n",
              "    .colab-df-convert:hover {\n",
              "      background-color: #E2EBFA;\n",
              "      box-shadow: 0px 1px 2px rgba(60, 64, 67, 0.3), 0px 1px 3px 1px rgba(60, 64, 67, 0.15);\n",
              "      fill: #174EA6;\n",
              "    }\n",
              "\n",
              "    [theme=dark] .colab-df-convert {\n",
              "      background-color: #3B4455;\n",
              "      fill: #D2E3FC;\n",
              "    }\n",
              "\n",
              "    [theme=dark] .colab-df-convert:hover {\n",
              "      background-color: #434B5C;\n",
              "      box-shadow: 0px 1px 3px 1px rgba(0, 0, 0, 0.15);\n",
              "      filter: drop-shadow(0px 1px 2px rgba(0, 0, 0, 0.3));\n",
              "      fill: #FFFFFF;\n",
              "    }\n",
              "  </style>\n",
              "\n",
              "      <script>\n",
              "        const buttonEl =\n",
              "          document.querySelector('#df-7ba9ad0d-8243-4358-ac29-5bd1949a71ba button.colab-df-convert');\n",
              "        buttonEl.style.display =\n",
              "          google.colab.kernel.accessAllowed ? 'block' : 'none';\n",
              "\n",
              "        async function convertToInteractive(key) {\n",
              "          const element = document.querySelector('#df-7ba9ad0d-8243-4358-ac29-5bd1949a71ba');\n",
              "          const dataTable =\n",
              "            await google.colab.kernel.invokeFunction('convertToInteractive',\n",
              "                                                     [key], {});\n",
              "          if (!dataTable) return;\n",
              "\n",
              "          const docLinkHtml = 'Like what you see? Visit the ' +\n",
              "            '<a target=\"_blank\" href=https://colab.research.google.com/notebooks/data_table.ipynb>data table notebook</a>'\n",
              "            + ' to learn more about interactive tables.';\n",
              "          element.innerHTML = '';\n",
              "          dataTable['output_type'] = 'display_data';\n",
              "          await google.colab.output.renderOutput(dataTable, element);\n",
              "          const docLink = document.createElement('div');\n",
              "          docLink.innerHTML = docLinkHtml;\n",
              "          element.appendChild(docLink);\n",
              "        }\n",
              "      </script>\n",
              "    </div>\n",
              "  </div>\n",
              "  "
            ]
          },
          "metadata": {},
          "execution_count": 24
        }
      ]
    },
    {
      "cell_type": "markdown",
      "source": [
        "DataFrame di atas sudah bertambah satu kolom baru yang bernama *Balance_status* yang valuenya diisi oleh hasil pengklasifikasian masing-masing saldo nasabah di Bank berdasarkan kolom Balance."
      ],
      "metadata": {
        "id": "2bP5GAqIdclU"
      }
    },
    {
      "cell_type": "markdown",
      "source": [
        "### 5) EstimatedSalary\n",
        "\n",
        "Disini Saya akan mengklasifikasikan EstimatedSalary (pendapatan nasabah) ke dalam 2 level kategori (high, low) berdasarkan nilai mean (rata-rata dari pendapatan nasabah). Disini Saya akan menghitung terlebih dahulu nilai rata-rata dari pendapatan nasabah:"
      ],
      "metadata": {
        "id": "ltLEWqzKD-bF"
      }
    },
    {
      "cell_type": "code",
      "source": [
        "# get the mean of EstimatedSalary\n",
        "Salary_MEAN = df['EstimatedSalary'].mean()\n",
        "Salary_MEAN"
      ],
      "metadata": {
        "colab": {
          "base_uri": "https://localhost:8080/"
        },
        "id": "l3iKIMuJ9e8K",
        "outputId": "b6c74eb8-df46-4643-a4c1-903490212bbb"
      },
      "execution_count": 25,
      "outputs": [
        {
          "output_type": "execute_result",
          "data": {
            "text/plain": [
              "100090.239881"
            ]
          },
          "metadata": {},
          "execution_count": 25
        }
      ]
    },
    {
      "cell_type": "code",
      "source": [
        "# Create tier based on EstimatedSalary based on average, whether high or low\n",
        "def salary_status(salary):\n",
        "  if salary >= Salary_MEAN:\n",
        "    return 'high'\n",
        "  else:\n",
        "    return 'low'\n",
        "\n",
        "salary_status = df['EstimatedSalary'].apply(salary_status)\n",
        "df.insert(loc=15, column='Salary_status', value=(salary_status))\n",
        "df.head()"
      ],
      "metadata": {
        "colab": {
          "base_uri": "https://localhost:8080/",
          "height": 0
        },
        "id": "-0i6G5tJ-y6J",
        "outputId": "33115179-c6d6-4336-e34f-4447c8f2dd43"
      },
      "execution_count": 26,
      "outputs": [
        {
          "output_type": "execute_result",
          "data": {
            "text/plain": [
              "   CustomerId  CreditScore CreditScore_status Geography  Gender  Age  \\\n",
              "0    15634602          619               Fair    France  Female   42   \n",
              "1    15647311          608               Fair     Spain  Female   41   \n",
              "2    15619304          502               Poor    France  Female   42   \n",
              "3    15701354          699               Good    France  Female   39   \n",
              "4    15737888          850        Exceptional     Spain  Female   43   \n",
              "\n",
              "     Age_status  Tenure Tenure_status    Balance Balance_status  \\\n",
              "0  older adults       2      very low       0.00          below   \n",
              "1  older adults       1      very low   83807.86          above   \n",
              "2  older adults       8          high  159660.80          above   \n",
              "3  older adults       1      very low       0.00          below   \n",
              "4  older adults       2      very low  125510.82          above   \n",
              "\n",
              "   NumOfProducts  HasCrCard  IsActiveMember  EstimatedSalary Salary_status  \\\n",
              "0              1          1               1        101348.88          high   \n",
              "1              1          0               1        112542.58          high   \n",
              "2              3          1               0        113931.57          high   \n",
              "3              2          0               0         93826.63           low   \n",
              "4              1          1               1         79084.10           low   \n",
              "\n",
              "   Exited  \n",
              "0       1  \n",
              "1       0  \n",
              "2       1  \n",
              "3       0  \n",
              "4       0  "
            ],
            "text/html": [
              "\n",
              "  <div id=\"df-2800d36d-6801-435c-b111-989607df1282\">\n",
              "    <div class=\"colab-df-container\">\n",
              "      <div>\n",
              "<style scoped>\n",
              "    .dataframe tbody tr th:only-of-type {\n",
              "        vertical-align: middle;\n",
              "    }\n",
              "\n",
              "    .dataframe tbody tr th {\n",
              "        vertical-align: top;\n",
              "    }\n",
              "\n",
              "    .dataframe thead th {\n",
              "        text-align: right;\n",
              "    }\n",
              "</style>\n",
              "<table border=\"1\" class=\"dataframe\">\n",
              "  <thead>\n",
              "    <tr style=\"text-align: right;\">\n",
              "      <th></th>\n",
              "      <th>CustomerId</th>\n",
              "      <th>CreditScore</th>\n",
              "      <th>CreditScore_status</th>\n",
              "      <th>Geography</th>\n",
              "      <th>Gender</th>\n",
              "      <th>Age</th>\n",
              "      <th>Age_status</th>\n",
              "      <th>Tenure</th>\n",
              "      <th>Tenure_status</th>\n",
              "      <th>Balance</th>\n",
              "      <th>Balance_status</th>\n",
              "      <th>NumOfProducts</th>\n",
              "      <th>HasCrCard</th>\n",
              "      <th>IsActiveMember</th>\n",
              "      <th>EstimatedSalary</th>\n",
              "      <th>Salary_status</th>\n",
              "      <th>Exited</th>\n",
              "    </tr>\n",
              "  </thead>\n",
              "  <tbody>\n",
              "    <tr>\n",
              "      <th>0</th>\n",
              "      <td>15634602</td>\n",
              "      <td>619</td>\n",
              "      <td>Fair</td>\n",
              "      <td>France</td>\n",
              "      <td>Female</td>\n",
              "      <td>42</td>\n",
              "      <td>older adults</td>\n",
              "      <td>2</td>\n",
              "      <td>very low</td>\n",
              "      <td>0.00</td>\n",
              "      <td>below</td>\n",
              "      <td>1</td>\n",
              "      <td>1</td>\n",
              "      <td>1</td>\n",
              "      <td>101348.88</td>\n",
              "      <td>high</td>\n",
              "      <td>1</td>\n",
              "    </tr>\n",
              "    <tr>\n",
              "      <th>1</th>\n",
              "      <td>15647311</td>\n",
              "      <td>608</td>\n",
              "      <td>Fair</td>\n",
              "      <td>Spain</td>\n",
              "      <td>Female</td>\n",
              "      <td>41</td>\n",
              "      <td>older adults</td>\n",
              "      <td>1</td>\n",
              "      <td>very low</td>\n",
              "      <td>83807.86</td>\n",
              "      <td>above</td>\n",
              "      <td>1</td>\n",
              "      <td>0</td>\n",
              "      <td>1</td>\n",
              "      <td>112542.58</td>\n",
              "      <td>high</td>\n",
              "      <td>0</td>\n",
              "    </tr>\n",
              "    <tr>\n",
              "      <th>2</th>\n",
              "      <td>15619304</td>\n",
              "      <td>502</td>\n",
              "      <td>Poor</td>\n",
              "      <td>France</td>\n",
              "      <td>Female</td>\n",
              "      <td>42</td>\n",
              "      <td>older adults</td>\n",
              "      <td>8</td>\n",
              "      <td>high</td>\n",
              "      <td>159660.80</td>\n",
              "      <td>above</td>\n",
              "      <td>3</td>\n",
              "      <td>1</td>\n",
              "      <td>0</td>\n",
              "      <td>113931.57</td>\n",
              "      <td>high</td>\n",
              "      <td>1</td>\n",
              "    </tr>\n",
              "    <tr>\n",
              "      <th>3</th>\n",
              "      <td>15701354</td>\n",
              "      <td>699</td>\n",
              "      <td>Good</td>\n",
              "      <td>France</td>\n",
              "      <td>Female</td>\n",
              "      <td>39</td>\n",
              "      <td>older adults</td>\n",
              "      <td>1</td>\n",
              "      <td>very low</td>\n",
              "      <td>0.00</td>\n",
              "      <td>below</td>\n",
              "      <td>2</td>\n",
              "      <td>0</td>\n",
              "      <td>0</td>\n",
              "      <td>93826.63</td>\n",
              "      <td>low</td>\n",
              "      <td>0</td>\n",
              "    </tr>\n",
              "    <tr>\n",
              "      <th>4</th>\n",
              "      <td>15737888</td>\n",
              "      <td>850</td>\n",
              "      <td>Exceptional</td>\n",
              "      <td>Spain</td>\n",
              "      <td>Female</td>\n",
              "      <td>43</td>\n",
              "      <td>older adults</td>\n",
              "      <td>2</td>\n",
              "      <td>very low</td>\n",
              "      <td>125510.82</td>\n",
              "      <td>above</td>\n",
              "      <td>1</td>\n",
              "      <td>1</td>\n",
              "      <td>1</td>\n",
              "      <td>79084.10</td>\n",
              "      <td>low</td>\n",
              "      <td>0</td>\n",
              "    </tr>\n",
              "  </tbody>\n",
              "</table>\n",
              "</div>\n",
              "      <button class=\"colab-df-convert\" onclick=\"convertToInteractive('df-2800d36d-6801-435c-b111-989607df1282')\"\n",
              "              title=\"Convert this dataframe to an interactive table.\"\n",
              "              style=\"display:none;\">\n",
              "        \n",
              "  <svg xmlns=\"http://www.w3.org/2000/svg\" height=\"24px\"viewBox=\"0 0 24 24\"\n",
              "       width=\"24px\">\n",
              "    <path d=\"M0 0h24v24H0V0z\" fill=\"none\"/>\n",
              "    <path d=\"M18.56 5.44l.94 2.06.94-2.06 2.06-.94-2.06-.94-.94-2.06-.94 2.06-2.06.94zm-11 1L8.5 8.5l.94-2.06 2.06-.94-2.06-.94L8.5 2.5l-.94 2.06-2.06.94zm10 10l.94 2.06.94-2.06 2.06-.94-2.06-.94-.94-2.06-.94 2.06-2.06.94z\"/><path d=\"M17.41 7.96l-1.37-1.37c-.4-.4-.92-.59-1.43-.59-.52 0-1.04.2-1.43.59L10.3 9.45l-7.72 7.72c-.78.78-.78 2.05 0 2.83L4 21.41c.39.39.9.59 1.41.59.51 0 1.02-.2 1.41-.59l7.78-7.78 2.81-2.81c.8-.78.8-2.07 0-2.86zM5.41 20L4 18.59l7.72-7.72 1.47 1.35L5.41 20z\"/>\n",
              "  </svg>\n",
              "      </button>\n",
              "      \n",
              "  <style>\n",
              "    .colab-df-container {\n",
              "      display:flex;\n",
              "      flex-wrap:wrap;\n",
              "      gap: 12px;\n",
              "    }\n",
              "\n",
              "    .colab-df-convert {\n",
              "      background-color: #E8F0FE;\n",
              "      border: none;\n",
              "      border-radius: 50%;\n",
              "      cursor: pointer;\n",
              "      display: none;\n",
              "      fill: #1967D2;\n",
              "      height: 32px;\n",
              "      padding: 0 0 0 0;\n",
              "      width: 32px;\n",
              "    }\n",
              "\n",
              "    .colab-df-convert:hover {\n",
              "      background-color: #E2EBFA;\n",
              "      box-shadow: 0px 1px 2px rgba(60, 64, 67, 0.3), 0px 1px 3px 1px rgba(60, 64, 67, 0.15);\n",
              "      fill: #174EA6;\n",
              "    }\n",
              "\n",
              "    [theme=dark] .colab-df-convert {\n",
              "      background-color: #3B4455;\n",
              "      fill: #D2E3FC;\n",
              "    }\n",
              "\n",
              "    [theme=dark] .colab-df-convert:hover {\n",
              "      background-color: #434B5C;\n",
              "      box-shadow: 0px 1px 3px 1px rgba(0, 0, 0, 0.15);\n",
              "      filter: drop-shadow(0px 1px 2px rgba(0, 0, 0, 0.3));\n",
              "      fill: #FFFFFF;\n",
              "    }\n",
              "  </style>\n",
              "\n",
              "      <script>\n",
              "        const buttonEl =\n",
              "          document.querySelector('#df-2800d36d-6801-435c-b111-989607df1282 button.colab-df-convert');\n",
              "        buttonEl.style.display =\n",
              "          google.colab.kernel.accessAllowed ? 'block' : 'none';\n",
              "\n",
              "        async function convertToInteractive(key) {\n",
              "          const element = document.querySelector('#df-2800d36d-6801-435c-b111-989607df1282');\n",
              "          const dataTable =\n",
              "            await google.colab.kernel.invokeFunction('convertToInteractive',\n",
              "                                                     [key], {});\n",
              "          if (!dataTable) return;\n",
              "\n",
              "          const docLinkHtml = 'Like what you see? Visit the ' +\n",
              "            '<a target=\"_blank\" href=https://colab.research.google.com/notebooks/data_table.ipynb>data table notebook</a>'\n",
              "            + ' to learn more about interactive tables.';\n",
              "          element.innerHTML = '';\n",
              "          dataTable['output_type'] = 'display_data';\n",
              "          await google.colab.output.renderOutput(dataTable, element);\n",
              "          const docLink = document.createElement('div');\n",
              "          docLink.innerHTML = docLinkHtml;\n",
              "          element.appendChild(docLink);\n",
              "        }\n",
              "      </script>\n",
              "    </div>\n",
              "  </div>\n",
              "  "
            ]
          },
          "metadata": {},
          "execution_count": 26
        }
      ]
    },
    {
      "cell_type": "markdown",
      "source": [
        "DataFrame di atas sudah bertambah satu kolom baru yang bernama *Salary_status* yang valuenya diisi oleh hasil pengklasifikasian masing-masing pendapatan nasabah berdasarkan kolom EstimatedSalary."
      ],
      "metadata": {
        "id": "IMVHMkhSdpNQ"
      }
    },
    {
      "cell_type": "markdown",
      "source": [
        "## v.4 Replacing values"
      ],
      "metadata": {
        "id": "RTViPpTIWA-v"
      }
    },
    {
      "cell_type": "markdown",
      "source": [
        "Untuk memudahkan dalam memahami isi dari data dan eksplorasi data, Saya memutuskan untuk menggantikan value binary yang terdapat di 3 kolom (*HasCrCard, IsActiveMember,* dan *Exited*) dengan value kategorikal, dimana value yang sebelumnya bernilai **0** digantikan dengan `No`, sedangkan yang bernilai **1** digantikan dengan `Yes`."
      ],
      "metadata": {
        "id": "QU5g_2CkeBRR"
      }
    },
    {
      "cell_type": "code",
      "source": [
        "# Replacing binary values of column\n",
        "df.replace({'HasCrCard' : {0 : 'No', 1 : 'Yes'}}, inplace=True)\n",
        "df.replace({'IsActiveMember' : {0 : 'No', 1 : 'Yes'}}, inplace=True)\n",
        "df.replace({'Exited' : {0 : 'No', 1 : 'Yes'}}, inplace=True)"
      ],
      "metadata": {
        "id": "I-RhYyN9CvzU"
      },
      "execution_count": 27,
      "outputs": []
    },
    {
      "cell_type": "code",
      "source": [
        "# Review the top rows\n",
        "df.head()"
      ],
      "metadata": {
        "colab": {
          "base_uri": "https://localhost:8080/",
          "height": 0
        },
        "id": "M0hCy8yPU1Ty",
        "outputId": "b8bc433a-3452-47ea-bff9-7ea3ceb8547c"
      },
      "execution_count": 28,
      "outputs": [
        {
          "output_type": "execute_result",
          "data": {
            "text/plain": [
              "   CustomerId  CreditScore CreditScore_status Geography  Gender  Age  \\\n",
              "0    15634602          619               Fair    France  Female   42   \n",
              "1    15647311          608               Fair     Spain  Female   41   \n",
              "2    15619304          502               Poor    France  Female   42   \n",
              "3    15701354          699               Good    France  Female   39   \n",
              "4    15737888          850        Exceptional     Spain  Female   43   \n",
              "\n",
              "     Age_status  Tenure Tenure_status    Balance Balance_status  \\\n",
              "0  older adults       2      very low       0.00          below   \n",
              "1  older adults       1      very low   83807.86          above   \n",
              "2  older adults       8          high  159660.80          above   \n",
              "3  older adults       1      very low       0.00          below   \n",
              "4  older adults       2      very low  125510.82          above   \n",
              "\n",
              "   NumOfProducts HasCrCard IsActiveMember  EstimatedSalary Salary_status  \\\n",
              "0              1       Yes            Yes        101348.88          high   \n",
              "1              1        No            Yes        112542.58          high   \n",
              "2              3       Yes             No        113931.57          high   \n",
              "3              2        No             No         93826.63           low   \n",
              "4              1       Yes            Yes         79084.10           low   \n",
              "\n",
              "  Exited  \n",
              "0    Yes  \n",
              "1     No  \n",
              "2    Yes  \n",
              "3     No  \n",
              "4     No  "
            ],
            "text/html": [
              "\n",
              "  <div id=\"df-a76af197-1778-4cc3-b9ed-43a37559df76\">\n",
              "    <div class=\"colab-df-container\">\n",
              "      <div>\n",
              "<style scoped>\n",
              "    .dataframe tbody tr th:only-of-type {\n",
              "        vertical-align: middle;\n",
              "    }\n",
              "\n",
              "    .dataframe tbody tr th {\n",
              "        vertical-align: top;\n",
              "    }\n",
              "\n",
              "    .dataframe thead th {\n",
              "        text-align: right;\n",
              "    }\n",
              "</style>\n",
              "<table border=\"1\" class=\"dataframe\">\n",
              "  <thead>\n",
              "    <tr style=\"text-align: right;\">\n",
              "      <th></th>\n",
              "      <th>CustomerId</th>\n",
              "      <th>CreditScore</th>\n",
              "      <th>CreditScore_status</th>\n",
              "      <th>Geography</th>\n",
              "      <th>Gender</th>\n",
              "      <th>Age</th>\n",
              "      <th>Age_status</th>\n",
              "      <th>Tenure</th>\n",
              "      <th>Tenure_status</th>\n",
              "      <th>Balance</th>\n",
              "      <th>Balance_status</th>\n",
              "      <th>NumOfProducts</th>\n",
              "      <th>HasCrCard</th>\n",
              "      <th>IsActiveMember</th>\n",
              "      <th>EstimatedSalary</th>\n",
              "      <th>Salary_status</th>\n",
              "      <th>Exited</th>\n",
              "    </tr>\n",
              "  </thead>\n",
              "  <tbody>\n",
              "    <tr>\n",
              "      <th>0</th>\n",
              "      <td>15634602</td>\n",
              "      <td>619</td>\n",
              "      <td>Fair</td>\n",
              "      <td>France</td>\n",
              "      <td>Female</td>\n",
              "      <td>42</td>\n",
              "      <td>older adults</td>\n",
              "      <td>2</td>\n",
              "      <td>very low</td>\n",
              "      <td>0.00</td>\n",
              "      <td>below</td>\n",
              "      <td>1</td>\n",
              "      <td>Yes</td>\n",
              "      <td>Yes</td>\n",
              "      <td>101348.88</td>\n",
              "      <td>high</td>\n",
              "      <td>Yes</td>\n",
              "    </tr>\n",
              "    <tr>\n",
              "      <th>1</th>\n",
              "      <td>15647311</td>\n",
              "      <td>608</td>\n",
              "      <td>Fair</td>\n",
              "      <td>Spain</td>\n",
              "      <td>Female</td>\n",
              "      <td>41</td>\n",
              "      <td>older adults</td>\n",
              "      <td>1</td>\n",
              "      <td>very low</td>\n",
              "      <td>83807.86</td>\n",
              "      <td>above</td>\n",
              "      <td>1</td>\n",
              "      <td>No</td>\n",
              "      <td>Yes</td>\n",
              "      <td>112542.58</td>\n",
              "      <td>high</td>\n",
              "      <td>No</td>\n",
              "    </tr>\n",
              "    <tr>\n",
              "      <th>2</th>\n",
              "      <td>15619304</td>\n",
              "      <td>502</td>\n",
              "      <td>Poor</td>\n",
              "      <td>France</td>\n",
              "      <td>Female</td>\n",
              "      <td>42</td>\n",
              "      <td>older adults</td>\n",
              "      <td>8</td>\n",
              "      <td>high</td>\n",
              "      <td>159660.80</td>\n",
              "      <td>above</td>\n",
              "      <td>3</td>\n",
              "      <td>Yes</td>\n",
              "      <td>No</td>\n",
              "      <td>113931.57</td>\n",
              "      <td>high</td>\n",
              "      <td>Yes</td>\n",
              "    </tr>\n",
              "    <tr>\n",
              "      <th>3</th>\n",
              "      <td>15701354</td>\n",
              "      <td>699</td>\n",
              "      <td>Good</td>\n",
              "      <td>France</td>\n",
              "      <td>Female</td>\n",
              "      <td>39</td>\n",
              "      <td>older adults</td>\n",
              "      <td>1</td>\n",
              "      <td>very low</td>\n",
              "      <td>0.00</td>\n",
              "      <td>below</td>\n",
              "      <td>2</td>\n",
              "      <td>No</td>\n",
              "      <td>No</td>\n",
              "      <td>93826.63</td>\n",
              "      <td>low</td>\n",
              "      <td>No</td>\n",
              "    </tr>\n",
              "    <tr>\n",
              "      <th>4</th>\n",
              "      <td>15737888</td>\n",
              "      <td>850</td>\n",
              "      <td>Exceptional</td>\n",
              "      <td>Spain</td>\n",
              "      <td>Female</td>\n",
              "      <td>43</td>\n",
              "      <td>older adults</td>\n",
              "      <td>2</td>\n",
              "      <td>very low</td>\n",
              "      <td>125510.82</td>\n",
              "      <td>above</td>\n",
              "      <td>1</td>\n",
              "      <td>Yes</td>\n",
              "      <td>Yes</td>\n",
              "      <td>79084.10</td>\n",
              "      <td>low</td>\n",
              "      <td>No</td>\n",
              "    </tr>\n",
              "  </tbody>\n",
              "</table>\n",
              "</div>\n",
              "      <button class=\"colab-df-convert\" onclick=\"convertToInteractive('df-a76af197-1778-4cc3-b9ed-43a37559df76')\"\n",
              "              title=\"Convert this dataframe to an interactive table.\"\n",
              "              style=\"display:none;\">\n",
              "        \n",
              "  <svg xmlns=\"http://www.w3.org/2000/svg\" height=\"24px\"viewBox=\"0 0 24 24\"\n",
              "       width=\"24px\">\n",
              "    <path d=\"M0 0h24v24H0V0z\" fill=\"none\"/>\n",
              "    <path d=\"M18.56 5.44l.94 2.06.94-2.06 2.06-.94-2.06-.94-.94-2.06-.94 2.06-2.06.94zm-11 1L8.5 8.5l.94-2.06 2.06-.94-2.06-.94L8.5 2.5l-.94 2.06-2.06.94zm10 10l.94 2.06.94-2.06 2.06-.94-2.06-.94-.94-2.06-.94 2.06-2.06.94z\"/><path d=\"M17.41 7.96l-1.37-1.37c-.4-.4-.92-.59-1.43-.59-.52 0-1.04.2-1.43.59L10.3 9.45l-7.72 7.72c-.78.78-.78 2.05 0 2.83L4 21.41c.39.39.9.59 1.41.59.51 0 1.02-.2 1.41-.59l7.78-7.78 2.81-2.81c.8-.78.8-2.07 0-2.86zM5.41 20L4 18.59l7.72-7.72 1.47 1.35L5.41 20z\"/>\n",
              "  </svg>\n",
              "      </button>\n",
              "      \n",
              "  <style>\n",
              "    .colab-df-container {\n",
              "      display:flex;\n",
              "      flex-wrap:wrap;\n",
              "      gap: 12px;\n",
              "    }\n",
              "\n",
              "    .colab-df-convert {\n",
              "      background-color: #E8F0FE;\n",
              "      border: none;\n",
              "      border-radius: 50%;\n",
              "      cursor: pointer;\n",
              "      display: none;\n",
              "      fill: #1967D2;\n",
              "      height: 32px;\n",
              "      padding: 0 0 0 0;\n",
              "      width: 32px;\n",
              "    }\n",
              "\n",
              "    .colab-df-convert:hover {\n",
              "      background-color: #E2EBFA;\n",
              "      box-shadow: 0px 1px 2px rgba(60, 64, 67, 0.3), 0px 1px 3px 1px rgba(60, 64, 67, 0.15);\n",
              "      fill: #174EA6;\n",
              "    }\n",
              "\n",
              "    [theme=dark] .colab-df-convert {\n",
              "      background-color: #3B4455;\n",
              "      fill: #D2E3FC;\n",
              "    }\n",
              "\n",
              "    [theme=dark] .colab-df-convert:hover {\n",
              "      background-color: #434B5C;\n",
              "      box-shadow: 0px 1px 3px 1px rgba(0, 0, 0, 0.15);\n",
              "      filter: drop-shadow(0px 1px 2px rgba(0, 0, 0, 0.3));\n",
              "      fill: #FFFFFF;\n",
              "    }\n",
              "  </style>\n",
              "\n",
              "      <script>\n",
              "        const buttonEl =\n",
              "          document.querySelector('#df-a76af197-1778-4cc3-b9ed-43a37559df76 button.colab-df-convert');\n",
              "        buttonEl.style.display =\n",
              "          google.colab.kernel.accessAllowed ? 'block' : 'none';\n",
              "\n",
              "        async function convertToInteractive(key) {\n",
              "          const element = document.querySelector('#df-a76af197-1778-4cc3-b9ed-43a37559df76');\n",
              "          const dataTable =\n",
              "            await google.colab.kernel.invokeFunction('convertToInteractive',\n",
              "                                                     [key], {});\n",
              "          if (!dataTable) return;\n",
              "\n",
              "          const docLinkHtml = 'Like what you see? Visit the ' +\n",
              "            '<a target=\"_blank\" href=https://colab.research.google.com/notebooks/data_table.ipynb>data table notebook</a>'\n",
              "            + ' to learn more about interactive tables.';\n",
              "          element.innerHTML = '';\n",
              "          dataTable['output_type'] = 'display_data';\n",
              "          await google.colab.output.renderOutput(dataTable, element);\n",
              "          const docLink = document.createElement('div');\n",
              "          docLink.innerHTML = docLinkHtml;\n",
              "          element.appendChild(docLink);\n",
              "        }\n",
              "      </script>\n",
              "    </div>\n",
              "  </div>\n",
              "  "
            ]
          },
          "metadata": {},
          "execution_count": 28
        }
      ]
    },
    {
      "cell_type": "code",
      "source": [
        "# Check shape dataset\n",
        "df.shape"
      ],
      "metadata": {
        "colab": {
          "base_uri": "https://localhost:8080/"
        },
        "id": "qSBKsHphTK8V",
        "outputId": "39876879-8104-4687-a933-8affb3b87339"
      },
      "execution_count": 29,
      "outputs": [
        {
          "output_type": "execute_result",
          "data": {
            "text/plain": [
              "(10000, 17)"
            ]
          },
          "metadata": {},
          "execution_count": 29
        }
      ]
    },
    {
      "cell_type": "markdown",
      "source": [
        "Setelah dilakukan data cleaning & data preprocessing, sekrang kita mempunyai dataFrame dengan 10.000 baris dan 17 kolom."
      ],
      "metadata": {
        "id": "0CqNxEr1Thrm"
      }
    },
    {
      "cell_type": "markdown",
      "source": [
        "## v.5 Export dataFrame to csv"
      ],
      "metadata": {
        "id": "1j6WHN3_5okn"
      }
    },
    {
      "cell_type": "code",
      "source": [
        "# Export dataFrame\n",
        "df_csv = df.to_csv('/content/drive/MyDrive/Milestone.csv', index=False)\n",
        "df_csv"
      ],
      "metadata": {
        "id": "Wm9Miw2P50Aj"
      },
      "execution_count": 30,
      "outputs": []
    },
    {
      "cell_type": "markdown",
      "source": [
        "# vi. Analysis and Calculations"
      ],
      "metadata": {
        "id": "_cCFSzA1O1CW"
      }
    },
    {
      "cell_type": "markdown",
      "source": [
        "## vi.1 Eksplorasi data"
      ],
      "metadata": {
        "id": "JQmkb-DLZ5-J"
      }
    },
    {
      "cell_type": "markdown",
      "source": [
        "### Get unique value"
      ],
      "metadata": {
        "id": "TvwHxwvyazO9"
      }
    },
    {
      "cell_type": "markdown",
      "source": [
        "Sekarang Saya ingin mengetahui apa saja unique value dari setiap variabel:"
      ],
      "metadata": {
        "id": "jdc1yJwOaldZ"
      }
    },
    {
      "cell_type": "code",
      "source": [
        "# Get unique value of each variable\n",
        "variable = df[['CreditScore_status', 'Geography', 'Gender', 'Age_status', 'Tenure_status', 'Balance_status', 'Salary_status', 'HasCrCard', 'IsActiveMember', 'Exited']]\n",
        "\n",
        "for col in variable:\n",
        "  print(col)\n",
        "  print(df[col].unique())\n",
        "  print(' ')"
      ],
      "metadata": {
        "colab": {
          "base_uri": "https://localhost:8080/"
        },
        "id": "p9GjkAhhR0tZ",
        "outputId": "fcb7ff12-09d2-471f-d25c-aec056d921fe"
      },
      "execution_count": 31,
      "outputs": [
        {
          "output_type": "stream",
          "name": "stdout",
          "text": [
            "CreditScore_status\n",
            "['Fair' 'Poor' 'Good' 'Exceptional' 'Very Good']\n",
            " \n",
            "Geography\n",
            "['France' 'Spain' 'Germany']\n",
            " \n",
            "Gender\n",
            "['Female' 'Male']\n",
            " \n",
            "Age_status\n",
            "['older adults' 'early elderly' 'young adults' 'middle-aged adults']\n",
            " \n",
            "Tenure_status\n",
            "['very low' 'high' 'medium' 'low']\n",
            " \n",
            "Balance_status\n",
            "['below' 'above']\n",
            " \n",
            "Salary_status\n",
            "['high' 'low']\n",
            " \n",
            "HasCrCard\n",
            "['Yes' 'No']\n",
            " \n",
            "IsActiveMember\n",
            "['Yes' 'No']\n",
            " \n",
            "Exited\n",
            "['Yes' 'No']\n",
            " \n"
          ]
        }
      ]
    },
    {
      "cell_type": "markdown",
      "source": [
        "### Get proporsi of each variable"
      ],
      "metadata": {
        "id": "laXwFpHAbJlz"
      }
    },
    {
      "cell_type": "markdown",
      "source": [
        "Disini Saya ingin mengetahui proporsi dari setiap karakteristik nasabah:"
      ],
      "metadata": {
        "id": "QfcZMnn9dwNK"
      }
    },
    {
      "cell_type": "code",
      "source": [
        "# get proportion per CreditScore_status\n",
        "df.groupby('CreditScore_status').size() / tot_data * 100"
      ],
      "metadata": {
        "colab": {
          "base_uri": "https://localhost:8080/"
        },
        "id": "3GCYIYKHZ4JG",
        "outputId": "094a7c4e-6225-4908-a8eb-ccb90e1b76ef"
      },
      "execution_count": 32,
      "outputs": [
        {
          "output_type": "execute_result",
          "data": {
            "text/plain": [
              "CreditScore_status\n",
              "Exceptional     6.55\n",
              "Fair           33.31\n",
              "Good           24.28\n",
              "Poor           23.62\n",
              "Very Good      12.24\n",
              "dtype: float64"
            ]
          },
          "metadata": {},
          "execution_count": 32
        }
      ]
    },
    {
      "cell_type": "code",
      "source": [
        "# get proportion per Geography\n",
        "df.groupby('Geography').size() / tot_data * 100"
      ],
      "metadata": {
        "colab": {
          "base_uri": "https://localhost:8080/"
        },
        "id": "FhCPNxa5bix2",
        "outputId": "b6e16e52-10dd-4d21-d089-557d06762a34"
      },
      "execution_count": 33,
      "outputs": [
        {
          "output_type": "execute_result",
          "data": {
            "text/plain": [
              "Geography\n",
              "France     50.14\n",
              "Germany    25.09\n",
              "Spain      24.77\n",
              "dtype: float64"
            ]
          },
          "metadata": {},
          "execution_count": 33
        }
      ]
    },
    {
      "cell_type": "code",
      "source": [
        "# get proportion per Gender\n",
        "df.groupby('Gender').size() / tot_data * 100"
      ],
      "metadata": {
        "colab": {
          "base_uri": "https://localhost:8080/"
        },
        "id": "JlX3s2_mbjNg",
        "outputId": "e320dd6e-c76b-4c3b-f19b-1642c53aa04d"
      },
      "execution_count": 34,
      "outputs": [
        {
          "output_type": "execute_result",
          "data": {
            "text/plain": [
              "Gender\n",
              "Female    45.43\n",
              "Male      54.57\n",
              "dtype: float64"
            ]
          },
          "metadata": {},
          "execution_count": 34
        }
      ]
    },
    {
      "cell_type": "code",
      "source": [
        "# get proportion per Age_status\n",
        "df.groupby('Age_status').size() / tot_data * 100"
      ],
      "metadata": {
        "colab": {
          "base_uri": "https://localhost:8080/"
        },
        "id": "Yl9sWVrrdjmn",
        "outputId": "36f18e7c-3d97-43e1-fef6-2537d7d9217d"
      },
      "execution_count": 35,
      "outputs": [
        {
          "output_type": "execute_result",
          "data": {
            "text/plain": [
              "Age_status\n",
              "early elderly         23.40\n",
              "middle-aged adults    22.97\n",
              "older adults          25.73\n",
              "young adults          27.90\n",
              "dtype: float64"
            ]
          },
          "metadata": {},
          "execution_count": 35
        }
      ]
    },
    {
      "cell_type": "code",
      "source": [
        "# get proportion per Tenure_status\n",
        "df.groupby('Tenure_status').size() / tot_data * 100"
      ],
      "metadata": {
        "colab": {
          "base_uri": "https://localhost:8080/"
        },
        "id": "sYGHt2zpbjmd",
        "outputId": "7ea07db0-78b6-45fd-d41b-e80dc7eb2dc7"
      },
      "execution_count": 36,
      "outputs": [
        {
          "output_type": "execute_result",
          "data": {
            "text/plain": [
              "Tenure_status\n",
              "high        24.99\n",
              "low         20.01\n",
              "medium      19.95\n",
              "very low    35.05\n",
              "dtype: float64"
            ]
          },
          "metadata": {},
          "execution_count": 36
        }
      ]
    },
    {
      "cell_type": "code",
      "source": [
        "# get proportion per Balance_status\n",
        "df.groupby('Balance_status').size() / tot_data * 100"
      ],
      "metadata": {
        "colab": {
          "base_uri": "https://localhost:8080/"
        },
        "id": "GcSMoJJ1bkNP",
        "outputId": "9115240a-900a-4074-f4bb-baf2519bb44f"
      },
      "execution_count": 37,
      "outputs": [
        {
          "output_type": "execute_result",
          "data": {
            "text/plain": [
              "Balance_status\n",
              "above    59.19\n",
              "below    40.81\n",
              "dtype: float64"
            ]
          },
          "metadata": {},
          "execution_count": 37
        }
      ]
    },
    {
      "cell_type": "code",
      "source": [
        "# get proportion per Salary_status\n",
        "df.groupby('Salary_status').size() / tot_data * 100"
      ],
      "metadata": {
        "colab": {
          "base_uri": "https://localhost:8080/"
        },
        "id": "nh4HFiMebkyu",
        "outputId": "ebad9183-c0e2-4f4d-8019-e8860cbcf1dd"
      },
      "execution_count": 38,
      "outputs": [
        {
          "output_type": "execute_result",
          "data": {
            "text/plain": [
              "Salary_status\n",
              "high    50.07\n",
              "low     49.93\n",
              "dtype: float64"
            ]
          },
          "metadata": {},
          "execution_count": 38
        }
      ]
    },
    {
      "cell_type": "code",
      "source": [
        "# get proportion per HasCrCard\n",
        "df.groupby('HasCrCard').size() / tot_data * 100"
      ],
      "metadata": {
        "colab": {
          "base_uri": "https://localhost:8080/"
        },
        "id": "R5gKXyh2blOU",
        "outputId": "5d275b79-8b20-42bc-fe23-42d16b23df27"
      },
      "execution_count": 39,
      "outputs": [
        {
          "output_type": "execute_result",
          "data": {
            "text/plain": [
              "HasCrCard\n",
              "No     29.45\n",
              "Yes    70.55\n",
              "dtype: float64"
            ]
          },
          "metadata": {},
          "execution_count": 39
        }
      ]
    },
    {
      "cell_type": "code",
      "source": [
        "# get proportion per IsActiveMember\n",
        "df.groupby('IsActiveMember').size() / tot_data * 100"
      ],
      "metadata": {
        "colab": {
          "base_uri": "https://localhost:8080/"
        },
        "id": "Nw2huRtcblpD",
        "outputId": "48f2ef8a-6508-449e-cbf5-36730e7d7116"
      },
      "execution_count": 40,
      "outputs": [
        {
          "output_type": "execute_result",
          "data": {
            "text/plain": [
              "IsActiveMember\n",
              "No     48.49\n",
              "Yes    51.51\n",
              "dtype: float64"
            ]
          },
          "metadata": {},
          "execution_count": 40
        }
      ]
    },
    {
      "cell_type": "code",
      "source": [
        "# get proportion per Exited\n",
        "df.groupby('Exited').size() / tot_data * 100"
      ],
      "metadata": {
        "colab": {
          "base_uri": "https://localhost:8080/"
        },
        "id": "9DZlXRvebmER",
        "outputId": "580ce82b-8cf8-4678-c200-1534d03eb4bc"
      },
      "execution_count": 41,
      "outputs": [
        {
          "output_type": "execute_result",
          "data": {
            "text/plain": [
              "Exited\n",
              "No     79.63\n",
              "Yes    20.37\n",
              "dtype: float64"
            ]
          },
          "metadata": {},
          "execution_count": 41
        }
      ]
    },
    {
      "cell_type": "markdown",
      "source": [
        "Dari informasi di atas, kita dapat mengetahui bahwa mayoritas nasabah mempunyai karakteristik sebagai berikut:<br>\n",
        "- mempunyai skor kredit di level fair (580-669),\n",
        "- berasal dari negara France,\n",
        "- berjenis kelamin male,\n",
        "- mempunyai umur di level young adults (<= 32 tahun),\n",
        "- menggunakan produk & layanan dalam durasi di level very low (<= 3 tahun),\n",
        "- mempunyai saldo bank di level above (di atas rata-rata yaitu >= 76.485,88),\n",
        "- mempunyai pendapatan di level high (di atas rata-rata yaitu >= 100.090,23),\n",
        "- memegang kartu kredit,\n",
        "- status nasabah aktif,\n",
        "- status nasabah retained (loyal customer)."
      ],
      "metadata": {
        "id": "Jb8ueIEqeVgm"
      }
    },
    {
      "cell_type": "markdown",
      "source": [
        "### Relasi terhadap churn"
      ],
      "metadata": {
        "id": "OtSGJRloidN0"
      }
    },
    {
      "cell_type": "markdown",
      "source": [
        "Selanjutnya, Saya akan melihat secara independent setiap variabel, mana yang memiliki presentase churn yang banyak sebagai sebuah karakteristik grup tersebut:"
      ],
      "metadata": {
        "id": "ySpDnuiUkJWC"
      }
    },
    {
      "cell_type": "code",
      "source": [
        "# distribution of CreditScore_status + Exited (in percentage)\n",
        "df.groupby(['CreditScore_status', 'Exited']).size() / tot_data * 100"
      ],
      "metadata": {
        "colab": {
          "base_uri": "https://localhost:8080/"
        },
        "id": "uJgGaJbtkGZ-",
        "outputId": "885ca865-a3f9-47d5-cede-ecb1230f6674"
      },
      "execution_count": 42,
      "outputs": [
        {
          "output_type": "execute_result",
          "data": {
            "text/plain": [
              "CreditScore_status  Exited\n",
              "Exceptional         No         5.27\n",
              "                    Yes        1.28\n",
              "Fair                No        26.46\n",
              "                    Yes        6.85\n",
              "Good                No        19.76\n",
              "                    Yes        4.52\n",
              "Poor                No        18.42\n",
              "                    Yes        5.20\n",
              "Very Good           No         9.72\n",
              "                    Yes        2.52\n",
              "dtype: float64"
            ]
          },
          "metadata": {},
          "execution_count": 42
        }
      ]
    },
    {
      "cell_type": "markdown",
      "source": [
        "Apakah ada pola yang menonjol?\n",
        "\n",
        "A: Ya, presentase churn nasabah yang memiliki skor kredit di level Fair (580-669) sebesar 6.85% lebih signifikan."
      ],
      "metadata": {
        "id": "Ona8xleqlC9A"
      }
    },
    {
      "cell_type": "code",
      "source": [
        "# distribution of Geography + Exited (in percentage)\n",
        "df.groupby(['Geography', 'Exited']).size() / tot_data * 100"
      ],
      "metadata": {
        "colab": {
          "base_uri": "https://localhost:8080/"
        },
        "id": "RpX6zIcomL4W",
        "outputId": "1ebcc519-6a0c-4760-ec37-29203c8e88e9"
      },
      "execution_count": 43,
      "outputs": [
        {
          "output_type": "execute_result",
          "data": {
            "text/plain": [
              "Geography  Exited\n",
              "France     No        42.04\n",
              "           Yes        8.10\n",
              "Germany    No        16.95\n",
              "           Yes        8.14\n",
              "Spain      No        20.64\n",
              "           Yes        4.13\n",
              "dtype: float64"
            ]
          },
          "metadata": {},
          "execution_count": 43
        }
      ]
    },
    {
      "cell_type": "markdown",
      "source": [
        "Apakah ada pola yang menonjol?\n",
        "\n",
        "A: Ya, presentase churn nasabah yang berasal dari negara Germany sebesar 8.14% lebih signifikan."
      ],
      "metadata": {
        "id": "5Odruzb0mpY1"
      }
    },
    {
      "cell_type": "code",
      "source": [
        "# distribution of Gender + Exited (in percentage)\n",
        "df.groupby(['Gender', 'Exited']).size() / tot_data * 100"
      ],
      "metadata": {
        "colab": {
          "base_uri": "https://localhost:8080/"
        },
        "id": "dDdI9EnIm4il",
        "outputId": "f60a73bd-64d0-4a1e-c935-dfc189940cb7"
      },
      "execution_count": 44,
      "outputs": [
        {
          "output_type": "execute_result",
          "data": {
            "text/plain": [
              "Gender  Exited\n",
              "Female  No        34.04\n",
              "        Yes       11.39\n",
              "Male    No        45.59\n",
              "        Yes        8.98\n",
              "dtype: float64"
            ]
          },
          "metadata": {},
          "execution_count": 44
        }
      ]
    },
    {
      "cell_type": "markdown",
      "source": [
        "Apakah ada pola yang menonjol?\n",
        "\n",
        "A: Ya, presentase churn nasabah yang berjenis kelamin female sebesar 11.39% lebih signifikan."
      ],
      "metadata": {
        "id": "yZow9V6HnC1K"
      }
    },
    {
      "cell_type": "code",
      "source": [
        "# distribution of Age_status + Exited (in percentage)\n",
        "df.groupby(['Age_status', 'Exited']).size() / tot_data * 100"
      ],
      "metadata": {
        "colab": {
          "base_uri": "https://localhost:8080/"
        },
        "id": "rytrtTOnnPNX",
        "outputId": "9cba4088-af66-4f7d-9e11-6ba079b2b5fa"
      },
      "execution_count": 45,
      "outputs": [
        {
          "output_type": "execute_result",
          "data": {
            "text/plain": [
              "Age_status          Exited\n",
              "early elderly       No        12.96\n",
              "                    Yes       10.44\n",
              "middle-aged adults  No        20.48\n",
              "                    Yes        2.49\n",
              "older adults        No        20.42\n",
              "                    Yes        5.31\n",
              "young adults        No        25.77\n",
              "                    Yes        2.13\n",
              "dtype: float64"
            ]
          },
          "metadata": {},
          "execution_count": 45
        }
      ]
    },
    {
      "cell_type": "markdown",
      "source": [
        "Apakah ada pola yang menonjol?\n",
        "\n",
        "A: Ya, presentase churn nasabah yang status umur-nya di level early elderly (>44 tahun) sebesar 10.44% lebih signifikan."
      ],
      "metadata": {
        "id": "h_Gws9COnlGT"
      }
    },
    {
      "cell_type": "code",
      "source": [
        "# distribution of Tenure_status + Exited (in percentage)\n",
        "df.groupby(['Tenure_status', 'Exited']).size() / tot_data * 100"
      ],
      "metadata": {
        "colab": {
          "base_uri": "https://localhost:8080/"
        },
        "id": "j4pEHbKMoI66",
        "outputId": "17ef244a-52d0-49e9-8221-7573f1c3b509"
      },
      "execution_count": 46,
      "outputs": [
        {
          "output_type": "execute_result",
          "data": {
            "text/plain": [
              "Tenure_status  Exited\n",
              "high           No        19.88\n",
              "               Yes        5.11\n",
              "low            No        15.89\n",
              "               Yes        4.12\n",
              "medium         No        16.22\n",
              "               Yes        3.73\n",
              "very low       No        27.64\n",
              "               Yes        7.41\n",
              "dtype: float64"
            ]
          },
          "metadata": {},
          "execution_count": 46
        }
      ]
    },
    {
      "cell_type": "markdown",
      "source": [
        "Apakah ada pola yang menonjol?\n",
        "\n",
        "A: Ya, presentase churn nasabah yang status tenure-nya di level very low (<= 3 tahun) sebesar 7.41% lebih signifikan.\n",
        "\n"
      ],
      "metadata": {
        "id": "R1mKu43doSQY"
      }
    },
    {
      "cell_type": "code",
      "source": [
        "# distribution of Balance_status + Exited (in percentage)\n",
        "df.groupby(['Balance_status', 'Exited']).size() / tot_data * 100"
      ],
      "metadata": {
        "colab": {
          "base_uri": "https://localhost:8080/"
        },
        "id": "UUv09ip_oy6o",
        "outputId": "f9a9372a-3a7f-4688-d4dc-f6015eedce17"
      },
      "execution_count": 47,
      "outputs": [
        {
          "output_type": "execute_result",
          "data": {
            "text/plain": [
              "Balance_status  Exited\n",
              "above           No        44.93\n",
              "                Yes       14.26\n",
              "below           No        34.70\n",
              "                Yes        6.11\n",
              "dtype: float64"
            ]
          },
          "metadata": {},
          "execution_count": 47
        }
      ]
    },
    {
      "cell_type": "markdown",
      "source": [
        "Apakah ada pola yang menonjol?\n",
        "\n",
        "A: Ya, presentase churn nasabah yang status balance-nya di level above (di atas rata-rata yaitu >= 76.485,88) sebesar 14.26% lebih signifikan."
      ],
      "metadata": {
        "id": "3PHD81J3o7qF"
      }
    },
    {
      "cell_type": "code",
      "source": [
        "# distribution of HasCrCard + Exited (in percentage)\n",
        "df.groupby(['HasCrCard', 'Exited']).size() / tot_data * 100"
      ],
      "metadata": {
        "colab": {
          "base_uri": "https://localhost:8080/"
        },
        "id": "sCsDeY2fpQVk",
        "outputId": "5391d758-a565-4607-b8b2-afa59db3c749"
      },
      "execution_count": 48,
      "outputs": [
        {
          "output_type": "execute_result",
          "data": {
            "text/plain": [
              "HasCrCard  Exited\n",
              "No         No        23.32\n",
              "           Yes        6.13\n",
              "Yes        No        56.31\n",
              "           Yes       14.24\n",
              "dtype: float64"
            ]
          },
          "metadata": {},
          "execution_count": 48
        }
      ]
    },
    {
      "cell_type": "markdown",
      "source": [
        "Apakah ada pola yang menonjol?\n",
        "\n",
        "A: Ya, presentase churn nasabah yang memegang kartu kredit sebesar 14.24% lebih signifikan."
      ],
      "metadata": {
        "id": "30p2Ic5fpaUp"
      }
    },
    {
      "cell_type": "code",
      "source": [
        "# distribution of IsActiveMember + Exited (in percentage)\n",
        "df.groupby(['IsActiveMember', 'Exited']).size() / tot_data * 100"
      ],
      "metadata": {
        "colab": {
          "base_uri": "https://localhost:8080/"
        },
        "id": "dJRTShAopoRD",
        "outputId": "4a703071-ed0e-47fc-890b-52659eff376c"
      },
      "execution_count": 49,
      "outputs": [
        {
          "output_type": "execute_result",
          "data": {
            "text/plain": [
              "IsActiveMember  Exited\n",
              "No              No        35.47\n",
              "                Yes       13.02\n",
              "Yes             No        44.16\n",
              "                Yes        7.35\n",
              "dtype: float64"
            ]
          },
          "metadata": {},
          "execution_count": 49
        }
      ]
    },
    {
      "cell_type": "markdown",
      "source": [
        "Apakah ada pola yang menonjol?\n",
        "\n",
        "A: Ya, presentase churn nasabah yang tidak aktif sebesar 13.02% lebih signifikan."
      ],
      "metadata": {
        "id": "OnTQ050Jpvwh"
      }
    },
    {
      "cell_type": "code",
      "source": [
        "# distribution of Salary_status + Exited (in percentage)\n",
        "df.groupby(['Salary_status', 'Exited']).size() / tot_data * 100"
      ],
      "metadata": {
        "colab": {
          "base_uri": "https://localhost:8080/"
        },
        "id": "dw2wc1M_pvNQ",
        "outputId": "bfde918e-807f-4d00-dcd2-0350befde5a6"
      },
      "execution_count": 50,
      "outputs": [
        {
          "output_type": "execute_result",
          "data": {
            "text/plain": [
              "Salary_status  Exited\n",
              "high           No        39.65\n",
              "               Yes       10.42\n",
              "low            No        39.98\n",
              "               Yes        9.95\n",
              "dtype: float64"
            ]
          },
          "metadata": {},
          "execution_count": 50
        }
      ]
    },
    {
      "cell_type": "markdown",
      "source": [
        "Apakah ada pola yang menonjol?\n",
        "\n",
        "A: Ya, presentase churn nasabah yang status salary-nya high (di atas rata-rata yaitu >= 100.090,23) sebesar 10.42% lebih signifikan."
      ],
      "metadata": {
        "id": "w3oI7K7OqAYB"
      }
    },
    {
      "cell_type": "markdown",
      "source": [
        "Dari analisa sederhana yang sudah kita lakukan, maka terdapat karakteristik yang cukup menonjol dari nasabah yang churn, yaitu:<br>\n",
        "1. Skor kreditnya di level **Fair** (580-669),\n",
        "2. Berasal dari negara **Germany**,\n",
        "3. Berjenis kelamin **female**,\n",
        "4. Status umurnya di level **early elderly** (>44 tahun),\n",
        "5. Status tenure-nya (durasi) di level **very low** (<= 3 tahun),\n",
        "6. Status balance-nya (saldo bank) di level **above** (di atas rata-rata yaitu >= 76.485,88),\n",
        "7. Nasabah yang **memegang kartu kredit**,\n",
        "8. Nasabah yang **tidak aktif**,\n",
        "9. Status salary-nya **high** (di atas rata-rata yaitu >= 100.090,23).<br>\n",
        "\n",
        "Karakteristik di atas belum ditetapkan sebagai karakteristik yang benar-benar signifikan dari nasabah yang churn. Setelah ini, kita akan buktikan dengan visualisasi data dan analisis statistik, apakah saja karakteristik yang benar-benar signifikan. "
      ],
      "metadata": {
        "id": "SuSDsRQErxA_"
      }
    },
    {
      "cell_type": "markdown",
      "source": [
        "## vi.2 Visualisasi data"
      ],
      "metadata": {
        "id": "9KmQbR5jwpuP"
      }
    },
    {
      "cell_type": "markdown",
      "source": [
        "Visualisasi data di sini adalah tujuan utama kita untuk mendapatkan pemahaman tentang bagaimana atribut yang diberikan berhubungan dengan status 'Exited' atau yang bisa disebut dengan *churn*."
      ],
      "metadata": {
        "id": "6a_VG8i1yU34"
      }
    },
    {
      "cell_type": "markdown",
      "source": [
        "### 1) Berapa persentase persebaran data dari masing-masing nasabah yang churned dan retained berdasarkan seluruh data?"
      ],
      "metadata": {
        "id": "vwr02yoy4rlb"
      }
    },
    {
      "cell_type": "code",
      "source": [
        "# Visualize customer churned & retained percentage in dataset\n",
        "values = df.Exited.value_counts()\n",
        "labels = ['Retained', 'Churned']\n",
        "\n",
        "fig, ax = plt.subplots(figsize = (10, 8), dpi = 100)\n",
        "explode = (0, 0.1)\n",
        "\n",
        "patches, texts, autotexts = ax.pie(values, labels = labels, autopct = '%1.2f%%', shadow = True,\n",
        "                                   startangle = 90, explode = explode)\n",
        "\n",
        "plt.setp(texts, size = 15, color = 'grey')\n",
        "plt.setp(autotexts, size = 15, color = 'white')\n",
        "autotexts[1].set_color('black')\n",
        "plt.title(\"Proportion of customer churned and retained\", size = 17)\n",
        "plt.show()"
      ],
      "metadata": {
        "colab": {
          "base_uri": "https://localhost:8080/",
          "height": 0
        },
        "id": "SendC2qF6euQ",
        "outputId": "b966b81b-b497-48b5-e724-1aa86591f47e"
      },
      "execution_count": 51,
      "outputs": [
        {
          "output_type": "display_data",
          "data": {
            "text/plain": [
              "<Figure size 1000x800 with 1 Axes>"
            ],
            "image/png": "[encoded data removed]"
          },
          "metadata": {}
        }
      ]
    },
    {
      "cell_type": "markdown",
      "source": [
        "Berdasarkan pie chart di atas, dapat disimpulkan bahwa sebaran data secara mayoritas nasabah tidak melakukan Churn, dengan detail Churn sebanyak 20,37% dan No Churn sebanyak 79,63%."
      ],
      "metadata": {
        "id": "f3q61semEEws"
      }
    },
    {
      "cell_type": "markdown",
      "source": [
        "### 2) Bagaimana karakteristik yang menonjol dari kelompok nasabah yang churn? Kemudian, urutkan juga 3 negara dari yang potensi churnnya tertinggi untuk menjadi negara prioritas yang diatasi terlebih dahulu.\n"
      ],
      "metadata": {
        "id": "RorJqSBLE33f"
      }
    },
    {
      "cell_type": "code",
      "source": [
        "sns.set(style='darkgrid')\n",
        "# memplot data dengan subplot ukuran 3x3\n",
        "fig, ax = plt.subplots(3, 3, figsize=(22, 14))\n",
        "# menampilkan data berdasarkan variabel-variabel kategorikal yang ada\n",
        "sns.countplot(data=df, x='CreditScore_status', hue='Exited', ax=ax[0][0])\n",
        "sns.countplot(data=df, x='Geography', hue='Exited', ax=ax[0][1])\n",
        "sns.countplot(data=df, x='Gender', hue='Exited', ax=ax[0][2])\n",
        "sns.countplot(data=df, x='Age_status', hue='Exited', ax=ax[1][0])\n",
        "sns.countplot(data=df, x='Tenure_status', hue='Exited', ax=ax[1][1])\n",
        "sns.countplot(data=df, x='Balance_status', hue='Exited', ax=ax[1][2])\n",
        "sns.countplot(data=df, x='HasCrCard', hue='Exited', ax=ax[2][0])\n",
        "sns.countplot(data=df, x='IsActiveMember', hue='Exited', ax=ax[2][1])\n",
        "sns.countplot(data=df, x='Salary_status', hue='Exited', ax=ax[2][2])\n",
        "plt.tight_layout()\n",
        "plt.show()"
      ],
      "metadata": {
        "colab": {
          "base_uri": "https://localhost:8080/",
          "height": 0
        },
        "id": "JrxyNJ8GOBZo",
        "outputId": "74302a0b-b74a-401f-97c4-b0ee84972db4"
      },
      "execution_count": 52,
      "outputs": [
        {
          "output_type": "display_data",
          "data": {
            "text/plain": [
              "<Figure size 1584x1008 with 9 Axes>"
            ],
            "image/png": "[encoded data removed]"
          },
          "metadata": {}
        }
      ]
    },
    {
      "cell_type": "markdown",
      "source": [
        "Berdasarkan bar chart di atas, dapat disimpulkan bahwa:<br>\n",
        "1. Disini terlihat bahwa nasabah yang churn itu yang memiliki status skor kredit di level fair (580-669). Namun faktor ini tidak berbeda secara sginifikan antara nasabah yang churn dengan nasabah yang retain.\n",
        "2. Seperti yang diketahui dari eksplorasi data sebelumnya, bahwa sebagian besar nasabah berasal dari Perancis. Namun dari visualisasi data di sini, diketahui bahwa sebagian besar nasabah yang churned berasal dari negara Jerman. Disini kita dapat berasumsi mungkin sumber daya pelayanan untuk nasabah tidak cukup dialokasikan di area di mana bank tersebut memiliki lebih sedikit klien.\n",
        "3. Proporsi nasabah perempuan yang churn lebih besar dibandingkan nasabah laki-laki.\n",
        "4. Seperti yang diketahui dari eksplorasi data sebelumnya, bahwa sebagian besar nasabah mempunyai umur di level young adults (<=32 tahun). Namun dari visualisasi data di sini, diketahui bahwa sebagian besar nasabah yang churned mempunyai umur di level early elderly (>44 tahun). \n",
        "5. Seperti yang diketahui dari eksplorasi data sebelumnya, bahwa nasabah yang churn yaitu yang sudah menggunakan produk&layanan dalam durasi waktu di level very low (<= 3 tahun). Namun jika dilihat dari visualisasi data disini bahwa ternyata tidak berbeda secara signifikan antara tenure nasabah yang churn dengan retain dan tingkat churning juga terlihat tinggi antara very low sampai high.\n",
        "6. Disini terlihat bahwa nasabah yang churn memiliki status balance-nya (saldo bank) di level above (di atas rata-rata yaitu >= 76.485,88).\n",
        "7. Menariknya, mayoritas nasabah yang melakukan churn adalah mereka yang memiliki kartu kredit. Mengingat sebagian besar nasabah memiliki kartu kredit dapat membuktikan bahwa ini hanya kebetulan. Jadi dapat dikatakan juga bahwa faktor ini tidak terlalu signifikan jika dibandingkan dengan nasabah yang retained.\n",
        "8. Disini terlihat bahwa nasabah yang tidak aktif memiliki tingkat churn yang lebih besar. \n",
        "9. Seperti yang diketahui dari eksplorasi data sebelumnya, bahwa sebagian besar nasabah mempunyai pendapatan di level high (di atas rata-rata yaitu >= 100.090,23). Namun jika dilihat dari visualisasi data disini bahwa ternyata tidak berbeda secara signifikan antara salary nasabah yang churn dengan retain."
      ],
      "metadata": {
        "id": "MMaEiilTtfQ3"
      }
    },
    {
      "cell_type": "markdown",
      "source": [
        "Dari penjabaran informasi yang sudah kita dapatkan di atas, maka dapat disimpulkan bahwa karakteristik yang menonjol dari nasabah yang churn sesungguhnya adalah:\n",
        "1. Berasal dari negara **Germany**,\n",
        "2. Berjenis kelamin **female**,\n",
        "3. Status umurnya di level **early elderly** (>44 tahun),\n",
        "4. Status balance-nya (saldo bank) di level **above** (di atas rata-rata yaitu >= 76.485,88).\n",
        "5. Nasabah yang **tidak aktif**.<br>\n",
        "\n",
        "Berdasarkan visualisasi data di atas, kita dapat mengurutkan 3 negara dari yang potensi churnnya tertinggi, yaitu:\n",
        "1. Germany,\n",
        "2. France,\n",
        "3. Spain.\n"
      ],
      "metadata": {
        "id": "f4toBrni2UsH"
      }
    },
    {
      "cell_type": "markdown",
      "source": [
        "### 3) Berdasarkan dari variabel yang kontinyu, apakah ada informasi tambahan yang mengacu pada karakteristik nasabah yang churn?"
      ],
      "metadata": {
        "id": "EmA2umAktHqd"
      }
    },
    {
      "cell_type": "code",
      "source": [
        "# visualizing continuous variables\n",
        "\n",
        "fig, ax = plt.subplots(2, 3, figsize = (16, 10))\n",
        "\n",
        "sns.boxplot(x = 'Exited', y = 'CreditScore', data = df, ax = ax[0][0])\n",
        "sns.boxplot(x = 'Exited', y = 'Age', data = df, ax = ax[0][1])\n",
        "sns.boxplot(x = 'Exited', y = 'Tenure', data = df, ax = ax[0][2])\n",
        "sns.boxplot(x = 'Exited', y = 'Balance', data = df, ax = ax[1][0])\n",
        "sns.boxplot(x = 'Exited', y = 'NumOfProducts', data = df, ax = ax[1][1])\n",
        "sns.boxplot(x = 'Exited', y = 'EstimatedSalary', data = df, ax = ax[1][2])\n",
        "\n",
        "plt.tight_layout()\n",
        "plt.show()"
      ],
      "metadata": {
        "colab": {
          "base_uri": "https://localhost:8080/",
          "height": 0
        },
        "id": "ktwZxmFw7MLW",
        "outputId": "37f807b4-672f-41a4-ccf8-cc6518187740"
      },
      "execution_count": 53,
      "outputs": [
        {
          "output_type": "display_data",
          "data": {
            "text/plain": [
              "<Figure size 1152x720 with 6 Axes>"
            ],
            "image/png": "[encoded data removed]"
          },
          "metadata": {}
        }
      ]
    },
    {
      "cell_type": "markdown",
      "source": [
        "Berdasarkan box plot di atas, dapat disimpulkan bahwa: <br>\n",
        "1. Tidak ada perbedaan yang signifikan dalam distribusi skor kredit antara nasabah yang retained dan pelanggan yang churned.<br>\n",
        "2. Nasabah yang lebih tua mempunyai tingkat churn yang lebih banyak daripada nasabah yang lebih muda. Mungkin saja ini bisa mengacu pada perbedaan preferensi layanan dalam kategori usia. Sebaiknya,pihak Bank perlu meninjau target pasarnya atau meninjau strategi retensi di antara kelompok usia yang berbeda.<br>\n",
        "3. Berkenaan dengan lamanya nasabah menggunakan produk & jasa, nasabah di kedua ujung ekstrim (baik yanh sudah menghabiskan sedikit waktu dengan bank atau banyak waktu dengan bank) lebih cenderung untuk churn dibandingkan dengan mereka yang memiliki durasi waktu dalam rata-rata, namun tidak berpengaruh signifikan.<br>\n",
        "4. Nasabah yang memiliki saldo bank yang signifikan yang mempunyai tingkat churn yang tinggi.<br>\n",
        "5. Baik jumlah produk yang digunakan nasabah maupun pendapatan nasabah, keduanya tidak berpengaruh signifikan terhadap kemungkinan terjadinya churn.<br>\n",
        "\n",
        "Berdasarkan dari variabel yang kontinyu ini, kita tidak mendapatkan informasi tambahan yang mengacu pada karakteristik nasabah yang secara signifikan berpotensi churn.\n"
      ],
      "metadata": {
        "id": "jaLUt2Nt-c5g"
      }
    },
    {
      "cell_type": "markdown",
      "source": [
        "### 4) Divisi Marketing ingin meninjau kembali strategi retensi di antara kelompok usia yang berbeda. Carilah range umur yang signifikan mengacu pada nasabah yang churn dan retain, agar strategi lebih tepat sasaran."
      ],
      "metadata": {
        "id": "53QzbuL_D2Tm"
      }
    },
    {
      "cell_type": "code",
      "source": [
        "# Distribution of data 'Age' to 'Exited'\n",
        "facet = sns.FacetGrid(df, hue = 'Exited', aspect = 4)\n",
        "facet.map(sns.kdeplot, \"Age\", shade= True)\n",
        "facet.add_legend()\n",
        "plt.show()\n",
        "\n",
        "plt.rcParams[\"figure.figsize\"] = [10,10]\n",
        "plt.rcParams[\"figure.autolayout\"] = True\n",
        "sns.histplot(data = df, x = \"Age\", kde = True, hue = \"Exited\")"
      ],
      "metadata": {
        "colab": {
          "base_uri": "https://localhost:8080/",
          "height": 0
        },
        "id": "g4UHQPM-KFRG",
        "outputId": "b169eaa6-2054-4d98-f2ab-4c6dc279b7f3"
      },
      "execution_count": 54,
      "outputs": [
        {
          "output_type": "display_data",
          "data": {
            "text/plain": [
              "<Figure size 921.475x216 with 1 Axes>"
            ],
            "image/png": "[encoded data removed]"
          },
          "metadata": {}
        },
        {
          "output_type": "execute_result",
          "data": {
            "text/plain": [
              "<matplotlib.axes._subplots.AxesSubplot at 0x7f5b5e7e5730>"
            ]
          },
          "metadata": {},
          "execution_count": 54
        },
        {
          "output_type": "display_data",
          "data": {
            "text/plain": [
              "<Figure size 720x720 with 1 Axes>"
            ],
            "image/png": "[encoded data removed]"
          },
          "metadata": {}
        }
      ]
    },
    {
      "cell_type": "markdown",
      "source": [
        "Berdasarkan distribusi data *Age* terhadap *Exited* dapat terlihat bahwa tingkat nasabah churned paling banyak ada pada kisaran range umur 40-50 tahun sementara di bawah umur 40 tahun dan di atas umur 50 tahun rata-rata nasabah retained."
      ],
      "metadata": {
        "id": "czoLfD-3Lc2j"
      }
    },
    {
      "cell_type": "markdown",
      "source": [
        "## vi.3 Statistical analysis"
      ],
      "metadata": {
        "id": "7luvSHMfz3M2"
      }
    },
    {
      "cell_type": "markdown",
      "source": [
        "### Statistik deskriptif"
      ],
      "metadata": {
        "id": "6IVcMAQJUH29"
      }
    },
    {
      "cell_type": "markdown",
      "source": [
        "### 5) Pada poin nomor 4 sudah mendapatkan range umur nasabah yang signifikan churn dan retain dari data keseluruhan. Silakan gunakan data yang sama untuk mendeteksi outlier pada kolom *Age*, kemudian lanjutkan untuk menjawab poin nomor 6."
      ],
      "metadata": {
        "id": "TGlsqJfpQZXd"
      }
    },
    {
      "cell_type": "code",
      "source": [
        "# Create a function to print the skewness\n",
        "def print_skewness(data):\n",
        "    print (f'\\'{data.name}\\' skewness: {data.skew()}')\n",
        "    if data.skew() > 0.5:\n",
        "        print (\"right skewed\")\n",
        "    elif data.skew() < -0.5:\n",
        "        print( \"Left Skewed\")\n",
        "    else:\n",
        "        print(\"Normal Distribution\")"
      ],
      "metadata": {
        "id": "V5npENn6b2ty"
      },
      "execution_count": 55,
      "outputs": []
    },
    {
      "cell_type": "code",
      "source": [
        "from scipy.stats import norm\n",
        "# Create a function to visualize the data\n",
        "def visualize_data(data):\n",
        "    print_skewness(data)\n",
        "    plt.hist(data, bins=25, rwidth=1, density=True)\n",
        "    plt.xlabel(f'{data.name}')\n",
        "    plt.ylabel('Count')\n",
        "    rng = np.arange(data.min(), data.max(), 0.1)\n",
        "    plt.plot(rng, norm.pdf(rng,data.mean(),data.std()))\n",
        "    # Label the plot\n",
        "    plt.legend(['Normal PDF(Probability Density Function) ', 'Histogram'])\n",
        "    plt.axvline(data.mean(), color='magenta', linestyle='dashed', linewidth=2)\n",
        "    plt.axvline(data.median(), color='green', linestyle='dashed', linewidth=2)\n",
        "    plt.axvline(data.mode()[0], color='red', linestyle='dashed', linewidth=2)\n",
        "    plt.show()"
      ],
      "metadata": {
        "id": "_6mhJatxb8wh"
      },
      "execution_count": 56,
      "outputs": []
    },
    {
      "cell_type": "code",
      "source": [
        "# Execute the function by entering data\n",
        "visualize_data(df[\"Age\"])"
      ],
      "metadata": {
        "colab": {
          "base_uri": "https://localhost:8080/",
          "height": 0
        },
        "id": "rqiGpmqVcBqX",
        "outputId": "a4824b88-af40-40b9-adc2-893634bd8ca2"
      },
      "execution_count": 57,
      "outputs": [
        {
          "output_type": "stream",
          "name": "stdout",
          "text": [
            "'Age' skewness: 1.0113202630234552\n",
            "right skewed\n"
          ]
        },
        {
          "output_type": "display_data",
          "data": {
            "text/plain": [
              "<Figure size 720x720 with 1 Axes>"
            ],
            "image/png": "[encoded data removed]"
          },
          "metadata": {}
        }
      ]
    },
    {
      "cell_type": "markdown",
      "source": [
        "Notes:\n",
        "- Magenta line: mean dari *Age*.\n",
        "- Green line: median dari *Age*.\n",
        "- Red line: mode dari *Age*.<br>\n",
        "\n",
        "Perhatikan bahwa *density line* menunjukkan bahwa data terdistribusi ***'right skewed'*** dengan nilai skewness yaitu 1.01. Jika dilihat pada plot di atas, kondisi Right-skewed ini menarik nilai mean ke kanan karena adanya nilai data yang tinggi dan jarang terjadi sehingga `mode < median < mean`. \n",
        "\n",
        "Karena distribusi data-nya tidak normal *(skewed distribution)*, maka kita bisa mendeteksi dan menghapus outlier dengan menggunakan `Tukey's rule`:"
      ],
      "metadata": {
        "id": "0cBNGSuncuGl"
      }
    },
    {
      "cell_type": "code",
      "source": [
        "# display the outliers in the box plot\n",
        "df['Age'].plot(kind='box', title='Age Distribution', figsize=(10,8))\n",
        "plt.show()"
      ],
      "metadata": {
        "colab": {
          "base_uri": "https://localhost:8080/",
          "height": 0
        },
        "id": "kdJWyEtEdvrL",
        "outputId": "7a85f646-b457-425a-8139-a20192c6934e"
      },
      "execution_count": 58,
      "outputs": [
        {
          "output_type": "display_data",
          "data": {
            "text/plain": [
              "<Figure size 720x576 with 1 Axes>"
            ],
            "image/png": "[encoded data removed]"
          },
          "metadata": {}
        }
      ]
    },
    {
      "cell_type": "markdown",
      "source": [
        "Jika dilihat dari box plot di atas menunjukkan bahwa terdapat banyak outlier pada nasabah yang lansia. Setelah ini, Saya membuktikan adanya outlier menggunakan IQR:"
      ],
      "metadata": {
        "id": "JMdygSnId9VV"
      }
    },
    {
      "cell_type": "code",
      "source": [
        "# Compute the first and third quantiles\n",
        "Q1 = df['Age'].quantile(0.25)\n",
        "Q3 = df['Age'].quantile(0.75)\n",
        "Q1, Q3"
      ],
      "metadata": {
        "colab": {
          "base_uri": "https://localhost:8080/"
        },
        "id": "eLCulIcTeYY7",
        "outputId": "1169d9dc-5f4c-4e09-eb14-642de444c63d"
      },
      "execution_count": 59,
      "outputs": [
        {
          "output_type": "execute_result",
          "data": {
            "text/plain": [
              "(32.0, 44.0)"
            ]
          },
          "metadata": {},
          "execution_count": 59
        }
      ]
    },
    {
      "cell_type": "code",
      "source": [
        "# Compute the IQR \n",
        "IQR = Q3 - Q1\n",
        "IQR"
      ],
      "metadata": {
        "colab": {
          "base_uri": "https://localhost:8080/"
        },
        "id": "HE8QYYKKffrY",
        "outputId": "3f0935c1-ede9-44e7-da9b-398330b3c197"
      },
      "execution_count": 60,
      "outputs": [
        {
          "output_type": "execute_result",
          "data": {
            "text/plain": [
              "12.0"
            ]
          },
          "metadata": {},
          "execution_count": 60
        }
      ]
    },
    {
      "cell_type": "code",
      "source": [
        "# Calculate the lower and upper cutoffs for outliers\n",
        "lower_limit = Q1 - 1.5*IQR\n",
        "upper_limit = Q3 + 1.5*IQR\n",
        "lower_limit, upper_limit"
      ],
      "metadata": {
        "colab": {
          "base_uri": "https://localhost:8080/"
        },
        "id": "kSJiRC4JfiLR",
        "outputId": "be73e8ef-f1c8-4add-bbd8-04badb811c63"
      },
      "execution_count": 61,
      "outputs": [
        {
          "output_type": "execute_result",
          "data": {
            "text/plain": [
              "(14.0, 62.0)"
            ]
          },
          "metadata": {},
          "execution_count": 61
        }
      ]
    },
    {
      "cell_type": "code",
      "source": [
        "# Subset df to find outliers\n",
        "outliers = df[(df['Age']>upper_limit) | (df['Age']<lower_limit)] \n",
        "outliers"
      ],
      "metadata": {
        "colab": {
          "base_uri": "https://localhost:8080/",
          "height": 0
        },
        "id": "5pruAgJLgRIr",
        "outputId": "c9d2fb7e-8a13-42fc-fd67-6b2c28671b6f"
      },
      "execution_count": 62,
      "outputs": [
        {
          "output_type": "execute_result",
          "data": {
            "text/plain": [
              "      CustomerId  CreditScore CreditScore_status Geography  Gender  Age  \\\n",
              "58      15623944          511               Poor     Spain  Female   66   \n",
              "85      15805254          652               Fair     Spain  Female   75   \n",
              "104     15804919          670               Good     Spain  Female   65   \n",
              "158     15589975          646               Fair    France  Female   73   \n",
              "181     15789669          510               Poor    France    Male   65   \n",
              "...          ...          ...                ...       ...     ...  ...   \n",
              "9753    15705174          656               Fair   Germany    Male   68   \n",
              "9765    15777067          445               Poor    France    Male   64   \n",
              "9832    15814690          595               Fair   Germany  Female   64   \n",
              "9894    15704795          521               Poor    France  Female   77   \n",
              "9936    15653037          609               Fair    France    Male   77   \n",
              "\n",
              "         Age_status  Tenure Tenure_status    Balance Balance_status  \\\n",
              "58    early elderly       4           low       0.00          below   \n",
              "85    early elderly      10          high       0.00          below   \n",
              "104   early elderly       1      very low       0.00          below   \n",
              "158   early elderly       6        medium   97259.25          above   \n",
              "181   early elderly       2      very low       0.00          below   \n",
              "...             ...     ...           ...        ...            ...   \n",
              "9753  early elderly       7        medium  153545.11          above   \n",
              "9765  early elderly       2      very low  136770.67          above   \n",
              "9832  early elderly       2      very low  105736.32          above   \n",
              "9894  early elderly       6        medium       0.00          below   \n",
              "9936  early elderly       1      very low       0.00          below   \n",
              "\n",
              "      NumOfProducts HasCrCard IsActiveMember  EstimatedSalary Salary_status  \\\n",
              "58                1       Yes             No          1643.11           low   \n",
              "85                2       Yes            Yes        114675.75          high   \n",
              "104               1       Yes            Yes        177655.68          high   \n",
              "158               1        No            Yes        104719.66          high   \n",
              "181               2       Yes            Yes         48071.61           low   \n",
              "...             ...       ...            ...              ...           ...   \n",
              "9753              1       Yes            Yes        186574.68          high   \n",
              "9765              1        No            Yes         43678.06           low   \n",
              "9832              1       Yes            Yes         89935.73           low   \n",
              "9894              2       Yes            Yes         49054.10           low   \n",
              "9936              1        No            Yes         18708.76           low   \n",
              "\n",
              "     Exited  \n",
              "58      Yes  \n",
              "85       No  \n",
              "104     Yes  \n",
              "158      No  \n",
              "181      No  \n",
              "...     ...  \n",
              "9753     No  \n",
              "9765     No  \n",
              "9832    Yes  \n",
              "9894     No  \n",
              "9936     No  \n",
              "\n",
              "[359 rows x 17 columns]"
            ],
            "text/html": [
              "\n",
              "  <div id=\"df-979033c1-aa45-4bf7-b63d-7609593ecf58\">\n",
              "    <div class=\"colab-df-container\">\n",
              "      <div>\n",
              "<style scoped>\n",
              "    .dataframe tbody tr th:only-of-type {\n",
              "        vertical-align: middle;\n",
              "    }\n",
              "\n",
              "    .dataframe tbody tr th {\n",
              "        vertical-align: top;\n",
              "    }\n",
              "\n",
              "    .dataframe thead th {\n",
              "        text-align: right;\n",
              "    }\n",
              "</style>\n",
              "<table border=\"1\" class=\"dataframe\">\n",
              "  <thead>\n",
              "    <tr style=\"text-align: right;\">\n",
              "      <th></th>\n",
              "      <th>CustomerId</th>\n",
              "      <th>CreditScore</th>\n",
              "      <th>CreditScore_status</th>\n",
              "      <th>Geography</th>\n",
              "      <th>Gender</th>\n",
              "      <th>Age</th>\n",
              "      <th>Age_status</th>\n",
              "      <th>Tenure</th>\n",
              "      <th>Tenure_status</th>\n",
              "      <th>Balance</th>\n",
              "      <th>Balance_status</th>\n",
              "      <th>NumOfProducts</th>\n",
              "      <th>HasCrCard</th>\n",
              "      <th>IsActiveMember</th>\n",
              "      <th>EstimatedSalary</th>\n",
              "      <th>Salary_status</th>\n",
              "      <th>Exited</th>\n",
              "    </tr>\n",
              "  </thead>\n",
              "  <tbody>\n",
              "    <tr>\n",
              "      <th>58</th>\n",
              "      <td>15623944</td>\n",
              "      <td>511</td>\n",
              "      <td>Poor</td>\n",
              "      <td>Spain</td>\n",
              "      <td>Female</td>\n",
              "      <td>66</td>\n",
              "      <td>early elderly</td>\n",
              "      <td>4</td>\n",
              "      <td>low</td>\n",
              "      <td>0.00</td>\n",
              "      <td>below</td>\n",
              "      <td>1</td>\n",
              "      <td>Yes</td>\n",
              "      <td>No</td>\n",
              "      <td>1643.11</td>\n",
              "      <td>low</td>\n",
              "      <td>Yes</td>\n",
              "    </tr>\n",
              "    <tr>\n",
              "      <th>85</th>\n",
              "      <td>15805254</td>\n",
              "      <td>652</td>\n",
              "      <td>Fair</td>\n",
              "      <td>Spain</td>\n",
              "      <td>Female</td>\n",
              "      <td>75</td>\n",
              "      <td>early elderly</td>\n",
              "      <td>10</td>\n",
              "      <td>high</td>\n",
              "      <td>0.00</td>\n",
              "      <td>below</td>\n",
              "      <td>2</td>\n",
              "      <td>Yes</td>\n",
              "      <td>Yes</td>\n",
              "      <td>114675.75</td>\n",
              "      <td>high</td>\n",
              "      <td>No</td>\n",
              "    </tr>\n",
              "    <tr>\n",
              "      <th>104</th>\n",
              "      <td>15804919</td>\n",
              "      <td>670</td>\n",
              "      <td>Good</td>\n",
              "      <td>Spain</td>\n",
              "      <td>Female</td>\n",
              "      <td>65</td>\n",
              "      <td>early elderly</td>\n",
              "      <td>1</td>\n",
              "      <td>very low</td>\n",
              "      <td>0.00</td>\n",
              "      <td>below</td>\n",
              "      <td>1</td>\n",
              "      <td>Yes</td>\n",
              "      <td>Yes</td>\n",
              "      <td>177655.68</td>\n",
              "      <td>high</td>\n",
              "      <td>Yes</td>\n",
              "    </tr>\n",
              "    <tr>\n",
              "      <th>158</th>\n",
              "      <td>15589975</td>\n",
              "      <td>646</td>\n",
              "      <td>Fair</td>\n",
              "      <td>France</td>\n",
              "      <td>Female</td>\n",
              "      <td>73</td>\n",
              "      <td>early elderly</td>\n",
              "      <td>6</td>\n",
              "      <td>medium</td>\n",
              "      <td>97259.25</td>\n",
              "      <td>above</td>\n",
              "      <td>1</td>\n",
              "      <td>No</td>\n",
              "      <td>Yes</td>\n",
              "      <td>104719.66</td>\n",
              "      <td>high</td>\n",
              "      <td>No</td>\n",
              "    </tr>\n",
              "    <tr>\n",
              "      <th>181</th>\n",
              "      <td>15789669</td>\n",
              "      <td>510</td>\n",
              "      <td>Poor</td>\n",
              "      <td>France</td>\n",
              "      <td>Male</td>\n",
              "      <td>65</td>\n",
              "      <td>early elderly</td>\n",
              "      <td>2</td>\n",
              "      <td>very low</td>\n",
              "      <td>0.00</td>\n",
              "      <td>below</td>\n",
              "      <td>2</td>\n",
              "      <td>Yes</td>\n",
              "      <td>Yes</td>\n",
              "      <td>48071.61</td>\n",
              "      <td>low</td>\n",
              "      <td>No</td>\n",
              "    </tr>\n",
              "    <tr>\n",
              "      <th>...</th>\n",
              "      <td>...</td>\n",
              "      <td>...</td>\n",
              "      <td>...</td>\n",
              "      <td>...</td>\n",
              "      <td>...</td>\n",
              "      <td>...</td>\n",
              "      <td>...</td>\n",
              "      <td>...</td>\n",
              "      <td>...</td>\n",
              "      <td>...</td>\n",
              "      <td>...</td>\n",
              "      <td>...</td>\n",
              "      <td>...</td>\n",
              "      <td>...</td>\n",
              "      <td>...</td>\n",
              "      <td>...</td>\n",
              "      <td>...</td>\n",
              "    </tr>\n",
              "    <tr>\n",
              "      <th>9753</th>\n",
              "      <td>15705174</td>\n",
              "      <td>656</td>\n",
              "      <td>Fair</td>\n",
              "      <td>Germany</td>\n",
              "      <td>Male</td>\n",
              "      <td>68</td>\n",
              "      <td>early elderly</td>\n",
              "      <td>7</td>\n",
              "      <td>medium</td>\n",
              "      <td>153545.11</td>\n",
              "      <td>above</td>\n",
              "      <td>1</td>\n",
              "      <td>Yes</td>\n",
              "      <td>Yes</td>\n",
              "      <td>186574.68</td>\n",
              "      <td>high</td>\n",
              "      <td>No</td>\n",
              "    </tr>\n",
              "    <tr>\n",
              "      <th>9765</th>\n",
              "      <td>15777067</td>\n",
              "      <td>445</td>\n",
              "      <td>Poor</td>\n",
              "      <td>France</td>\n",
              "      <td>Male</td>\n",
              "      <td>64</td>\n",
              "      <td>early elderly</td>\n",
              "      <td>2</td>\n",
              "      <td>very low</td>\n",
              "      <td>136770.67</td>\n",
              "      <td>above</td>\n",
              "      <td>1</td>\n",
              "      <td>No</td>\n",
              "      <td>Yes</td>\n",
              "      <td>43678.06</td>\n",
              "      <td>low</td>\n",
              "      <td>No</td>\n",
              "    </tr>\n",
              "    <tr>\n",
              "      <th>9832</th>\n",
              "      <td>15814690</td>\n",
              "      <td>595</td>\n",
              "      <td>Fair</td>\n",
              "      <td>Germany</td>\n",
              "      <td>Female</td>\n",
              "      <td>64</td>\n",
              "      <td>early elderly</td>\n",
              "      <td>2</td>\n",
              "      <td>very low</td>\n",
              "      <td>105736.32</td>\n",
              "      <td>above</td>\n",
              "      <td>1</td>\n",
              "      <td>Yes</td>\n",
              "      <td>Yes</td>\n",
              "      <td>89935.73</td>\n",
              "      <td>low</td>\n",
              "      <td>Yes</td>\n",
              "    </tr>\n",
              "    <tr>\n",
              "      <th>9894</th>\n",
              "      <td>15704795</td>\n",
              "      <td>521</td>\n",
              "      <td>Poor</td>\n",
              "      <td>France</td>\n",
              "      <td>Female</td>\n",
              "      <td>77</td>\n",
              "      <td>early elderly</td>\n",
              "      <td>6</td>\n",
              "      <td>medium</td>\n",
              "      <td>0.00</td>\n",
              "      <td>below</td>\n",
              "      <td>2</td>\n",
              "      <td>Yes</td>\n",
              "      <td>Yes</td>\n",
              "      <td>49054.10</td>\n",
              "      <td>low</td>\n",
              "      <td>No</td>\n",
              "    </tr>\n",
              "    <tr>\n",
              "      <th>9936</th>\n",
              "      <td>15653037</td>\n",
              "      <td>609</td>\n",
              "      <td>Fair</td>\n",
              "      <td>France</td>\n",
              "      <td>Male</td>\n",
              "      <td>77</td>\n",
              "      <td>early elderly</td>\n",
              "      <td>1</td>\n",
              "      <td>very low</td>\n",
              "      <td>0.00</td>\n",
              "      <td>below</td>\n",
              "      <td>1</td>\n",
              "      <td>No</td>\n",
              "      <td>Yes</td>\n",
              "      <td>18708.76</td>\n",
              "      <td>low</td>\n",
              "      <td>No</td>\n",
              "    </tr>\n",
              "  </tbody>\n",
              "</table>\n",
              "<p>359 rows × 17 columns</p>\n",
              "</div>\n",
              "      <button class=\"colab-df-convert\" onclick=\"convertToInteractive('df-979033c1-aa45-4bf7-b63d-7609593ecf58')\"\n",
              "              title=\"Convert this dataframe to an interactive table.\"\n",
              "              style=\"display:none;\">\n",
              "        \n",
              "  <svg xmlns=\"http://www.w3.org/2000/svg\" height=\"24px\"viewBox=\"0 0 24 24\"\n",
              "       width=\"24px\">\n",
              "    <path d=\"M0 0h24v24H0V0z\" fill=\"none\"/>\n",
              "    <path d=\"M18.56 5.44l.94 2.06.94-2.06 2.06-.94-2.06-.94-.94-2.06-.94 2.06-2.06.94zm-11 1L8.5 8.5l.94-2.06 2.06-.94-2.06-.94L8.5 2.5l-.94 2.06-2.06.94zm10 10l.94 2.06.94-2.06 2.06-.94-2.06-.94-.94-2.06-.94 2.06-2.06.94z\"/><path d=\"M17.41 7.96l-1.37-1.37c-.4-.4-.92-.59-1.43-.59-.52 0-1.04.2-1.43.59L10.3 9.45l-7.72 7.72c-.78.78-.78 2.05 0 2.83L4 21.41c.39.39.9.59 1.41.59.51 0 1.02-.2 1.41-.59l7.78-7.78 2.81-2.81c.8-.78.8-2.07 0-2.86zM5.41 20L4 18.59l7.72-7.72 1.47 1.35L5.41 20z\"/>\n",
              "  </svg>\n",
              "      </button>\n",
              "      \n",
              "  <style>\n",
              "    .colab-df-container {\n",
              "      display:flex;\n",
              "      flex-wrap:wrap;\n",
              "      gap: 12px;\n",
              "    }\n",
              "\n",
              "    .colab-df-convert {\n",
              "      background-color: #E8F0FE;\n",
              "      border: none;\n",
              "      border-radius: 50%;\n",
              "      cursor: pointer;\n",
              "      display: none;\n",
              "      fill: #1967D2;\n",
              "      height: 32px;\n",
              "      padding: 0 0 0 0;\n",
              "      width: 32px;\n",
              "    }\n",
              "\n",
              "    .colab-df-convert:hover {\n",
              "      background-color: #E2EBFA;\n",
              "      box-shadow: 0px 1px 2px rgba(60, 64, 67, 0.3), 0px 1px 3px 1px rgba(60, 64, 67, 0.15);\n",
              "      fill: #174EA6;\n",
              "    }\n",
              "\n",
              "    [theme=dark] .colab-df-convert {\n",
              "      background-color: #3B4455;\n",
              "      fill: #D2E3FC;\n",
              "    }\n",
              "\n",
              "    [theme=dark] .colab-df-convert:hover {\n",
              "      background-color: #434B5C;\n",
              "      box-shadow: 0px 1px 3px 1px rgba(0, 0, 0, 0.15);\n",
              "      filter: drop-shadow(0px 1px 2px rgba(0, 0, 0, 0.3));\n",
              "      fill: #FFFFFF;\n",
              "    }\n",
              "  </style>\n",
              "\n",
              "      <script>\n",
              "        const buttonEl =\n",
              "          document.querySelector('#df-979033c1-aa45-4bf7-b63d-7609593ecf58 button.colab-df-convert');\n",
              "        buttonEl.style.display =\n",
              "          google.colab.kernel.accessAllowed ? 'block' : 'none';\n",
              "\n",
              "        async function convertToInteractive(key) {\n",
              "          const element = document.querySelector('#df-979033c1-aa45-4bf7-b63d-7609593ecf58');\n",
              "          const dataTable =\n",
              "            await google.colab.kernel.invokeFunction('convertToInteractive',\n",
              "                                                     [key], {});\n",
              "          if (!dataTable) return;\n",
              "\n",
              "          const docLinkHtml = 'Like what you see? Visit the ' +\n",
              "            '<a target=\"_blank\" href=https://colab.research.google.com/notebooks/data_table.ipynb>data table notebook</a>'\n",
              "            + ' to learn more about interactive tables.';\n",
              "          element.innerHTML = '';\n",
              "          dataTable['output_type'] = 'display_data';\n",
              "          await google.colab.output.renderOutput(dataTable, element);\n",
              "          const docLink = document.createElement('div');\n",
              "          docLink.innerHTML = docLinkHtml;\n",
              "          element.appendChild(docLink);\n",
              "        }\n",
              "      </script>\n",
              "    </div>\n",
              "  </div>\n",
              "  "
            ]
          },
          "metadata": {},
          "execution_count": 62
        }
      ]
    },
    {
      "cell_type": "code",
      "source": [
        "# Percentage of outliers\n",
        "total_data = df.shape[0]\n",
        "percentage_outliers = len(outliers) / total_data * 100\n",
        "print('Jumlah outliernya ada:', percentage_outliers, '%')"
      ],
      "metadata": {
        "colab": {
          "base_uri": "https://localhost:8080/"
        },
        "id": "xRs_U3XVhjXx",
        "outputId": "47f39712-f501-4d93-a2c3-ba1a88ea7261"
      },
      "execution_count": 63,
      "outputs": [
        {
          "output_type": "stream",
          "name": "stdout",
          "text": [
            "Jumlah outliernya ada: 3.5900000000000003 %\n"
          ]
        }
      ]
    },
    {
      "cell_type": "code",
      "source": [
        "# Subset df to find dataFrame no outliers\n",
        "df_no_outlier = df[~(df['Age']>upper_limit) & ~(df['Age']<lower_limit)] \n",
        "df_no_outlier"
      ],
      "metadata": {
        "colab": {
          "base_uri": "https://localhost:8080/",
          "height": 0
        },
        "id": "U73VobWWhpNS",
        "outputId": "694559e6-70d2-4f59-c1d7-00e689fc6f22"
      },
      "execution_count": 64,
      "outputs": [
        {
          "output_type": "execute_result",
          "data": {
            "text/plain": [
              "      CustomerId  CreditScore CreditScore_status Geography  Gender  Age  \\\n",
              "0       15634602          619               Fair    France  Female   42   \n",
              "1       15647311          608               Fair     Spain  Female   41   \n",
              "2       15619304          502               Poor    France  Female   42   \n",
              "3       15701354          699               Good    France  Female   39   \n",
              "4       15737888          850        Exceptional     Spain  Female   43   \n",
              "...          ...          ...                ...       ...     ...  ...   \n",
              "9995    15606229          771          Very Good    France    Male   39   \n",
              "9996    15569892          516               Poor    France    Male   35   \n",
              "9997    15584532          709               Good    France  Female   36   \n",
              "9998    15682355          772          Very Good   Germany    Male   42   \n",
              "9999    15628319          792          Very Good    France  Female   28   \n",
              "\n",
              "              Age_status  Tenure Tenure_status    Balance Balance_status  \\\n",
              "0           older adults       2      very low       0.00          below   \n",
              "1           older adults       1      very low   83807.86          above   \n",
              "2           older adults       8          high  159660.80          above   \n",
              "3           older adults       1      very low       0.00          below   \n",
              "4           older adults       2      very low  125510.82          above   \n",
              "...                  ...     ...           ...        ...            ...   \n",
              "9995        older adults       5           low       0.00          below   \n",
              "9996  middle-aged adults      10          high   57369.61          below   \n",
              "9997  middle-aged adults       7        medium       0.00          below   \n",
              "9998        older adults       3      very low   75075.31          below   \n",
              "9999        young adults       4           low  130142.79          above   \n",
              "\n",
              "      NumOfProducts HasCrCard IsActiveMember  EstimatedSalary Salary_status  \\\n",
              "0                 1       Yes            Yes        101348.88          high   \n",
              "1                 1        No            Yes        112542.58          high   \n",
              "2                 3       Yes             No        113931.57          high   \n",
              "3                 2        No             No         93826.63           low   \n",
              "4                 1       Yes            Yes         79084.10           low   \n",
              "...             ...       ...            ...              ...           ...   \n",
              "9995              2       Yes             No         96270.64           low   \n",
              "9996              1       Yes            Yes        101699.77          high   \n",
              "9997              1        No            Yes         42085.58           low   \n",
              "9998              2       Yes             No         92888.52           low   \n",
              "9999              1       Yes             No         38190.78           low   \n",
              "\n",
              "     Exited  \n",
              "0       Yes  \n",
              "1        No  \n",
              "2       Yes  \n",
              "3        No  \n",
              "4        No  \n",
              "...     ...  \n",
              "9995     No  \n",
              "9996     No  \n",
              "9997    Yes  \n",
              "9998    Yes  \n",
              "9999     No  \n",
              "\n",
              "[9641 rows x 17 columns]"
            ],
            "text/html": [
              "\n",
              "  <div id=\"df-f9b858a3-23cf-413f-beee-6fb096a3fd5a\">\n",
              "    <div class=\"colab-df-container\">\n",
              "      <div>\n",
              "<style scoped>\n",
              "    .dataframe tbody tr th:only-of-type {\n",
              "        vertical-align: middle;\n",
              "    }\n",
              "\n",
              "    .dataframe tbody tr th {\n",
              "        vertical-align: top;\n",
              "    }\n",
              "\n",
              "    .dataframe thead th {\n",
              "        text-align: right;\n",
              "    }\n",
              "</style>\n",
              "<table border=\"1\" class=\"dataframe\">\n",
              "  <thead>\n",
              "    <tr style=\"text-align: right;\">\n",
              "      <th></th>\n",
              "      <th>CustomerId</th>\n",
              "      <th>CreditScore</th>\n",
              "      <th>CreditScore_status</th>\n",
              "      <th>Geography</th>\n",
              "      <th>Gender</th>\n",
              "      <th>Age</th>\n",
              "      <th>Age_status</th>\n",
              "      <th>Tenure</th>\n",
              "      <th>Tenure_status</th>\n",
              "      <th>Balance</th>\n",
              "      <th>Balance_status</th>\n",
              "      <th>NumOfProducts</th>\n",
              "      <th>HasCrCard</th>\n",
              "      <th>IsActiveMember</th>\n",
              "      <th>EstimatedSalary</th>\n",
              "      <th>Salary_status</th>\n",
              "      <th>Exited</th>\n",
              "    </tr>\n",
              "  </thead>\n",
              "  <tbody>\n",
              "    <tr>\n",
              "      <th>0</th>\n",
              "      <td>15634602</td>\n",
              "      <td>619</td>\n",
              "      <td>Fair</td>\n",
              "      <td>France</td>\n",
              "      <td>Female</td>\n",
              "      <td>42</td>\n",
              "      <td>older adults</td>\n",
              "      <td>2</td>\n",
              "      <td>very low</td>\n",
              "      <td>0.00</td>\n",
              "      <td>below</td>\n",
              "      <td>1</td>\n",
              "      <td>Yes</td>\n",
              "      <td>Yes</td>\n",
              "      <td>101348.88</td>\n",
              "      <td>high</td>\n",
              "      <td>Yes</td>\n",
              "    </tr>\n",
              "    <tr>\n",
              "      <th>1</th>\n",
              "      <td>15647311</td>\n",
              "      <td>608</td>\n",
              "      <td>Fair</td>\n",
              "      <td>Spain</td>\n",
              "      <td>Female</td>\n",
              "      <td>41</td>\n",
              "      <td>older adults</td>\n",
              "      <td>1</td>\n",
              "      <td>very low</td>\n",
              "      <td>83807.86</td>\n",
              "      <td>above</td>\n",
              "      <td>1</td>\n",
              "      <td>No</td>\n",
              "      <td>Yes</td>\n",
              "      <td>112542.58</td>\n",
              "      <td>high</td>\n",
              "      <td>No</td>\n",
              "    </tr>\n",
              "    <tr>\n",
              "      <th>2</th>\n",
              "      <td>15619304</td>\n",
              "      <td>502</td>\n",
              "      <td>Poor</td>\n",
              "      <td>France</td>\n",
              "      <td>Female</td>\n",
              "      <td>42</td>\n",
              "      <td>older adults</td>\n",
              "      <td>8</td>\n",
              "      <td>high</td>\n",
              "      <td>159660.80</td>\n",
              "      <td>above</td>\n",
              "      <td>3</td>\n",
              "      <td>Yes</td>\n",
              "      <td>No</td>\n",
              "      <td>113931.57</td>\n",
              "      <td>high</td>\n",
              "      <td>Yes</td>\n",
              "    </tr>\n",
              "    <tr>\n",
              "      <th>3</th>\n",
              "      <td>15701354</td>\n",
              "      <td>699</td>\n",
              "      <td>Good</td>\n",
              "      <td>France</td>\n",
              "      <td>Female</td>\n",
              "      <td>39</td>\n",
              "      <td>older adults</td>\n",
              "      <td>1</td>\n",
              "      <td>very low</td>\n",
              "      <td>0.00</td>\n",
              "      <td>below</td>\n",
              "      <td>2</td>\n",
              "      <td>No</td>\n",
              "      <td>No</td>\n",
              "      <td>93826.63</td>\n",
              "      <td>low</td>\n",
              "      <td>No</td>\n",
              "    </tr>\n",
              "    <tr>\n",
              "      <th>4</th>\n",
              "      <td>15737888</td>\n",
              "      <td>850</td>\n",
              "      <td>Exceptional</td>\n",
              "      <td>Spain</td>\n",
              "      <td>Female</td>\n",
              "      <td>43</td>\n",
              "      <td>older adults</td>\n",
              "      <td>2</td>\n",
              "      <td>very low</td>\n",
              "      <td>125510.82</td>\n",
              "      <td>above</td>\n",
              "      <td>1</td>\n",
              "      <td>Yes</td>\n",
              "      <td>Yes</td>\n",
              "      <td>79084.10</td>\n",
              "      <td>low</td>\n",
              "      <td>No</td>\n",
              "    </tr>\n",
              "    <tr>\n",
              "      <th>...</th>\n",
              "      <td>...</td>\n",
              "      <td>...</td>\n",
              "      <td>...</td>\n",
              "      <td>...</td>\n",
              "      <td>...</td>\n",
              "      <td>...</td>\n",
              "      <td>...</td>\n",
              "      <td>...</td>\n",
              "      <td>...</td>\n",
              "      <td>...</td>\n",
              "      <td>...</td>\n",
              "      <td>...</td>\n",
              "      <td>...</td>\n",
              "      <td>...</td>\n",
              "      <td>...</td>\n",
              "      <td>...</td>\n",
              "      <td>...</td>\n",
              "    </tr>\n",
              "    <tr>\n",
              "      <th>9995</th>\n",
              "      <td>15606229</td>\n",
              "      <td>771</td>\n",
              "      <td>Very Good</td>\n",
              "      <td>France</td>\n",
              "      <td>Male</td>\n",
              "      <td>39</td>\n",
              "      <td>older adults</td>\n",
              "      <td>5</td>\n",
              "      <td>low</td>\n",
              "      <td>0.00</td>\n",
              "      <td>below</td>\n",
              "      <td>2</td>\n",
              "      <td>Yes</td>\n",
              "      <td>No</td>\n",
              "      <td>96270.64</td>\n",
              "      <td>low</td>\n",
              "      <td>No</td>\n",
              "    </tr>\n",
              "    <tr>\n",
              "      <th>9996</th>\n",
              "      <td>15569892</td>\n",
              "      <td>516</td>\n",
              "      <td>Poor</td>\n",
              "      <td>France</td>\n",
              "      <td>Male</td>\n",
              "      <td>35</td>\n",
              "      <td>middle-aged adults</td>\n",
              "      <td>10</td>\n",
              "      <td>high</td>\n",
              "      <td>57369.61</td>\n",
              "      <td>below</td>\n",
              "      <td>1</td>\n",
              "      <td>Yes</td>\n",
              "      <td>Yes</td>\n",
              "      <td>101699.77</td>\n",
              "      <td>high</td>\n",
              "      <td>No</td>\n",
              "    </tr>\n",
              "    <tr>\n",
              "      <th>9997</th>\n",
              "      <td>15584532</td>\n",
              "      <td>709</td>\n",
              "      <td>Good</td>\n",
              "      <td>France</td>\n",
              "      <td>Female</td>\n",
              "      <td>36</td>\n",
              "      <td>middle-aged adults</td>\n",
              "      <td>7</td>\n",
              "      <td>medium</td>\n",
              "      <td>0.00</td>\n",
              "      <td>below</td>\n",
              "      <td>1</td>\n",
              "      <td>No</td>\n",
              "      <td>Yes</td>\n",
              "      <td>42085.58</td>\n",
              "      <td>low</td>\n",
              "      <td>Yes</td>\n",
              "    </tr>\n",
              "    <tr>\n",
              "      <th>9998</th>\n",
              "      <td>15682355</td>\n",
              "      <td>772</td>\n",
              "      <td>Very Good</td>\n",
              "      <td>Germany</td>\n",
              "      <td>Male</td>\n",
              "      <td>42</td>\n",
              "      <td>older adults</td>\n",
              "      <td>3</td>\n",
              "      <td>very low</td>\n",
              "      <td>75075.31</td>\n",
              "      <td>below</td>\n",
              "      <td>2</td>\n",
              "      <td>Yes</td>\n",
              "      <td>No</td>\n",
              "      <td>92888.52</td>\n",
              "      <td>low</td>\n",
              "      <td>Yes</td>\n",
              "    </tr>\n",
              "    <tr>\n",
              "      <th>9999</th>\n",
              "      <td>15628319</td>\n",
              "      <td>792</td>\n",
              "      <td>Very Good</td>\n",
              "      <td>France</td>\n",
              "      <td>Female</td>\n",
              "      <td>28</td>\n",
              "      <td>young adults</td>\n",
              "      <td>4</td>\n",
              "      <td>low</td>\n",
              "      <td>130142.79</td>\n",
              "      <td>above</td>\n",
              "      <td>1</td>\n",
              "      <td>Yes</td>\n",
              "      <td>No</td>\n",
              "      <td>38190.78</td>\n",
              "      <td>low</td>\n",
              "      <td>No</td>\n",
              "    </tr>\n",
              "  </tbody>\n",
              "</table>\n",
              "<p>9641 rows × 17 columns</p>\n",
              "</div>\n",
              "      <button class=\"colab-df-convert\" onclick=\"convertToInteractive('df-f9b858a3-23cf-413f-beee-6fb096a3fd5a')\"\n",
              "              title=\"Convert this dataframe to an interactive table.\"\n",
              "              style=\"display:none;\">\n",
              "        \n",
              "  <svg xmlns=\"http://www.w3.org/2000/svg\" height=\"24px\"viewBox=\"0 0 24 24\"\n",
              "       width=\"24px\">\n",
              "    <path d=\"M0 0h24v24H0V0z\" fill=\"none\"/>\n",
              "    <path d=\"M18.56 5.44l.94 2.06.94-2.06 2.06-.94-2.06-.94-.94-2.06-.94 2.06-2.06.94zm-11 1L8.5 8.5l.94-2.06 2.06-.94-2.06-.94L8.5 2.5l-.94 2.06-2.06.94zm10 10l.94 2.06.94-2.06 2.06-.94-2.06-.94-.94-2.06-.94 2.06-2.06.94z\"/><path d=\"M17.41 7.96l-1.37-1.37c-.4-.4-.92-.59-1.43-.59-.52 0-1.04.2-1.43.59L10.3 9.45l-7.72 7.72c-.78.78-.78 2.05 0 2.83L4 21.41c.39.39.9.59 1.41.59.51 0 1.02-.2 1.41-.59l7.78-7.78 2.81-2.81c.8-.78.8-2.07 0-2.86zM5.41 20L4 18.59l7.72-7.72 1.47 1.35L5.41 20z\"/>\n",
              "  </svg>\n",
              "      </button>\n",
              "      \n",
              "  <style>\n",
              "    .colab-df-container {\n",
              "      display:flex;\n",
              "      flex-wrap:wrap;\n",
              "      gap: 12px;\n",
              "    }\n",
              "\n",
              "    .colab-df-convert {\n",
              "      background-color: #E8F0FE;\n",
              "      border: none;\n",
              "      border-radius: 50%;\n",
              "      cursor: pointer;\n",
              "      display: none;\n",
              "      fill: #1967D2;\n",
              "      height: 32px;\n",
              "      padding: 0 0 0 0;\n",
              "      width: 32px;\n",
              "    }\n",
              "\n",
              "    .colab-df-convert:hover {\n",
              "      background-color: #E2EBFA;\n",
              "      box-shadow: 0px 1px 2px rgba(60, 64, 67, 0.3), 0px 1px 3px 1px rgba(60, 64, 67, 0.15);\n",
              "      fill: #174EA6;\n",
              "    }\n",
              "\n",
              "    [theme=dark] .colab-df-convert {\n",
              "      background-color: #3B4455;\n",
              "      fill: #D2E3FC;\n",
              "    }\n",
              "\n",
              "    [theme=dark] .colab-df-convert:hover {\n",
              "      background-color: #434B5C;\n",
              "      box-shadow: 0px 1px 3px 1px rgba(0, 0, 0, 0.15);\n",
              "      filter: drop-shadow(0px 1px 2px rgba(0, 0, 0, 0.3));\n",
              "      fill: #FFFFFF;\n",
              "    }\n",
              "  </style>\n",
              "\n",
              "      <script>\n",
              "        const buttonEl =\n",
              "          document.querySelector('#df-f9b858a3-23cf-413f-beee-6fb096a3fd5a button.colab-df-convert');\n",
              "        buttonEl.style.display =\n",
              "          google.colab.kernel.accessAllowed ? 'block' : 'none';\n",
              "\n",
              "        async function convertToInteractive(key) {\n",
              "          const element = document.querySelector('#df-f9b858a3-23cf-413f-beee-6fb096a3fd5a');\n",
              "          const dataTable =\n",
              "            await google.colab.kernel.invokeFunction('convertToInteractive',\n",
              "                                                     [key], {});\n",
              "          if (!dataTable) return;\n",
              "\n",
              "          const docLinkHtml = 'Like what you see? Visit the ' +\n",
              "            '<a target=\"_blank\" href=https://colab.research.google.com/notebooks/data_table.ipynb>data table notebook</a>'\n",
              "            + ' to learn more about interactive tables.';\n",
              "          element.innerHTML = '';\n",
              "          dataTable['output_type'] = 'display_data';\n",
              "          await google.colab.output.renderOutput(dataTable, element);\n",
              "          const docLink = document.createElement('div');\n",
              "          docLink.innerHTML = docLinkHtml;\n",
              "          element.appendChild(docLink);\n",
              "        }\n",
              "      </script>\n",
              "    </div>\n",
              "  </div>\n",
              "  "
            ]
          },
          "metadata": {},
          "execution_count": 64
        }
      ]
    },
    {
      "cell_type": "code",
      "source": [
        "# Check shape dataFrame\n",
        "df_no_outlier.shape"
      ],
      "metadata": {
        "colab": {
          "base_uri": "https://localhost:8080/"
        },
        "id": "wb6fbkC3h8fF",
        "outputId": "e7c09eda-9ad5-403b-fcf4-2df706f0c614"
      },
      "execution_count": 65,
      "outputs": [
        {
          "output_type": "execute_result",
          "data": {
            "text/plain": [
              "(9641, 17)"
            ]
          },
          "metadata": {},
          "execution_count": 65
        }
      ]
    },
    {
      "cell_type": "markdown",
      "source": [
        "Dari informasi di atas menunjukkan bahwa terdapat 9.641 baris data yang sudah bersih dari outlier pada kolom Age."
      ],
      "metadata": {
        "id": "5T6q98XViCa2"
      }
    },
    {
      "cell_type": "code",
      "source": [
        "# Execute the function by entering data\n",
        "visualize_data(df_no_outlier[\"Age\"])"
      ],
      "metadata": {
        "colab": {
          "base_uri": "https://localhost:8080/",
          "height": 0
        },
        "id": "kC1Rqyggioal",
        "outputId": "2e2e4eec-c8d8-4a00-8e63-c6de631b5a11"
      },
      "execution_count": 66,
      "outputs": [
        {
          "output_type": "stream",
          "name": "stdout",
          "text": [
            "'Age' skewness: 0.49040913720911106\n",
            "Normal Distribution\n"
          ]
        },
        {
          "output_type": "display_data",
          "data": {
            "text/plain": [
              "<Figure size 720x720 with 1 Axes>"
            ],
            "image/png": "[encoded data removed]"
          },
          "metadata": {}
        }
      ]
    },
    {
      "cell_type": "code",
      "source": [
        "# Central tendency of Age without outlier\n",
        "mean_with_out = df_no_outlier['Age'].mean()\n",
        "median_with_out = df_no_outlier['Age'].median()\n",
        "mode_with_out = df_no_outlier['Age'].mode()\n",
        "\n",
        "print('mean Age without oulier :', mean_with_out)\n",
        "print('median Age without oulier :', median_with_out)\n",
        "print('modus Age without oulier :', mode_with_out)"
      ],
      "metadata": {
        "colab": {
          "base_uri": "https://localhost:8080/"
        },
        "id": "OXNeoxI5iCJb",
        "outputId": "61971198-b1af-4cd3-8894-f2114344b118"
      },
      "execution_count": 67,
      "outputs": [
        {
          "output_type": "stream",
          "name": "stdout",
          "text": [
            "mean Age without oulier : 37.79172285032673\n",
            "median Age without oulier : 37.0\n",
            "modus Age without oulier : 0    37\n",
            "dtype: int64\n"
          ]
        }
      ]
    },
    {
      "cell_type": "code",
      "source": [
        "# Central tendency of Age with outlier\n",
        "mean = df['Age'].mean()\n",
        "median = df['Age'].median()\n",
        "mode = df['Age'].mode()\n",
        "\n",
        "print('mean Age with oulier :', mean)\n",
        "print('median Age with oulier :', median)\n",
        "print('modus Age with oulier :', mode)"
      ],
      "metadata": {
        "colab": {
          "base_uri": "https://localhost:8080/"
        },
        "id": "fmiG32-biAYa",
        "outputId": "4b638a16-5f90-426d-a73f-f41f6fed68f6"
      },
      "execution_count": 68,
      "outputs": [
        {
          "output_type": "stream",
          "name": "stdout",
          "text": [
            "mean Age with oulier : 38.9218\n",
            "median Age with oulier : 37.0\n",
            "modus Age with oulier : 0    37\n",
            "dtype: int64\n"
          ]
        }
      ]
    },
    {
      "cell_type": "markdown",
      "source": [
        "Ada perbedaan nilai mean pada hasil pengukuran central tendency sebelum dan sesudah outlier dikeluarkan, yang awalnya bernilai 38.92 menjadi 37.79. Kondisi ini berarti nilai mean menggeser ke kiri mendekati nilai median setelah outlier dikeluarkan. Sehingga, jika kita lihat plot distribusi nya sekarang menunjukkan bahwa data Age sudah terdistribusi normal dengan nilai skewness 0.49."
      ],
      "metadata": {
        "id": "ws8lG9MNkdyI"
      }
    },
    {
      "cell_type": "markdown",
      "source": [
        "### Statistik inferensial"
      ],
      "metadata": {
        "id": "7hGFVmhtUO64"
      }
    },
    {
      "cell_type": "markdown",
      "source": [
        "### 6) Gunakan data Age yang tidak ada outlier. Berikan analisa dan saran terkait berapa range umur nasabah yang cocok untuk strategi retensi nasabah yang churn dan retain."
      ],
      "metadata": {
        "id": "j7_cmZtMQcRT"
      }
    },
    {
      "cell_type": "code",
      "source": [
        "# Calculation of confidence interval\n",
        "\n",
        "ci = stats.norm.interval(0.90, df_no_outlier['Age'].mean(), df_no_outlier['Age'].std())\n",
        "ci"
      ],
      "metadata": {
        "colab": {
          "base_uri": "https://localhost:8080/"
        },
        "id": "8ege5M26WGtl",
        "outputId": "4e883c60-d091-4e2f-a3af-79ecdc70740b"
      },
      "execution_count": 69,
      "outputs": [
        {
          "output_type": "execute_result",
          "data": {
            "text/plain": [
              "(23.31187187674999, 52.271573823903466)"
            ]
          },
          "metadata": {},
          "execution_count": 69
        }
      ]
    },
    {
      "cell_type": "markdown",
      "source": [
        "Saya membuat confidence interval dengan tingkat kepercayaan 90% bahwa umur nasabah rata-rata antara 23 tahun dan 52 tahun. Sehingga nilai interval inilah yang bisa menjadi saran ke marketing untuk fokus menerapkan strategi retensi nasabah dalam rentang umur 23-52 tahun."
      ],
      "metadata": {
        "id": "1N3YC8XwrgwV"
      }
    },
    {
      "cell_type": "markdown",
      "source": [
        "### 7) Lakukan uji independensi antara dua data kategorikal menggunakan Chi-square untuk mengetahui hubungan antar variabel dengan churn. Yang mana kolom yang signifikan dengan kolom *Exited*?"
      ],
      "metadata": {
        "id": "pCbXHiKmWHhp"
      }
    },
    {
      "cell_type": "markdown",
      "source": [
        "Uji chi-square digunakan untuk menguji independensi antara dua data kategorikal. Karena statistik menangani data numerik, kita perlu menghitung frekuensi setiap variabel dan disajikan dalam tabel kontingensi."
      ],
      "metadata": {
        "id": "O7wYF_23dZkv"
      }
    },
    {
      "cell_type": "code",
      "source": [
        "# Uji chi-square antara data kategorikal dengan kolom target 'Exited'\n",
        "t = PrettyTable(['Column Name', 'P Values', 'Interpretation'])\n",
        "for col in df.select_dtypes(np.object).drop(\"Exited\",axis=1).columns :\n",
        "    tab = pd.crosstab(df[col],df['Exited'],margins = False)\n",
        "    stat, p, dof, expected = scipy.stats.chi2_contingency(tab)\n",
        "    if p<0.05:\n",
        "        cm = 'Significant'\n",
        "    else:\n",
        "        cm = 'Not Significant'\n",
        "    t.add_row([col,p,cm ])\n",
        "print(t)"
      ],
      "metadata": {
        "colab": {
          "base_uri": "https://localhost:8080/"
        },
        "id": "GnxlWP8QUedA",
        "outputId": "9aeed418-af57-4085-e382-7ddbdc80959a"
      },
      "execution_count": 70,
      "outputs": [
        {
          "output_type": "stream",
          "name": "stdout",
          "text": [
            "+--------------------+------------------------+-----------------+\n",
            "|    Column Name     |        P Values        |  Interpretation |\n",
            "+--------------------+------------------------+-----------------+\n",
            "| CreditScore_status |  0.06271066748554825   | Not Significant |\n",
            "|     Geography      | 3.8303176053541544e-66 |   Significant   |\n",
            "|       Gender       | 2.2482100097131755e-26 |   Significant   |\n",
            "|     Age_status     | 5.964955670284589e-272 |   Significant   |\n",
            "|   Tenure_status    |  0.18722326299517406   | Not Significant |\n",
            "|   Balance_status   |  1.19736351256435e-28  |   Significant   |\n",
            "|     HasCrCard      |  0.49237236141554686   | Not Significant |\n",
            "|   IsActiveMember   | 8.785858269303703e-55  |   Significant   |\n",
            "|   Salary_status    |   0.2840144558842442   | Not Significant |\n",
            "+--------------------+------------------------+-----------------+\n"
          ]
        },
        {
          "output_type": "stream",
          "name": "stderr",
          "text": [
            "<ipython-input-70-4e1f2be1f3ff>:3: DeprecationWarning: `np.object` is a deprecated alias for the builtin `object`. To silence this warning, use `object` by itself. Doing this will not modify any behavior and is safe. \n",
            "Deprecated in NumPy 1.20; for more details and guidance: https://numpy.org/devdocs/release/1.20.0-notes.html#deprecations\n",
            "  for col in df.select_dtypes(np.object).drop(\"Exited\",axis=1).columns :\n"
          ]
        }
      ]
    },
    {
      "cell_type": "markdown",
      "source": [
        "Dari informasi di atas dapat disimpulkan bahwa variabel yang signifikan dengan kolom *Exited* yaitu:\n",
        "1. Geography,\n",
        "2. Gender,\n",
        "3. Age_status,\n",
        "4. Balance_status,\n",
        "5. IsActiveMember.<br>\n",
        "\n",
        "Dimana kolom-kolom tersebut sudah relevan dengan hasil visualisasi data yang kita lakukan sebelumnya terkait karakteristik yang menonjol dari nasabah yang churn."
      ],
      "metadata": {
        "id": "Qg5B6Qtstr49"
      }
    },
    {
      "cell_type": "markdown",
      "source": [
        "# vii. Conclusion"
      ],
      "metadata": {
        "id": "mJVjxgdUO-4S"
      }
    },
    {
      "cell_type": "markdown",
      "source": [
        "Dari keseluruhan data diketahui bahwa mayoritas nasabah yang tidak melakukan churn yaitu sebanyak 79,63% dan nasabah yang churn sebanyak 20,37%. Berdasarkan data ini, PT Bank TRX ingin mengurangi angka churn rate (persentase pelanggan yang berhenti menggunakan produk/layanan dan beralih ke kompetitor) agar tidak lebih dari 20% di 1 tahun kedepan. Dalam hal ini, Divisi Marketing di perusahaan ini ingin menerapkan strategi apa yang relevan terhadap karakteristik nasabah yang berpotensi churn agar strategi tersebut bisa tepat sasaran sehingga tidak membuang banyak waktu, tenaga, dan biaya. Untuk itu, memerlukan analisa terlebih dahulu karakteristik nasabah yang bagaimana yang berpotensi churn.<br>\n",
        "\n",
        "Dari analisa eksplorasi dan visualisasi data yang sudah dilakukan sebelumnya, diperoleh informasi bahwa karakteristik yang menonjol dari nasabah yang churn sesungguhnya adalah:\n",
        "1. Berasal dari negara **Germany**,\n",
        "2. Berjenis kelamin **female**,\n",
        "3. Status umurnya di level **early elderly** (>44 tahun),\n",
        "4. Status balance-nya (saldo bank) di level **above** (di atas rata-rata yaitu >= 76.485,88).\n",
        "5. Nasabah yang **tidak aktif**.<br>\n",
        "\n",
        "Divisi ini juga ingin mengetahui 3 daftar negara dari yang mempunyai angka churn tertinggi untuk membuat time-bound menjalankan strategi dalam 1 tahun kedepan.\n",
        "Berdasarkan visualisasi data sebelumnya, kita dapat mengurutkan 3 negara dari yang potensi churnnya tertinggi, yaitu:\n",
        "1. Germany,\n",
        "2. France,\n",
        "3. Spain.<br>\n",
        "\n",
        "Jadi, divisi marketing dapat menerapkan strategi retensi untuk mengurangi angka churn rate sebesar 2% untuk masing-masing negara tersebut dalam waktu 4 bulan pertama di negara Germany, 4 bulan berikutnya di negara France dan 4 bulan berikutnya lagi di negara Spain.<br>\n",
        "\n",
        "Disini Saya menyaranakan ke divisi tersebut bahwa mungkin mereka bisa meninjau kembali strategi retensi di antara kelompok usia yang berbeda agar strategi lebih tepat sasaran. Sehingga Saya melakukan analisa lebih lanjut terkait range umur yang signifikan mengacu pada nasabah yang churn paling banyak ada pada kisaran 40-50 tahun, dan dengan tingkat kepercayaan 90% untuk keseluruhan nasabah baik yang churn dan retain Saya menyarankan untuk menerapkan strategi retensi pada nasabah yang rentang umurnya diantara 23-52 tahun."
      ],
      "metadata": {
        "id": "5ssOFHRnyBBy"
      }
    }
  ]
}