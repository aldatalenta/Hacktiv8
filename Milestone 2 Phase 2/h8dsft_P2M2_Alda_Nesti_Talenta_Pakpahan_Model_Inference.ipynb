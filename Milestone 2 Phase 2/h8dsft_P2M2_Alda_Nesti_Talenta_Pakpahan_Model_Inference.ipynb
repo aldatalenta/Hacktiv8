{
  "nbformat": 4,
  "nbformat_minor": 0,
  "metadata": {
    "colab": {
      "provenance": [],
      "collapsed_sections": [
        "dCmTfYp3-yL7",
        "aynuINdU_I_V",
        "Zn1R1eNMAPpi",
        "v90_TQrYBOpk",
        "PtEMR3bOJCwX",
        "NatxceYjJJo-"
      ]
    },
    "kernelspec": {
      "name": "python3",
      "display_name": "Python 3"
    },
    "language_info": {
      "name": "python"
    }
  },
  "cells": [
    {
      "cell_type": "markdown",
      "source": [
        "# x. Model Inference\n",
        "\n",
        ">Model yang sudah dilatih akan dicoba pada data yang bukan termasuk ke dalam train-set, val-set, ataupun test-set. Data ini harus dalam format yang asli, bukan data yang sudah di-scaled.\n",
        "\n",
        "Pada bagian ini akan dilakukan proses model inference dengan menggunakan data `inference set` dan melakukan preprocessing yang sama seperti yang dilakukan sebelumnya serta melakukan prediksi terhadap data `inference-set`."
      ],
      "metadata": {
        "id": "dCmTfYp3-yL7"
      }
    },
    {
      "cell_type": "markdown",
      "source": [
        "## Import Libraries"
      ],
      "metadata": {
        "id": "aynuINdU_I_V"
      }
    },
    {
      "cell_type": "code",
      "execution_count": null,
      "metadata": {
        "id": "ML-HNWUK-v4p"
      },
      "outputs": [],
      "source": [
        "## REQUIRED LIBRARIES\n",
        "\n",
        "# For load model\n",
        "from tensorflow.keras.models import load_model\n",
        "\n",
        "# For data wrangling\n",
        "import numpy as np  # linear algebra\n",
        "import pandas as pd  # data processing\n",
        "\n",
        "# for model inference\n",
        "from tensorflow.keras.preprocessing.image import ImageDataGenerator"
      ]
    },
    {
      "cell_type": "markdown",
      "source": [
        "## Load model"
      ],
      "metadata": {
        "id": "Zn1R1eNMAPpi"
      }
    },
    {
      "cell_type": "code",
      "source": [
        "# load best model\n",
        "\n",
        "best_model = load_model('model.h5')\n",
        "best_model"
      ],
      "metadata": {
        "id": "GMYCLEcVARjb",
        "colab": {
          "base_uri": "https://localhost:8080/"
        },
        "outputId": "552276d2-494f-40d9-d662-3130bc8c4ad0"
      },
      "execution_count": null,
      "outputs": [
        {
          "output_type": "execute_result",
          "data": {
            "text/plain": [
              "<keras.engine.sequential.Sequential at 0x7f7fad402670>"
            ]
          },
          "metadata": {},
          "execution_count": 2
        }
      ]
    },
    {
      "cell_type": "markdown",
      "source": [
        "## Load data"
      ],
      "metadata": {
        "id": "v90_TQrYBOpk"
      }
    },
    {
      "cell_type": "code",
      "source": [
        "# create a folder in kaggle root\n",
        "!mkdir -p ~/.kaggle\n",
        "# copy paste kaggle.json to the kaggle folder\n",
        "!cp kaggle.json ~/.kaggle\n",
        "\n",
        "# create kaggle folder in same location (not in root)\n",
        "!mkdir ./kaggle\n",
        "# move the kaggle.json file to the created kaggle folder\n",
        "!mv ./kaggle.json ./kaggle"
      ],
      "metadata": {
        "id": "8uaip_ovLyJV"
      },
      "execution_count": null,
      "outputs": []
    },
    {
      "cell_type": "code",
      "source": [
        "# change access permissions in a directory, only the owner of the file has read and write access to the file\n",
        "!chmod 600 ~/.kaggle/kaggle.json\n",
        "\n",
        "# check the list of data in the kaggle folder\n",
        "!ls ~/.kaggle "
      ],
      "metadata": {
        "colab": {
          "base_uri": "https://localhost:8080/"
        },
        "id": "pdSgrOWbLz6j",
        "outputId": "3c89c4aa-e259-41a1-e9ad-0a922e9a7188"
      },
      "execution_count": null,
      "outputs": [
        {
          "output_type": "stream",
          "name": "stdout",
          "text": [
            "kaggle.json\n"
          ]
        }
      ]
    },
    {
      "cell_type": "code",
      "source": [
        "# download dataset\n",
        "!kaggle datasets download -d rayhanzamzamy/non-and-biodegradable-waste-dataset"
      ],
      "metadata": {
        "colab": {
          "base_uri": "https://localhost:8080/"
        },
        "id": "taileEcSL145",
        "outputId": "9d9cdc58-a092-4533-a73b-0dd9d4cb1b51"
      },
      "execution_count": null,
      "outputs": [
        {
          "output_type": "stream",
          "name": "stdout",
          "text": [
            "Downloading non-and-biodegradable-waste-dataset.zip to /content\n",
            " 99% 1.85G/1.86G [00:20<00:00, 128MB/s]\n",
            "100% 1.86G/1.86G [00:20<00:00, 97.2MB/s]\n"
          ]
        }
      ]
    },
    {
      "cell_type": "code",
      "source": [
        "# unzip the downloaded folder from Kaggle\n",
        "!unzip -q /content/non-and-biodegradable-waste-dataset.zip -d images"
      ],
      "metadata": {
        "id": "B_EdOEw7L3lV"
      },
      "execution_count": null,
      "outputs": []
    },
    {
      "cell_type": "code",
      "source": [
        "# load data\n",
        "df_inf = pd.read_csv('/content/data inference.csv')\n",
        "df_inf"
      ],
      "metadata": {
        "colab": {
          "base_uri": "https://localhost:8080/",
          "height": 363
        },
        "id": "RrJNvvSRBRHu",
        "outputId": "b91787af-3df2-4b16-ea95-8efb5babaca7"
      },
      "execution_count": null,
      "outputs": [
        {
          "output_type": "execute_result",
          "data": {
            "text/plain": [
              "                                              images label\n",
              "0  /content/images/TRAIN.1/N/TRAIN.1_NBIODEG_HFL_...     N\n",
              "1  /content/images/TRAIN.1/N/TRAIN.1_NBIODEG_CWR_...     N\n",
              "2  /content/images/TRAIN.1/N/TRAIN.1_NBIODEG_CWR_...     N\n",
              "3  /content/images/TRAIN.1/N/TRAIN.1_NBIODEG_VFL_...     N\n",
              "4  /content/images/TRAIN.1/B/TRAIN.1_BIODEG_ORI_1...     B\n",
              "5  /content/images/TRAIN.1/N/TRAIN.1_NBIODEG_ORI_...     N\n",
              "6  /content/images/TRAIN.1/N/TRAIN.1_NBIODEG_CCW_...     N\n",
              "7  /content/images/TRAIN.1/B/TRAIN.1_BIODEG_ORI_2...     B\n",
              "8  /content/images/TRAIN.1/B/TRAIN.1_BIODEG_ORI_2...     B\n",
              "9  /content/images/TRAIN.1/B/TRAIN.1_BIODEG_ORI_1...     B"
            ],
            "text/html": [
              "\n",
              "  <div id=\"df-d5cf8848-1f5f-404e-ae38-ac07ebd982cf\">\n",
              "    <div class=\"colab-df-container\">\n",
              "      <div>\n",
              "<style scoped>\n",
              "    .dataframe tbody tr th:only-of-type {\n",
              "        vertical-align: middle;\n",
              "    }\n",
              "\n",
              "    .dataframe tbody tr th {\n",
              "        vertical-align: top;\n",
              "    }\n",
              "\n",
              "    .dataframe thead th {\n",
              "        text-align: right;\n",
              "    }\n",
              "</style>\n",
              "<table border=\"1\" class=\"dataframe\">\n",
              "  <thead>\n",
              "    <tr style=\"text-align: right;\">\n",
              "      <th></th>\n",
              "      <th>images</th>\n",
              "      <th>label</th>\n",
              "    </tr>\n",
              "  </thead>\n",
              "  <tbody>\n",
              "    <tr>\n",
              "      <th>0</th>\n",
              "      <td>/content/images/TRAIN.1/N/TRAIN.1_NBIODEG_HFL_...</td>\n",
              "      <td>N</td>\n",
              "    </tr>\n",
              "    <tr>\n",
              "      <th>1</th>\n",
              "      <td>/content/images/TRAIN.1/N/TRAIN.1_NBIODEG_CWR_...</td>\n",
              "      <td>N</td>\n",
              "    </tr>\n",
              "    <tr>\n",
              "      <th>2</th>\n",
              "      <td>/content/images/TRAIN.1/N/TRAIN.1_NBIODEG_CWR_...</td>\n",
              "      <td>N</td>\n",
              "    </tr>\n",
              "    <tr>\n",
              "      <th>3</th>\n",
              "      <td>/content/images/TRAIN.1/N/TRAIN.1_NBIODEG_VFL_...</td>\n",
              "      <td>N</td>\n",
              "    </tr>\n",
              "    <tr>\n",
              "      <th>4</th>\n",
              "      <td>/content/images/TRAIN.1/B/TRAIN.1_BIODEG_ORI_1...</td>\n",
              "      <td>B</td>\n",
              "    </tr>\n",
              "    <tr>\n",
              "      <th>5</th>\n",
              "      <td>/content/images/TRAIN.1/N/TRAIN.1_NBIODEG_ORI_...</td>\n",
              "      <td>N</td>\n",
              "    </tr>\n",
              "    <tr>\n",
              "      <th>6</th>\n",
              "      <td>/content/images/TRAIN.1/N/TRAIN.1_NBIODEG_CCW_...</td>\n",
              "      <td>N</td>\n",
              "    </tr>\n",
              "    <tr>\n",
              "      <th>7</th>\n",
              "      <td>/content/images/TRAIN.1/B/TRAIN.1_BIODEG_ORI_2...</td>\n",
              "      <td>B</td>\n",
              "    </tr>\n",
              "    <tr>\n",
              "      <th>8</th>\n",
              "      <td>/content/images/TRAIN.1/B/TRAIN.1_BIODEG_ORI_2...</td>\n",
              "      <td>B</td>\n",
              "    </tr>\n",
              "    <tr>\n",
              "      <th>9</th>\n",
              "      <td>/content/images/TRAIN.1/B/TRAIN.1_BIODEG_ORI_1...</td>\n",
              "      <td>B</td>\n",
              "    </tr>\n",
              "  </tbody>\n",
              "</table>\n",
              "</div>\n",
              "      <button class=\"colab-df-convert\" onclick=\"convertToInteractive('df-d5cf8848-1f5f-404e-ae38-ac07ebd982cf')\"\n",
              "              title=\"Convert this dataframe to an interactive table.\"\n",
              "              style=\"display:none;\">\n",
              "        \n",
              "  <svg xmlns=\"http://www.w3.org/2000/svg\" height=\"24px\"viewBox=\"0 0 24 24\"\n",
              "       width=\"24px\">\n",
              "    <path d=\"M0 0h24v24H0V0z\" fill=\"none\"/>\n",
              "    <path d=\"M18.56 5.44l.94 2.06.94-2.06 2.06-.94-2.06-.94-.94-2.06-.94 2.06-2.06.94zm-11 1L8.5 8.5l.94-2.06 2.06-.94-2.06-.94L8.5 2.5l-.94 2.06-2.06.94zm10 10l.94 2.06.94-2.06 2.06-.94-2.06-.94-.94-2.06-.94 2.06-2.06.94z\"/><path d=\"M17.41 7.96l-1.37-1.37c-.4-.4-.92-.59-1.43-.59-.52 0-1.04.2-1.43.59L10.3 9.45l-7.72 7.72c-.78.78-.78 2.05 0 2.83L4 21.41c.39.39.9.59 1.41.59.51 0 1.02-.2 1.41-.59l7.78-7.78 2.81-2.81c.8-.78.8-2.07 0-2.86zM5.41 20L4 18.59l7.72-7.72 1.47 1.35L5.41 20z\"/>\n",
              "  </svg>\n",
              "      </button>\n",
              "      \n",
              "  <style>\n",
              "    .colab-df-container {\n",
              "      display:flex;\n",
              "      flex-wrap:wrap;\n",
              "      gap: 12px;\n",
              "    }\n",
              "\n",
              "    .colab-df-convert {\n",
              "      background-color: #E8F0FE;\n",
              "      border: none;\n",
              "      border-radius: 50%;\n",
              "      cursor: pointer;\n",
              "      display: none;\n",
              "      fill: #1967D2;\n",
              "      height: 32px;\n",
              "      padding: 0 0 0 0;\n",
              "      width: 32px;\n",
              "    }\n",
              "\n",
              "    .colab-df-convert:hover {\n",
              "      background-color: #E2EBFA;\n",
              "      box-shadow: 0px 1px 2px rgba(60, 64, 67, 0.3), 0px 1px 3px 1px rgba(60, 64, 67, 0.15);\n",
              "      fill: #174EA6;\n",
              "    }\n",
              "\n",
              "    [theme=dark] .colab-df-convert {\n",
              "      background-color: #3B4455;\n",
              "      fill: #D2E3FC;\n",
              "    }\n",
              "\n",
              "    [theme=dark] .colab-df-convert:hover {\n",
              "      background-color: #434B5C;\n",
              "      box-shadow: 0px 1px 3px 1px rgba(0, 0, 0, 0.15);\n",
              "      filter: drop-shadow(0px 1px 2px rgba(0, 0, 0, 0.3));\n",
              "      fill: #FFFFFF;\n",
              "    }\n",
              "  </style>\n",
              "\n",
              "      <script>\n",
              "        const buttonEl =\n",
              "          document.querySelector('#df-d5cf8848-1f5f-404e-ae38-ac07ebd982cf button.colab-df-convert');\n",
              "        buttonEl.style.display =\n",
              "          google.colab.kernel.accessAllowed ? 'block' : 'none';\n",
              "\n",
              "        async function convertToInteractive(key) {\n",
              "          const element = document.querySelector('#df-d5cf8848-1f5f-404e-ae38-ac07ebd982cf');\n",
              "          const dataTable =\n",
              "            await google.colab.kernel.invokeFunction('convertToInteractive',\n",
              "                                                     [key], {});\n",
              "          if (!dataTable) return;\n",
              "\n",
              "          const docLinkHtml = 'Like what you see? Visit the ' +\n",
              "            '<a target=\"_blank\" href=https://colab.research.google.com/notebooks/data_table.ipynb>data table notebook</a>'\n",
              "            + ' to learn more about interactive tables.';\n",
              "          element.innerHTML = '';\n",
              "          dataTable['output_type'] = 'display_data';\n",
              "          await google.colab.output.renderOutput(dataTable, element);\n",
              "          const docLink = document.createElement('div');\n",
              "          docLink.innerHTML = docLinkHtml;\n",
              "          element.appendChild(docLink);\n",
              "        }\n",
              "      </script>\n",
              "    </div>\n",
              "  </div>\n",
              "  "
            ]
          },
          "metadata": {},
          "execution_count": 14
        }
      ]
    },
    {
      "cell_type": "markdown",
      "source": [
        "## Feature Engineering"
      ],
      "metadata": {
        "id": "PtEMR3bOJCwX"
      }
    },
    {
      "cell_type": "code",
      "source": [
        "# fitur\n",
        "X = 'images'\n",
        "# target\n",
        "y = 'label'"
      ],
      "metadata": {
        "id": "xTNbcX9cIfmQ"
      },
      "execution_count": null,
      "outputs": []
    },
    {
      "cell_type": "code",
      "source": [
        "# define height and width of image\n",
        "height_img = 180\n",
        "width_img = 180\n",
        "\n",
        "# define random number\n",
        "SEED = 23\n",
        "\n",
        "# define batch\n",
        "BATCH = 512"
      ],
      "metadata": {
        "id": "x6fAVuMnInqG"
      },
      "execution_count": null,
      "outputs": []
    },
    {
      "cell_type": "code",
      "source": [
        "# rescaling\n",
        "inf_datagen= ImageDataGenerator(rescale= 1./255)\n",
        "\n",
        "# include it in the inference dataframe\n",
        "ds_inf= inf_datagen.flow_from_dataframe(\n",
        "    dataframe= df_inf,\n",
        "    x_col= X,\n",
        "    y_col= y,\n",
        "    target_size= (height_img,width_img),\n",
        "    class_mode= 'binary',\n",
        "    batch_size= BATCH,\n",
        "    shuffle= False,\n",
        "    seed= SEED)"
      ],
      "metadata": {
        "colab": {
          "base_uri": "https://localhost:8080/"
        },
        "id": "oqwEo5aAHw4h",
        "outputId": "f4f37d0c-91ee-4f53-891e-db65dadbf0cd"
      },
      "execution_count": null,
      "outputs": [
        {
          "output_type": "stream",
          "name": "stdout",
          "text": [
            "Found 10 validated image filenames belonging to 2 classes.\n"
          ]
        }
      ]
    },
    {
      "cell_type": "code",
      "source": [
        "# Check the label and class of the label\n",
        "\n",
        "inf_class = ds_inf.class_indices\n",
        "print('Inference Set Class Label : ', inf_class)"
      ],
      "metadata": {
        "colab": {
          "base_uri": "https://localhost:8080/"
        },
        "id": "ohFXSHv0KmTM",
        "outputId": "b8e96623-8978-4852-aa70-5c0c385d80bb"
      },
      "execution_count": null,
      "outputs": [
        {
          "output_type": "stream",
          "name": "stdout",
          "text": [
            "Inference Set Class Label :  {'B': 0, 'N': 1}\n"
          ]
        }
      ]
    },
    {
      "cell_type": "markdown",
      "source": [
        "## Model Prediction"
      ],
      "metadata": {
        "id": "NatxceYjJJo-"
      }
    },
    {
      "cell_type": "code",
      "source": [
        "# make predictions\n",
        "y_pred_inf = best_model.predict(ds_inf)\n",
        "# set the threshold for classification\n",
        "y_pred_inf = np.where(y_pred_inf >= 0.5, 1, 0)\n",
        "\n",
        "# make the prediction results into a dataframe\n",
        "y_pred_inf_df = pd.DataFrame(y_pred_inf, columns=['label Prediction'])\n",
        "# value conversion\n",
        "y_pred_inf_df['label Prediction'].replace(to_replace=0, value='B', inplace=True)\n",
        "y_pred_inf_df['label Prediction'].replace(to_replace=1,  value='N', inplace=True)\n",
        "     "
      ],
      "metadata": {
        "id": "pfAlSLTpI6wr",
        "colab": {
          "base_uri": "https://localhost:8080/"
        },
        "outputId": "feba302f-048b-460a-9b0c-889793964ce8"
      },
      "execution_count": null,
      "outputs": [
        {
          "output_type": "stream",
          "name": "stdout",
          "text": [
            "1/1 [==============================] - 3s 3s/step\n"
          ]
        }
      ]
    },
    {
      "cell_type": "code",
      "source": [
        "# concate inference data with prediction result\n",
        "data_inf_predict = pd.concat([df_inf, y_pred_inf_df], axis=1)\n",
        "data_inf_predict"
      ],
      "metadata": {
        "colab": {
          "base_uri": "https://localhost:8080/",
          "height": 363
        },
        "id": "0TxnryEHIdPB",
        "outputId": "94bb86d1-09c8-41ee-80ff-c842d7c24806"
      },
      "execution_count": null,
      "outputs": [
        {
          "output_type": "execute_result",
          "data": {
            "text/plain": [
              "                                              images label label Prediction\n",
              "0  /content/images/TRAIN.1/N/TRAIN.1_NBIODEG_HFL_...     N                N\n",
              "1  /content/images/TRAIN.1/N/TRAIN.1_NBIODEG_CWR_...     N                N\n",
              "2  /content/images/TRAIN.1/N/TRAIN.1_NBIODEG_CWR_...     N                N\n",
              "3  /content/images/TRAIN.1/N/TRAIN.1_NBIODEG_VFL_...     N                N\n",
              "4  /content/images/TRAIN.1/B/TRAIN.1_BIODEG_ORI_1...     B                B\n",
              "5  /content/images/TRAIN.1/N/TRAIN.1_NBIODEG_ORI_...     N                N\n",
              "6  /content/images/TRAIN.1/N/TRAIN.1_NBIODEG_CCW_...     N                N\n",
              "7  /content/images/TRAIN.1/B/TRAIN.1_BIODEG_ORI_2...     B                B\n",
              "8  /content/images/TRAIN.1/B/TRAIN.1_BIODEG_ORI_2...     B                B\n",
              "9  /content/images/TRAIN.1/B/TRAIN.1_BIODEG_ORI_1...     B                B"
            ],
            "text/html": [
              "\n",
              "  <div id=\"df-e925c0dc-f577-4037-aeb8-2739b547f50f\">\n",
              "    <div class=\"colab-df-container\">\n",
              "      <div>\n",
              "<style scoped>\n",
              "    .dataframe tbody tr th:only-of-type {\n",
              "        vertical-align: middle;\n",
              "    }\n",
              "\n",
              "    .dataframe tbody tr th {\n",
              "        vertical-align: top;\n",
              "    }\n",
              "\n",
              "    .dataframe thead th {\n",
              "        text-align: right;\n",
              "    }\n",
              "</style>\n",
              "<table border=\"1\" class=\"dataframe\">\n",
              "  <thead>\n",
              "    <tr style=\"text-align: right;\">\n",
              "      <th></th>\n",
              "      <th>images</th>\n",
              "      <th>label</th>\n",
              "      <th>label Prediction</th>\n",
              "    </tr>\n",
              "  </thead>\n",
              "  <tbody>\n",
              "    <tr>\n",
              "      <th>0</th>\n",
              "      <td>/content/images/TRAIN.1/N/TRAIN.1_NBIODEG_HFL_...</td>\n",
              "      <td>N</td>\n",
              "      <td>N</td>\n",
              "    </tr>\n",
              "    <tr>\n",
              "      <th>1</th>\n",
              "      <td>/content/images/TRAIN.1/N/TRAIN.1_NBIODEG_CWR_...</td>\n",
              "      <td>N</td>\n",
              "      <td>N</td>\n",
              "    </tr>\n",
              "    <tr>\n",
              "      <th>2</th>\n",
              "      <td>/content/images/TRAIN.1/N/TRAIN.1_NBIODEG_CWR_...</td>\n",
              "      <td>N</td>\n",
              "      <td>N</td>\n",
              "    </tr>\n",
              "    <tr>\n",
              "      <th>3</th>\n",
              "      <td>/content/images/TRAIN.1/N/TRAIN.1_NBIODEG_VFL_...</td>\n",
              "      <td>N</td>\n",
              "      <td>N</td>\n",
              "    </tr>\n",
              "    <tr>\n",
              "      <th>4</th>\n",
              "      <td>/content/images/TRAIN.1/B/TRAIN.1_BIODEG_ORI_1...</td>\n",
              "      <td>B</td>\n",
              "      <td>B</td>\n",
              "    </tr>\n",
              "    <tr>\n",
              "      <th>5</th>\n",
              "      <td>/content/images/TRAIN.1/N/TRAIN.1_NBIODEG_ORI_...</td>\n",
              "      <td>N</td>\n",
              "      <td>N</td>\n",
              "    </tr>\n",
              "    <tr>\n",
              "      <th>6</th>\n",
              "      <td>/content/images/TRAIN.1/N/TRAIN.1_NBIODEG_CCW_...</td>\n",
              "      <td>N</td>\n",
              "      <td>N</td>\n",
              "    </tr>\n",
              "    <tr>\n",
              "      <th>7</th>\n",
              "      <td>/content/images/TRAIN.1/B/TRAIN.1_BIODEG_ORI_2...</td>\n",
              "      <td>B</td>\n",
              "      <td>B</td>\n",
              "    </tr>\n",
              "    <tr>\n",
              "      <th>8</th>\n",
              "      <td>/content/images/TRAIN.1/B/TRAIN.1_BIODEG_ORI_2...</td>\n",
              "      <td>B</td>\n",
              "      <td>B</td>\n",
              "    </tr>\n",
              "    <tr>\n",
              "      <th>9</th>\n",
              "      <td>/content/images/TRAIN.1/B/TRAIN.1_BIODEG_ORI_1...</td>\n",
              "      <td>B</td>\n",
              "      <td>B</td>\n",
              "    </tr>\n",
              "  </tbody>\n",
              "</table>\n",
              "</div>\n",
              "      <button class=\"colab-df-convert\" onclick=\"convertToInteractive('df-e925c0dc-f577-4037-aeb8-2739b547f50f')\"\n",
              "              title=\"Convert this dataframe to an interactive table.\"\n",
              "              style=\"display:none;\">\n",
              "        \n",
              "  <svg xmlns=\"http://www.w3.org/2000/svg\" height=\"24px\"viewBox=\"0 0 24 24\"\n",
              "       width=\"24px\">\n",
              "    <path d=\"M0 0h24v24H0V0z\" fill=\"none\"/>\n",
              "    <path d=\"M18.56 5.44l.94 2.06.94-2.06 2.06-.94-2.06-.94-.94-2.06-.94 2.06-2.06.94zm-11 1L8.5 8.5l.94-2.06 2.06-.94-2.06-.94L8.5 2.5l-.94 2.06-2.06.94zm10 10l.94 2.06.94-2.06 2.06-.94-2.06-.94-.94-2.06-.94 2.06-2.06.94z\"/><path d=\"M17.41 7.96l-1.37-1.37c-.4-.4-.92-.59-1.43-.59-.52 0-1.04.2-1.43.59L10.3 9.45l-7.72 7.72c-.78.78-.78 2.05 0 2.83L4 21.41c.39.39.9.59 1.41.59.51 0 1.02-.2 1.41-.59l7.78-7.78 2.81-2.81c.8-.78.8-2.07 0-2.86zM5.41 20L4 18.59l7.72-7.72 1.47 1.35L5.41 20z\"/>\n",
              "  </svg>\n",
              "      </button>\n",
              "      \n",
              "  <style>\n",
              "    .colab-df-container {\n",
              "      display:flex;\n",
              "      flex-wrap:wrap;\n",
              "      gap: 12px;\n",
              "    }\n",
              "\n",
              "    .colab-df-convert {\n",
              "      background-color: #E8F0FE;\n",
              "      border: none;\n",
              "      border-radius: 50%;\n",
              "      cursor: pointer;\n",
              "      display: none;\n",
              "      fill: #1967D2;\n",
              "      height: 32px;\n",
              "      padding: 0 0 0 0;\n",
              "      width: 32px;\n",
              "    }\n",
              "\n",
              "    .colab-df-convert:hover {\n",
              "      background-color: #E2EBFA;\n",
              "      box-shadow: 0px 1px 2px rgba(60, 64, 67, 0.3), 0px 1px 3px 1px rgba(60, 64, 67, 0.15);\n",
              "      fill: #174EA6;\n",
              "    }\n",
              "\n",
              "    [theme=dark] .colab-df-convert {\n",
              "      background-color: #3B4455;\n",
              "      fill: #D2E3FC;\n",
              "    }\n",
              "\n",
              "    [theme=dark] .colab-df-convert:hover {\n",
              "      background-color: #434B5C;\n",
              "      box-shadow: 0px 1px 3px 1px rgba(0, 0, 0, 0.15);\n",
              "      filter: drop-shadow(0px 1px 2px rgba(0, 0, 0, 0.3));\n",
              "      fill: #FFFFFF;\n",
              "    }\n",
              "  </style>\n",
              "\n",
              "      <script>\n",
              "        const buttonEl =\n",
              "          document.querySelector('#df-e925c0dc-f577-4037-aeb8-2739b547f50f button.colab-df-convert');\n",
              "        buttonEl.style.display =\n",
              "          google.colab.kernel.accessAllowed ? 'block' : 'none';\n",
              "\n",
              "        async function convertToInteractive(key) {\n",
              "          const element = document.querySelector('#df-e925c0dc-f577-4037-aeb8-2739b547f50f');\n",
              "          const dataTable =\n",
              "            await google.colab.kernel.invokeFunction('convertToInteractive',\n",
              "                                                     [key], {});\n",
              "          if (!dataTable) return;\n",
              "\n",
              "          const docLinkHtml = 'Like what you see? Visit the ' +\n",
              "            '<a target=\"_blank\" href=https://colab.research.google.com/notebooks/data_table.ipynb>data table notebook</a>'\n",
              "            + ' to learn more about interactive tables.';\n",
              "          element.innerHTML = '';\n",
              "          dataTable['output_type'] = 'display_data';\n",
              "          await google.colab.output.renderOutput(dataTable, element);\n",
              "          const docLink = document.createElement('div');\n",
              "          docLink.innerHTML = docLinkHtml;\n",
              "          element.appendChild(docLink);\n",
              "        }\n",
              "      </script>\n",
              "    </div>\n",
              "  </div>\n",
              "  "
            ]
          },
          "metadata": {},
          "execution_count": 20
        }
      ]
    },
    {
      "cell_type": "markdown",
      "source": [
        "Berdasarkan dataFrame di atas, kita dapat mengetahui bagaimana keakuratan model mengklasifikasikan gambar apakah limbah termasuk material Biodegradable atau Non-biodegradable. Kita dapat melihat bahwa tidak ada perbedaan antara hasil prediksi dengan data aktual. Artinya, model ini sudah bagus untuk mengklasifikasikan limbah termasuk material Biodegradable atau Non-biodegradable dan bisa digunakan oleh beberapa negara untuk memaksimalkan pengelolaan limbah.<br>\n",
        "Hal ini dapat dibuktikan juga pada proses evaluasi model sebelumnya, kita mendapatkan bahwa model ini memiliki performansi terbaik mencapai `akurasi 95-98%` setelah dilakukan improvement."
      ],
      "metadata": {
        "id": "2EOn9QUDEBSK"
      }
    }
  ]
}